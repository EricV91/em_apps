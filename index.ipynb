{
 "cells": [
  {
   "cell_type": "markdown",
   "metadata": {},
   "source": [
    "<a href=\"http://em.geosci.xyz\"><img src=\"./images/emgeosci.png\" style=\"width: 25%; height: 25%\" align=\"right\"></img></a>\n",
    "\n",
    "# EM.geosci examples\n",
    "\n",
    "The purpose of these notebooks is to provide tools for you to investigate fundamental concepts in electromagnetic geophysics. They support **<a href=\"http://em.geosci.xyz\">em.geosci.xyz</a>**, an open source \"textbook\" resource for electromagnetic geophysics.  \n",
    "\n",
    "These notebooks are powered by <a href=\"http://simpeg.xzy\">SimPEG</a>, an open source framework for Simulation and Parameter Estimation in Geophysics.\n",
    "\n",
    "If you have feedback, we would like to hear from you! \n",
    "- <a href=\"http://geosci.xyz/contact\">Contact us</a>\n",
    "- <a href=\"https://github.com/ubcgif/em_examples/issues\">Report issues</a>\n",
    "- <a href=\"https://github.com/ubcgif/em_examples/\">Join the development</a>"
   ]
  },
  {
   "cell_type": "markdown",
   "metadata": {},
   "source": [
    "## Contents\n",
    "\n",
    "Each of the following titles is linked back to the corresponding section in <a href=\"http://em.geosci.xyz\">EM.geosci.xyz</a> and the bullet points below contain links to notebooks. \n",
    "\n",
    "#### <a href=\"http://em.geosci.xyz/content/physical_properties/index.html\">Physical Properties</a>\n",
    "\n",
    "- <a href=\"notebooks/PhyProp_ColeCole.ipynb\"> Cole-Cole response</a> - Complex conductivity \n",
    "\n",
    "#### <a href=\"http://em.geosci.xyz/content/maxwell1_fundamentals/index.html\">Maxwell 1: Fundamentals</a>\n",
    "\n",
    "- <a href=\"notebooks/FDEM_Planewave_Wholespace.ipynb\">FDEM Planewave in Wholespace</a>\n",
    "- <a href=\"notebooks/FDEM_ElectricDipole_Wholespace.ipynb\">FDEM Electric Dipole in Wholespace</a>\n",
    "- <a href=\"notebooks/FDEM_MagneticDipole_Wholespace.ipynb\">FDEM Electric Dipole in Wholespace</a>\n",
    "- <a href=\"notebooks/TDEM_ElectricDipole_Wholespace.ipynb\">TDEM Electric Dipole in Wholespace</a>\n",
    "- <a href=\"notebooks/TDEM_MagneticDipole_Wholespace.ipynb\">TDEM Electric Dipole in Wholespace</a>\n",
    "- <a href=\"notebooks/InductionRLcircuit.ipynb\"> Induction RL circuit (two loops) </a>\n",
    "\n",
    "#### <a href=\"http://em.geosci.xyz/content/maxwell2_dc/index.html\">Maxwell 2: DC</a>\n",
    "\n",
    "- <a href=\"notebooks/DC_Sphere_Constant_E.ipynb\">Electrostatic Sphere</a>\n",
    "- <a href=\"notebooks/DC_LayeredEarth.ipynb\">DC Layered Earth</a>\n",
    "- <a href=\"notebooks/DC_Cylinder_2D.ipynb\">DC 2D Cylinder in Halfspace </a>\n",
    "- <a href=\"notebooks/DC_Cylinder_2_5D.ipynb\">DC 2.5D Cylinder in Halfspace </a>\n",
    "- <a href=\"notebooks/DC_Plate_2D.ipynb\">DC 2D Plate in Halfspace </a>\n",
    "- <a href=\"notebooks/DC_Plate_2_5D.ipynb\">DC 2.5D Plate in Halfspace </a>\n",
    "- <a href=\"notebooks/DC_Layer_Cylinder_2D.ipynb\">DC 2D shielding effects in Halfspace </a>\n",
    "- <a href=\"notebooks/DC_Layer_Cylinder_2_5D.ipynb\">DC 2.5D shielding effects in Halfspace </a>\n",
    "- <a href=\"notebooks/DC_Building_Pseudosections.ipynb\">DC Building Pseudosections</a>\n",
    "\n",
    "\n",
    "#### <a href=\"http://em.geosci.xyz/content/maxwell3_fdem/index.html\">Maxwell 3: FDEM</a>\n",
    "- <a href=\"notebooks/FDEM_VMD_LayeredEarth.ipynb\">FDEM Vertical Magnetic Dipole in Layered-earth</a>\n",
    "\n",
    "#### <a href=\"http://em.geosci.xyz/content/maxwell4_tdem/index.html\">Maxwell 4: TDEM</a>\n",
    "- <a href=\"notebooks/TDEM_HorizontalLoop_LayeredEarth.ipynb\">TDEM Horizontal Circular loop in Layered-earth</a>\n",
    "\n",
    "#### <a href=\"http://em.geosci.xyz/content/geophysical_surveys/index.html\">Geophysical Surveys</a>\n",
    "\n",
    "- <a href=\"notebooks/MT_LayeredEarth.ipynb\">MT Layered earth</a>\n",
    "\n",
    "#### <a href=\"http://em.geosci.xyz/content/case_histories/index.html\">Case Histories</a>\n",
    "\n"
   ]
  },
  {
   "cell_type": "markdown",
   "metadata": {},
   "source": [
    "#### <center>We love open source!</center>\n",
    "\n",
    "<center><a rel=\"license\" href=\"http://creativecommons.org/licenses/by/4.0/\"><img alt=\"Creative Commons License\" style=\"border-width:0\" width=60 src=\"https://i.creativecommons.org/l/by/4.0/88x31.png\" /></a> \n",
    "\n",
    "This work is licensed under a <a rel=\"license\" href=\"http://creativecommons.org/licenses/by/4.0/\">Creative Commons Attribution 4.0 International License</a>.</center>"
   ]
  }
 ],
 "metadata": {
  "anaconda-cloud": {},
  "kernelspec": {
   "display_name": "Python [default]",
   "language": "python",
   "name": "python2"
  },
  "language_info": {
   "codemirror_mode": {
    "name": "ipython",
    "version": 2
   },
   "file_extension": ".py",
   "mimetype": "text/x-python",
   "name": "python",
   "nbconvert_exporter": "python",
   "pygments_lexer": "ipython2",
   "version": "2.7.12"
  }
 },
 "nbformat": 4,
 "nbformat_minor": 0
}
