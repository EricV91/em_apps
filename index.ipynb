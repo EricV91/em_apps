{
 "cells": [
  {
   "cell_type": "markdown",
   "metadata": {},
   "source": [
    "<a href=\"http://em.geosci.xyz\"><img src=\"./images/emgeosci.png\" style=\"width: 25%; height: 25%\" align=\"right\"></img></a>\n",
    "\n",
    "# EM.geosci examples\n",
    "\n",
    "The purpose of these notebooks is to provide tools for you to investigate fundamental concepts in electromagnetic geophysics. They support **<a href=\"http://em.geosci.xyz\">em.geosci.xyz</a>**, an open source \"textbook\" resource for electromagnetic geophysics.  \n",
    "\n",
    "These notebooks are powered by <a href=\"http://simpeg.xzy\">SimPEG</a>, an open source framework for Simulation and Parameter Estimation in Geophysics.\n",
    "\n",
    "If you have feedback, we would like to hear from you! \n",
    "- <a href=\"http://geosci.xyz/contact\">Contact us</a>\n",
    "- <a href=\"https://github.com/ubcgif/em_examples/issues\">Report issues</a>\n",
    "- <a href=\"https://github.com/ubcgif/em_examples/\">Join the development</a>"
   ]
  },
  {
   "cell_type": "markdown",
   "metadata": {},
   "source": [
    "## Contents\n",
    "\n",
    "Each of the following titles is linked back to the corresponding section in <a href=\"http://em.geosci.xyz\">EM.geosci.xyz</a> and the bullet points below contain links to notebooks. \n",
    "\n",
    "#### <a href=\"http://em.geosci.xyz/content/physical_properties/index.html\">Physical Properties</a>\n",
    "\n",
    "- <a href=\"notebooks/physical_properties/ColeCole.ipynb\"> Cole-Cole response</a> - Complex conductivity \n",
    "\n",
    "#### <a href=\"http://em.geosci.xyz/content/maxwell1_fundamentals/index.html\">Maxwell 1: Fundamentals</a>\n",
    "\n",
    "- <a href=\"notebooks/maxwell1_fundamentals/PlanewaveWidget.ipynb\">Plane wave</a>\n",
    "- <a href=\"notebooks/maxwell1_fundamentals/DipoleWidget_ED.ipynb\">Harmonic Electric Dipole</a>\n",
    "- <a href=\"notebooks/maxwell1_fundamentals/DipoleWidget_MD.ipynb\">Harmonic Magnetic Dipole</a>\n",
    "\n",
    "#### <a href=\"http://em.geosci.xyz/content/maxwell2_dc/index.html\">Maxwell 2: DC</a>\n",
    "\n",
    "- <a href=\"notebooks/maxwell2_dc/ElectrostaticSphere_example.ipynb\">Electrostatic Sphere</a>\n",
    "- <a href=\"notebooks/maxwell2_dc/LayeredEarth.ipynb\">Layered Earth</a>\n",
    "\n",
    "#### <a href=\"http://em.geosci.xyz/content/maxwell3_fdem/index.html\">Maxwell 3: FDEM</a>\n",
    "\n",
    "#### <a href=\"http://em.geosci.xyz/content/maxwell4_tdem/index.html\">Maxwell 4: FDEM</a>\n",
    "\n",
    "#### <a href=\"http://em.geosci.xyz/content/geophysical_surveys/index.html\">Geophysical Surveys</a>\n",
    "\n",
    "- <a href=\"notebooks/geophysical_surveys/DCR_Pseudo-section_Simulation.ipynb\">DCR Pseudo-section Simulation</a> - broken at the moment\n",
    "- <a href=\"notebooks/geophysical_surveys/MT_n_layered_earth_example.ipynb\">MT n-layer earth example</a>\n",
    "\n",
    "#### <a href=\"http://em.geosci.xyz/content/case_histories/index.html\">Case Histories</a>\n",
    "\n"
   ]
  },
  {
   "cell_type": "markdown",
   "metadata": {},
   "source": [
    "#### <center>We love open source!</center>\n",
    "\n",
    "<center><a rel=\"license\" href=\"http://creativecommons.org/licenses/by/4.0/\"><img alt=\"Creative Commons License\" style=\"border-width:0\" width=60 src=\"https://i.creativecommons.org/l/by/4.0/88x31.png\" /></a> \n",
    "\n",
    "This work is licensed under a <a rel=\"license\" href=\"http://creativecommons.org/licenses/by/4.0/\">Creative Commons Attribution 4.0 International License</a>.</center>"
   ]
  },
  {
   "cell_type": "code",
   "execution_count": 3,
   "metadata": {
    "collapsed": false
   },
   "outputs": [],
   "source": [
    "import markdown"
   ]
  },
  {
   "cell_type": "code",
   "execution_count": 5,
   "metadata": {
    "collapsed": false
   },
   "outputs": [
    {
     "name": "stdout",
     "output_type": "stream",
     "text": [
      "<h1>em_examples</h1>\n",
      "<p><a href=\"http://mybinder.org/repo/ubcgif/em_examples\"><img alt=\"Binder\" src=\"http://mybinder.org/badge.svg\" /></a></p>\n",
      "<p><a href=\"https://travis-ci.org/ubcgif/em_examples\"><img alt=\"Build Status\" src=\"https://travis-ci.org/ubcgif/em_examples.svg?branch=master\" /></a></p>\n",
      "<p>This is a repo of notebooks and interactive examples for http://em.geosci.xyz. The examples are based on code available in <a href=\"http://simpeg.xyz\">SimPEG</a></p>\n",
      "<h2>For developers</h2>\n",
      "<ul>\n",
      "<li>when you generate a new notebook, please make sure that the filepath to its location follows the same structure as in <a href=\"http://em.geosci.xyz\">EM GeoSci</a></li>\n",
      "<li>add the notebook name and path to theindex (index.ipynb)</li>\n",
      "<li>and update the <a href=\"http://mybinder.org\">binder</a> so it can be shared with the world!</li>\n",
      "</ul>\n",
      "<p><img src=\"./images/binders.png\" width=\"50%\"></p>\n",
      "<h2>In EM GeoSci</h2>\n",
      "<p>To add the binder badge to an rst file, include:</p>\n",
      "<p><code>.. image:: http://mybinder.org/badge.svg :target: http://mybinder.org/repo/ubcgif/em_examples</code></p>\n",
      "<p>and if you would like to point directly to a specific example, append the path to the url, ie.</p>\n",
      "<p><code>.. image:: http://mybinder.org/badge.svg :target: http://mybinder.org/repo/ubcgif/em_examples/notebooks/geophysical_surveys/DCR_Pseudo-section_Simulation.ipynb</code></p>"
     ]
    }
   ],
   "source": [
    "markdown.markdownFromFile('README.md')"
   ]
  },
  {
   "cell_type": "code",
   "execution_count": 7,
   "metadata": {
    "collapsed": true
   },
   "outputs": [],
   "source": [
    "markdown.markdownFromFile?"
   ]
  },
  {
   "cell_type": "code",
   "execution_count": 8,
   "metadata": {
    "collapsed": true
   },
   "outputs": [],
   "source": [
    "import pprint"
   ]
  },
  {
   "cell_type": "code",
   "execution_count": 10,
   "metadata": {
    "collapsed": false
   },
   "outputs": [
    {
     "name": "stdout",
     "output_type": "stream",
     "text": [
      "<h1>em_examples</h1>\n",
      "<p><a href=\"http://mybinder.org/repo/ubcgif/em_examples\"><img alt=\"Binder\" src=\"http://mybinder.org/badge.svg\" /></a></p>\n",
      "<p><a href=\"https://travis-ci.org/ubcgif/em_examples\"><img alt=\"Build Status\" src=\"https://travis-ci.org/ubcgif/em_examples.svg?branch=master\" /></a></p>\n",
      "<p>This is a repo of notebooks and interactive examples for http://em.geosci.xyz. The examples are based on code available in <a href=\"http://simpeg.xyz\">SimPEG</a></p>\n",
      "<h2>For developers</h2>\n",
      "<ul>\n",
      "<li>when you generate a new notebook, please make sure that the filepath to its location follows the same structure as in <a href=\"http://em.geosci.xyz\">EM GeoSci</a></li>\n",
      "<li>add the notebook name and path to theindex (index.ipynb)</li>\n",
      "<li>and update the <a href=\"http://mybinder.org\">binder</a> so it can be shared with the world!</li>\n",
      "</ul>\n",
      "<p><img src=\"./images/binders.png\" width=\"50%\"></p>\n",
      "<h2>In EM GeoSci</h2>\n",
      "<p>To add the binder badge to an rst file, include:</p>\n",
      "<p><code>.. image:: http://mybinder.org/badge.svg :target: http://mybinder.org/repo/ubcgif/em_examples</code></p>\n",
      "<p>and if you would like to point directly to a specific example, append the path to the url, ie.</p>\n",
      "<p><code>.. image:: http://mybinder.org/badge.svg :target: http://mybinder.org/repo/ubcgif/em_examples/notebooks/geophysical_surveys/DCR_Pseudo-section_Simulation.ipynb</code></p>"
     ]
    },
    {
     "ename": "TypeError",
     "evalue": "int() argument must be a string or a number, not 'NoneType'",
     "output_type": "error",
     "traceback": [
      "\u001b[0;31m---------------------------------------------------------------------------\u001b[0m",
      "\u001b[0;31mTypeError\u001b[0m                                 Traceback (most recent call last)",
      "\u001b[0;32m<ipython-input-10-7160d74c756a>\u001b[0m in \u001b[0;36m<module>\u001b[0;34m()\u001b[0m\n\u001b[0;32m----> 1\u001b[0;31m \u001b[0mpprint\u001b[0m\u001b[0;34m.\u001b[0m\u001b[0mPrettyPrinter\u001b[0m\u001b[0;34m(\u001b[0m\u001b[0mmarkdown\u001b[0m\u001b[0;34m.\u001b[0m\u001b[0mmarkdownFromFile\u001b[0m\u001b[0;34m(\u001b[0m\u001b[0;34m'README.md'\u001b[0m\u001b[0;34m)\u001b[0m\u001b[0;34m)\u001b[0m\u001b[0;34m\u001b[0m\u001b[0m\n\u001b[0m",
      "\u001b[0;32m//anaconda/lib/python2.7/pprint.pyc\u001b[0m in \u001b[0;36m__init__\u001b[0;34m(self, indent, width, depth, stream)\u001b[0m\n\u001b[1;32m    101\u001b[0m \u001b[0;34m\u001b[0m\u001b[0m\n\u001b[1;32m    102\u001b[0m         \"\"\"\n\u001b[0;32m--> 103\u001b[0;31m         \u001b[0mindent\u001b[0m \u001b[0;34m=\u001b[0m \u001b[0mint\u001b[0m\u001b[0;34m(\u001b[0m\u001b[0mindent\u001b[0m\u001b[0;34m)\u001b[0m\u001b[0;34m\u001b[0m\u001b[0m\n\u001b[0m\u001b[1;32m    104\u001b[0m         \u001b[0mwidth\u001b[0m \u001b[0;34m=\u001b[0m \u001b[0mint\u001b[0m\u001b[0;34m(\u001b[0m\u001b[0mwidth\u001b[0m\u001b[0;34m)\u001b[0m\u001b[0;34m\u001b[0m\u001b[0m\n\u001b[1;32m    105\u001b[0m         \u001b[0;32massert\u001b[0m \u001b[0mindent\u001b[0m \u001b[0;34m>=\u001b[0m \u001b[0;36m0\u001b[0m\u001b[0;34m,\u001b[0m \u001b[0;34m\"indent must be >= 0\"\u001b[0m\u001b[0;34m\u001b[0m\u001b[0m\n",
      "\u001b[0;31mTypeError\u001b[0m: int() argument must be a string or a number, not 'NoneType'"
     ]
    }
   ],
   "source": [
    "pprint.PrettyPrinter(markdown.markdownFromFile('README.md'))"
   ]
  },
  {
   "cell_type": "code",
   "execution_count": 25,
   "metadata": {
    "collapsed": false
   },
   "outputs": [
    {
     "name": "stdout",
     "output_type": "stream",
     "text": [
      "# em_examples\n",
      "\n",
      "[![Binder](http://mybinder.org/badge.svg)](http://mybinder.org/repo/ubcgif/em_examples)\n",
      "\n",
      "[![Build Status](https://travis-ci.org/ubcgif/em_examples.svg?branch=master)](https://travis-ci.org/ubcgif/em_examples)\n",
      "\n",
      "This is a repo of notebooks and interactive examples for http://em.geosci.xyz. The examples are based on code available in [SimPEG](http://simpeg.xyz)\n",
      "\n",
      "## For developers\n",
      "- when you generate a new notebook, please make sure that the filepath to its location follows the same structure as in [EM GeoSci](http://em.geosci.xyz)\n",
      "- add the notebook name and path to theindex (index.ipynb)\n",
      "- and update the [binder](http://mybinder.org) so it can be shared with the world!\n",
      "\n",
      "<img src=\"./images/binders.png\" width=\"50%\">\n",
      "\n",
      "\n",
      "## In EM GeoSci\n",
      "\n",
      "To add the binder badge to an rst file, include:\n",
      "\n",
      "```\n",
      ".. image:: http://mybinder.org/badge.svg :target: http://mybinder.org/repo/ubcgif/em_examples\n",
      "```\n",
      "\n",
      "and if you would like to point directly to a specific example, append the path to the url, ie.\n",
      "\n",
      "```\n",
      ".. image:: http://mybinder.org/badge.svg :target: http://mybinder.org/repo/ubcgif/em_examples/notebooks/geophysical_surveys/DCR_Pseudo-section_Simulation.ipynb\n",
      "```\n",
      "\n"
     ]
    }
   ],
   "source": [
    "f = open('README.md')\n",
    "print '{}'.format(f.read())\n",
    "# print "
   ]
  },
  {
   "cell_type": "code",
   "execution_count": null,
   "metadata": {
    "collapsed": true
   },
   "outputs": [],
   "source": [
    "print f.read"
   ]
  },
  {
   "cell_type": "code",
   "execution_count": null,
   "metadata": {
    "collapsed": true
   },
   "outputs": [],
   "source": [
    "print f.read"
   ]
  },
  {
   "cell_type": "code",
   "execution_count": null,
   "metadata": {
    "collapsed": true
   },
   "outputs": [],
   "source": []
  }
 ],
 "metadata": {
  "anaconda-cloud": {},
  "kernelspec": {
   "display_name": "Python [default]",
   "language": "python",
   "name": "python2"
  },
  "language_info": {
   "codemirror_mode": {
    "name": "ipython",
    "version": 2
   },
   "file_extension": ".py",
   "mimetype": "text/x-python",
   "name": "python",
   "nbconvert_exporter": "python",
   "pygments_lexer": "ipython2",
   "version": "2.7.12"
  }
 },
 "nbformat": 4,
 "nbformat_minor": 0
}
