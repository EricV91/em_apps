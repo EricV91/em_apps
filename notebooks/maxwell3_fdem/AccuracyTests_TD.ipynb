{
 "cells": [
  {
   "cell_type": "code",
   "execution_count": null,
   "metadata": {
    "collapsed": false
   },
   "outputs": [],
   "source": [
    "from SimPEG import Mesh, Maps, EM, Utils\n",
    "import numpy as np\n",
    "from em_examples.TransientVMDCylWidget import TransientVMDCylWidget\n",
    "%pylab inline"
   ]
  },
  {
   "cell_type": "code",
   "execution_count": null,
   "metadata": {
    "collapsed": false
   },
   "outputs": [],
   "source": [
    "vmd = TransientVMDCylWidget()\n",
    "m = vmd.setThreeLayerParam()"
   ]
  },
  {
   "cell_type": "code",
   "execution_count": null,
   "metadata": {
    "collapsed": false
   },
   "outputs": [],
   "source": [
    "vmd.mesh.plotGrid()"
   ]
  },
  {
   "cell_type": "code",
   "execution_count": null,
   "metadata": {
    "collapsed": false
   },
   "outputs": [],
   "source": [
    "%%time\n",
    "rxOffset = 0.\n",
    "radius = 1.\n",
    "rxLoc = np.array([[rxOffset, 0., 0.]])\n",
    "time = np.logspace(-5, -2, 41)         \n",
    "bz = EM.TDEM.Rx(rxLoc,time,'bz')\n",
    "dbzdt = EM.TDEM.Rx(rxLoc,time,'dbzdt')\n",
    "src = EM.TDEM.Src.CircularLoop([bz],\n",
    "                               waveform=EM.TDEM.Src.StepOffWaveform(),\n",
    "                               loc=np.array([0., 0., 0.]), radius=radius)\n",
    "prb = EM.TDEM.Problem3D_b(vmd.mesh, sigmaMap=vmd.mapping)\n",
    "prb.timeSteps = [(1e-06, 10), (5e-06, 10), (1e-05, 10), (5e-5, 10), (1e-4, 10), (5e-4, 10), (1e-3, 10)]\n",
    "survey = EM.TDEM.Survey([src])\n",
    "prb.pair(survey)\n",
    "m1 = np.zeros_like(m) + 1.\n",
    "f = prb.fields(m1)\n",
    "prb = prb\n",
    "dpred = survey.dpred(m, f=f)"
   ]
  },
  {
   "cell_type": "code",
   "execution_count": null,
   "metadata": {
    "collapsed": false
   },
   "outputs": [],
   "source": [
    "f[src, 'bSolution', :].shape"
   ]
  },
  {
   "cell_type": "code",
   "execution_count": null,
   "metadata": {
    "collapsed": false
   },
   "outputs": [],
   "source": [
    "prb.times[10]"
   ]
  },
  {
   "cell_type": "code",
   "execution_count": null,
   "metadata": {
    "collapsed": false
   },
   "outputs": [],
   "source": [
    "from scipy.constants import mu_0\n",
    "sig = np.unique(m1)[0]\n",
    "dana = EM.Analytics.hzAnalyticCentLoopT(radius, time, sig) * mu_0"
   ]
  },
  {
   "cell_type": "code",
   "execution_count": null,
   "metadata": {
    "collapsed": false
   },
   "outputs": [],
   "source": [
    "EM.Analytics.hzAnalyticDipoleT?"
   ]
  },
  {
   "cell_type": "code",
   "execution_count": null,
   "metadata": {
    "collapsed": false
   },
   "outputs": [],
   "source": [
    "plt.loglog(time, dpred)\n",
    "plt.loglog(time, dana)"
   ]
  },
  {
   "cell_type": "code",
   "execution_count": null,
   "metadata": {
    "collapsed": true
   },
   "outputs": [],
   "source": []
  }
 ],
 "metadata": {
  "anaconda-cloud": {},
  "kernelspec": {
   "display_name": "Python [default]",
   "language": "python",
   "name": "python2"
  },
  "language_info": {
   "codemirror_mode": {
    "name": "ipython",
    "version": 2
   },
   "file_extension": ".py",
   "mimetype": "text/x-python",
   "name": "python",
   "nbconvert_exporter": "python",
   "pygments_lexer": "ipython2",
   "version": "2.7.12"
  }
 },
 "nbformat": 4,
 "nbformat_minor": 1
}
