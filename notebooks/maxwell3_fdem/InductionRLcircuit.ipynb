{
 "cells": [
  {
   "cell_type": "markdown",
   "metadata": {},
   "source": [
    "# FDEM Induction Loop Widget\n",
    "\n",
    "This widget allows the used to predict the induced electrical current within a circular loop."
   ]
  },
  {
   "cell_type": "code",
   "execution_count": null,
   "metadata": {
    "collapsed": false
   },
   "outputs": [],
   "source": [
    "# IMPORT PACKAGES\n",
    "import InductionExFD as IND\n",
    "from ipywidgets import interact, FloatSlider, FloatText"
   ]
  },
  {
   "cell_type": "markdown",
   "metadata": {},
   "source": [
    "## Parameter Descriptions\n",
    "\n",
    "The adjustable parameters for the widget are summarized below:\n",
    "\n",
    "* $I$: Transmitter current [A]\n",
    "* $a_{Tx}$: Transmitter loop radius\n",
    "* $a_{Rx}$: Receiver loop radius\n",
    "* $x_{Rx}$: Receiver x position\n",
    "* $z_{Rx}$: Receiver z position\n",
    "* $\\phi$: Receiver normal vector relative to vertical [degrees]\n",
    "* $R$: Resistance of receiver loop [$\\Omega$]\n",
    "* $L$: Inductance of receiver loop [H]\n",
    "* $f$: Specific frequency [Hz]\n",
    "* $t$: Specific time [s]"
   ]
  },
  {
   "cell_type": "markdown",
   "metadata": {},
   "source": [
    "## Theory for a Harmonic Current\n",
    "\n",
    "Consider a transmitter loop which carries a primary current:\n",
    "\\begin{equation}\n",
    "I_p(t) = I_p \\textrm{cos} (\\omega t)\n",
    "\\end{equation}\n",
    "According to the Biot-Savart law, this results in a primary magnetic field:\n",
    "\\begin{equation}\n",
    "\\mathbf{B_p} (\\mathbf{r},t) = I_p \\boldsymbol{\\beta} \\textrm{cos} (\\omega t) \n",
    "\\end{equation}\n",
    "where $\\boldsymbol{\\beta}$ contains the problem geometry. If the magnetic field is homogeneous through the receiver loop, the primary field generates an EMF equal to:\n",
    "\\begin{equation}\n",
    "EMF = - A \\hat n \\cdot \\frac{\\partial \\mathbf{B_p}}{\\partial t} = \\omega I_p \\big ( A \\hat n \\cdot \\boldsymbol{\\beta} \\big ) \\textrm{sin} (\\omega t)\n",
    "\\end{equation}\n",
    "The EMF is responsible for inducing a secondary current within the receiver loop. The secondary current $I_s$ is characterized by the following ODE:\n",
    "\\begin{equation}\n",
    "V = \\omega I_p \\big ( A \\hat n \\cdot \\boldsymbol{\\beta} \\big ) \\textrm{sin} (\\omega t) = I_s R + L \\frac{dI_s}{dt}\n",
    "\\end{equation}\n",
    "This has a solution of the form:\n",
    "\\begin{equation}\n",
    "I_s (t) = \\alpha \\textrm{cos} (\\omega t - \\psi)\n",
    "\\end{equation}\n",
    "where $\\alpha$ is the amplitude of the secondary current and $\\psi$ is the phase lag. By solving the ODE we find that:\n",
    "\\begin{equation}\n",
    "I_s (t) = - \\frac{\\omega I_p A_\\perp \\beta}{R \\textrm{sin} \\psi + \\omega L \\textrm{cos} \\psi} \\textrm{cos} (\\omega t -\\psi) \\;\\;\\;\\;\\; \\textrm{where} \\;\\;\\;\\;\\; \\psi = \\textrm{tan}^{-1} \\Bigg [ \\frac{\\omega L}{R} \\Bigg ]\n",
    "\\end{equation}"
   ]
  },
  {
   "cell_type": "code",
   "execution_count": null,
   "metadata": {
    "collapsed": false
   },
   "outputs": [],
   "source": [
    "# RUN COSINE WIDGET\n",
    "interact(IND.fcn_Cosine_Widget,I=FloatText(min=0.01,max=100.,value=1.,description = \"$I$\"),\\\n",
    "                        a1=FloatText(min=1.,max=20.,value=10.,description = \"$a_{Tx}$\"),\\\n",
    "                        a2=FloatText(min=1.,max=20.,value=5.,description = \"$a_{Rx}$\"),\\\n",
    "                        xRx=FloatText(min=-15.,max=15.,value=0.,description = \"$x_{Rx}$\"),\\\n",
    "                        zRx=FloatText(min=-15.,max=15.,value=-5.,description = \"$z_{Rx}$\"),\\\n",
    "                        azm=FloatText(min=-90.,max=90.,value=0.,description = \"$\\phi$\"),\\\n",
    "                        R=FloatText(min=1e0,max=1e6,value=1e2,description = \"$R$\"),\\\n",
    "                        L=FloatText(min=1e-7,max=1e-2,value=1e-4,description = \"$L$\"),\\\n",
    "                        f=FloatText(min=1e0,max=1e8,value=1e5,description = \"$f$\"))"
   ]
  },
  {
   "cell_type": "markdown",
   "metadata": {},
   "source": [
    "## Theory for Harmonic Current\n",
    "\n",
    "Consider a transmitter loop which carries a harmonic primary current:\n",
    "\\begin{equation}\n",
    "I_p(\\omega) = I_p \\textrm{e}^{-i \\omega t}\n",
    "\\end{equation}\n",
    "According to the Biot-Savart law, this results in a primary magnetic field:\n",
    "\\begin{equation}\n",
    "\\mathbf{B_p} (\\mathbf{r},t) = I_p \\boldsymbol{\\beta} \\textrm{cos} (\\omega t) \n",
    "\\end{equation}\n",
    "where $\\boldsymbol{\\beta}$ contains the problem geometry. If the magnetic field is homogeneous through the receiver loop, the primary field generates an EMF equal to:\n",
    "\\begin{equation}\n",
    "EMF = - A \\hat n \\cdot \\frac{\\partial \\mathbf{B_p}}{\\partial t} = \\omega I_p \\big ( A \\hat n \\cdot \\boldsymbol{\\beta} \\big ) \\textrm{sin} (\\omega t)\n",
    "\\end{equation}\n",
    "The EMF is responsible for inducing a secondary current within the receiver loop. The secondary current $I_s$ is characterized by the following ODE:\n",
    "\\begin{equation}\n",
    "V = \\omega I_p \\big ( A \\hat n \\cdot \\boldsymbol{\\beta} \\big ) \\textrm{sin} (\\omega t) = I_s R + L \\frac{dI_s}{dt}\n",
    "\\end{equation}\n",
    "This has a solution of the form:\n",
    "\\begin{equation}\n",
    "I_s (t) = \\alpha \\textrm{cos} (\\omega t - \\psi)\n",
    "\\end{equation}\n",
    "where $\\alpha$ is the amplitude of the secondary current and $\\psi$ is the phase lag. By solving the ODE we find that:\n",
    "\\begin{equation}\n",
    "I_s (t) = - \\frac{\\omega I_p A_\\perp \\beta}{R \\textrm{sin} \\psi + \\omega L \\textrm{cos} \\psi} \\textrm{cos} (\\omega t -\\psi) \\;\\;\\;\\;\\; \\textrm{where} \\;\\;\\;\\;\\; \\psi = \\textrm{tan}^{-1} \\Bigg [ \\frac{\\omega L}{R} \\Bigg ]\n",
    "\\end{equation}"
   ]
  },
  {
   "cell_type": "code",
   "execution_count": null,
   "metadata": {
    "collapsed": false
   },
   "outputs": [],
   "source": [
    "# RUN FREQUENCY DOMAIN WIDGET\n",
    "interact(IND.fcn_FDEM_Widget,I=FloatText(min=0.01,max=100.,value=1.,description = \"$I$\"),\\\n",
    "                        a1=FloatText(min=1.,max=20.,value=10.,description = \"$a_{Tx}$\"),\\\n",
    "                        a2=FloatText(min=1.,max=20.,value=5.,description = \"$a_{Rx}$\"),\\\n",
    "                        xRx=FloatText(min=-15.,max=15.,value=0.,description = \"$x_{Rx}$\"),\\\n",
    "                        zRx=FloatText(min=-15.,max=15.,value=-5.,description = \"$z_{Rx}$\"),\\\n",
    "                        azm=FloatText(min=-90.,max=90.,value=0.,description = \"$\\phi$\"),\\\n",
    "                        R=FloatText(min=1e0,max=1e6,value=1e2,description = \"$R$\"),\\\n",
    "                        L=FloatText(min=1e-7,max=1e-2,value=1e-4,description = \"$L$\"),\\\n",
    "                        f=FloatText(min=1e0,max=1e8,value=1e5,description = \"$f$\"))\n",
    "    \n",
    "    "
   ]
  },
  {
   "cell_type": "markdown",
   "metadata": {
    "collapsed": false
   },
   "source": [
    "## Theory for Transient Response\n",
    "\n"
   ]
  },
  {
   "cell_type": "code",
   "execution_count": null,
   "metadata": {
    "collapsed": false
   },
   "outputs": [],
   "source": [
    "# RUN TRANSIENT WIDGET\n",
    "interact(IND.fcn_TDEM_Widget,I=FloatText(min=0.01,max=100.,value=1.,description = \"$I$\"),\\\n",
    "                        a1=FloatText(min=1.,max=20.,value=10.,description = \"$a_{Tx}$\"),\\\n",
    "                        a2=FloatText(min=1.,max=20.,value=5.,description = \"$a_{Rx}$\"),\\\n",
    "                        xRx=FloatText(min=-15.,max=15.,value=0.,description = \"$x_{Rx}$\"),\\\n",
    "                        zRx=FloatText(min=-15.,max=15.,value=-5.,description = \"$z_{Rx}$\"),\\\n",
    "                        azm=FloatText(min=-90.,max=90.,value=0.,description = \"$\\phi$\"),\\\n",
    "                        R=FloatText(min=1e0,max=1e6,value=1e2,description = \"$R$\"),\\\n",
    "                        L=FloatText(min=1e-7,max=1e-2,value=1e-4,description = \"$L$\"),\\\n",
    "                        t=FloatText(min=1e-6,max=1e-2,value=1e-4,description = \"$t$\"))\n",
    "    "
   ]
  },
  {
   "cell_type": "code",
   "execution_count": null,
   "metadata": {
    "collapsed": true
   },
   "outputs": [],
   "source": []
  }
 ],
 "metadata": {
  "anaconda-cloud": {},
  "kernelspec": {
   "display_name": "Python [default]",
   "language": "python",
   "name": "python2"
  },
  "language_info": {
   "codemirror_mode": {
    "name": "ipython",
    "version": 2
   },
   "file_extension": ".py",
   "mimetype": "text/x-python",
   "name": "python",
   "nbconvert_exporter": "python",
   "pygments_lexer": "ipython2",
   "version": "2.7.12"
  }
 },
 "nbformat": 4,
 "nbformat_minor": 1
}
