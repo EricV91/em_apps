{
 "cells": [
  {
   "cell_type": "code",
   "execution_count": null,
   "metadata": {
    "collapsed": false
   },
   "outputs": [],
   "source": [
    "from em_examples.MT import * \n",
    "# from SimPEG.Examples.MT_1D_analytic_nlayer_Earth import *\n",
    "from ipywidgets import *\n",
    "% matplotlib inline"
   ]
  },
  {
   "cell_type": "markdown",
   "metadata": {},
   "source": [
    "# MT: 1 to 3 layers forward Modelling"
   ]
  },
  {
   "cell_type": "markdown",
   "metadata": {},
   "source": [
    "Here you can visualize MT response of a layered earth, up to 3 layers in this interactive notebook.\n",
    "\n",
    "**h** (i): thickness of the layer i. Put it to zero to remove one layer\n",
    "\n",
    "**sigl**(i): log of the electrical conductivity of the layer i, in S/m (ex: sigl3= -5 means a conductivity of $10^{-5}$ S/m)\n",
    "\n",
    "**epsl**(i): relative dielectric permittivity $\\varepsilon_r$ of the layer i\n",
    "\n",
    "**mul**(i): relative magnetic permittivity $\\mu_r$ of the layer i\n",
    "\n",
    "**PlotEnvelope**: If activated (might be slow), plot the envelope of the E and H field for a given frequency (see fenvelope)\n",
    "\n",
    "**F_envelope**:plot the envelope for of the waves at 'F_envelope' Hz\n",
    "\n",
    "\n"
   ]
  },
  {
   "cell_type": "code",
   "execution_count": null,
   "metadata": {
    "collapsed": false,
    "scrolled": false
   },
   "outputs": [],
   "source": [
    "interact(PlotAppRes3LayersInteract,h1=FloatSlider(min=0.,max=1000.,step=20.,value=100.),\n",
    "             h2=FloatSlider(min=0.,max=1000.,step=20.,value=1000.),sigl1=FloatSlider(min=-5.,max=0.,step=0.5,value=-1.),\n",
    "             sigl2=FloatSlider(min=-5.,max=0.,step=0.5,value=-3),sigl3=FloatSlider(min=-5.,max=0.,step=0.5,value=-1),\n",
    "             mul1=FloatSlider(min=1.,max=1.2,step=0.01,value=1.),mul2=FloatSlider(min=1.,max=1.2,step=0.01,value=1.),\n",
    "             mul3=FloatSlider(min=1.,max=1.2,step=0.01,value=1.),epsl1=FloatSlider(min=1.,max=80.,step=1.,value=1.),\n",
    "             epsl2=FloatSlider(min=1.,max=80.,step=1,value=3.),epsl3=FloatSlider(min=1.,max=80.,step=1.,value=80.),\n",
    "             PlotEnvelope=ToggleButton(),F_Envelope=FloatText(1e4))"
   ]
  },
  {
   "cell_type": "code",
   "execution_count": null,
   "metadata": {
    "collapsed": true
   },
   "outputs": [],
   "source": []
  }
 ],
 "metadata": {
  "kernelspec": {
   "display_name": "Python 2",
   "language": "python",
   "name": "python2"
  },
  "language_info": {
   "codemirror_mode": {
    "name": "ipython",
    "version": 2
   },
   "file_extension": ".py",
   "mimetype": "text/x-python",
   "name": "python",
   "nbconvert_exporter": "python",
   "pygments_lexer": "ipython2",
   "version": "2.7.11"
  }
 },
 "nbformat": 4,
 "nbformat_minor": 0
}
