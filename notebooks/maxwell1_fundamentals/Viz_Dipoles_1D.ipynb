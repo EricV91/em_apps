{
 "cells": [
  {
   "cell_type": "code",
   "execution_count": 1,
   "metadata": {
    "collapsed": false
   },
   "outputs": [
    {
     "name": "stderr",
     "output_type": "stream",
     "text": [
      "//anaconda/lib/python2.7/site-packages/matplotlib/font_manager.py:273: UserWarning: Matplotlib is building the font cache using fc-list. This may take a moment.\n",
      "  warnings.warn('Matplotlib is building the font cache using fc-list. This may take a moment.')\n"
     ]
    },
    {
     "ename": "ImportError",
     "evalue": "No module named em_Examples.View",
     "output_type": "error",
     "traceback": [
      "\u001b[0;31m---------------------------------------------------------------------------\u001b[0m",
      "\u001b[0;31mImportError\u001b[0m                               Traceback (most recent call last)",
      "\u001b[0;32m<ipython-input-1-3cb2ca55de90>\u001b[0m in \u001b[0;36m<module>\u001b[0;34m()\u001b[0m\n\u001b[1;32m      2\u001b[0m \u001b[0mget_ipython\u001b[0m\u001b[0;34m(\u001b[0m\u001b[0;34m)\u001b[0m\u001b[0;34m.\u001b[0m\u001b[0mmagic\u001b[0m\u001b[0;34m(\u001b[0m\u001b[0;34mu'matplotlib inline'\u001b[0m\u001b[0;34m)\u001b[0m\u001b[0;34m\u001b[0m\u001b[0m\n\u001b[1;32m      3\u001b[0m \u001b[0;32mimport\u001b[0m \u001b[0mmatplotlib\u001b[0m\u001b[0;34m.\u001b[0m\u001b[0mpyplot\u001b[0m \u001b[0;32mas\u001b[0m \u001b[0mplt\u001b[0m\u001b[0;34m\u001b[0m\u001b[0m\n\u001b[0;32m----> 4\u001b[0;31m \u001b[0;32mfrom\u001b[0m \u001b[0mem_Examples\u001b[0m\u001b[0;34m.\u001b[0m\u001b[0mView\u001b[0m \u001b[0;32mimport\u001b[0m \u001b[0mDataView\u001b[0m\u001b[0;34m\u001b[0m\u001b[0m\n\u001b[0m\u001b[1;32m      5\u001b[0m \u001b[0;32mimport\u001b[0m \u001b[0mcopy\u001b[0m\u001b[0;34m\u001b[0m\u001b[0m\n\u001b[1;32m      6\u001b[0m \u001b[0;32mfrom\u001b[0m \u001b[0mipywidgets\u001b[0m \u001b[0;32mimport\u001b[0m \u001b[0;34m*\u001b[0m\u001b[0;34m\u001b[0m\u001b[0m\n",
      "\u001b[0;31mImportError\u001b[0m: No module named em_Examples.View"
     ]
    }
   ],
   "source": [
    "from SimPEG import Mesh, EM, np\n",
    "%matplotlib inline\n",
    "import matplotlib.pyplot as plt\n",
    "from em_examples.View import DataView\n",
    "import copy\n",
    "from ipywidgets import *"
   ]
  },
  {
   "cell_type": "markdown",
   "metadata": {},
   "source": [
    "#  Set-up DataView using EM analytic functions"
   ]
  },
  {
   "cell_type": "code",
   "execution_count": null,
   "metadata": {
    "collapsed": false
   },
   "outputs": [],
   "source": [
    "#EM.Analytics.E_from_ElectricDipoleWholeSpace??"
   ]
  },
  {
   "cell_type": "code",
   "execution_count": null,
   "metadata": {
    "collapsed": false
   },
   "outputs": [],
   "source": [
    "x = np.linspace(-100., 100., 200)\n",
    "y = np.linspace(-100., 100., 200)\n",
    "self = DataView()\n",
    "srcLoc = np.r_[0., 0., 0.] # source location\n",
    "sig, f = 1e-3, np.r_[1e1]  # conductivity (S/m), frequency (Hz)\n",
    "self.set_xyz(x,y, np.r_[0.], normal=\"Z\") # set plane and locations ... \n",
    "self.eval_2D(srcLoc, sig, f, \"x\", EM.Analytics.E_from_ElectricDipoleWholeSpace) # evaluate"
   ]
  },
  {
   "cell_type": "code",
   "execution_count": null,
   "metadata": {
    "collapsed": false
   },
   "outputs": [],
   "source": []
  },
  {
   "cell_type": "code",
   "execution_count": null,
   "metadata": {
    "collapsed": false
   },
   "outputs": [],
   "source": [
    "sigvec = np.logspace(-2,9,200)\n",
    "fvec = np.logspace(-5,8,200)\n",
    "obsLoc=np.c_[1,1,0]\n",
    "self.eval_loc(srcLoc,obsLoc, sigvec, fvec, \"x\", EM.Analytics.E_from_ElectricDipoleWholeSpace)"
   ]
  },
  {
   "cell_type": "code",
   "execution_count": null,
   "metadata": {
    "collapsed": false
   },
   "outputs": [],
   "source": [
    "fig = plt.figure(figsize=(10,3))\n",
    "ax0=plt.subplot(121)\n",
    "ax1=plt.subplot(122)\n",
    "start=np.r_[-100.,0.]\n",
    "end=np.r_[100.,0.]\n",
    "nbmp=100\n",
    "ax0,ax1 = self.plot_1D_AP_section(start,end,nbmp,\"x\",ax0,ax1)\n",
    "ax0.set_yscale(\"Log\")\n",
    "plt.tight_layout()"
   ]
  },
  {
   "cell_type": "code",
   "execution_count": null,
   "metadata": {
    "collapsed": false
   },
   "outputs": [],
   "source": [
    "fig = plt.figure(figsize=(10,3))\n",
    "ax0=plt.subplot(121)\n",
    "ax1=plt.subplot(122)\n",
    "start=np.r_[-100.,0.]\n",
    "end=np.r_[100.,0.]\n",
    "nbmp=100\n",
    "ax0,ax1 = self.plot_1D_RI_section(start,end,nbmp,\"x\",ax0,ax1)\n",
    "ax0.set_yscale(\"Log\")\n",
    "plt.tight_layout()"
   ]
  },
  {
   "cell_type": "code",
   "execution_count": null,
   "metadata": {
    "collapsed": false
   },
   "outputs": [],
   "source": [
    "sigind = IntSlider(min=0, max =len(sigvec)-1, step=1,value=10)\n",
    "freqind = IntSlider(min=0, max =len(fvec)-1, step=1,value=10)\n",
    "obslocx = IntSlider(min=-100, max =100, step=1,value=0)\n",
    "obslocy = IntSlider(min=-100, max =100, step=1,value=0)\n",
    "obslocz = IntSlider(min=-100, max =100, step=1,value=1)\n",
    "mode = ToggleButtons(options=['RI','AP'],value='RI')\n",
    "interact(self.plot_1D_x,sigind=sigind,freqind=freqind,mode=mode,obslocx=obslocx,obslocy=obslocy,obslocz=obslocz)"
   ]
  },
  {
   "cell_type": "code",
   "execution_count": null,
   "metadata": {
    "collapsed": false
   },
   "outputs": [],
   "source": [
    "sigind=45\n",
    "freqind=70\n",
    "\n",
    "absloc=1.\n",
    "coordloc=1.\n",
    "\n",
    "figfig = plt.figure(figsize=(50,25))\n",
    "ax0 = plt.subplot(521)\n",
    "ax1 = plt.subplot(522)\n",
    "ax2 = plt.subplot(523)\n",
    "ax3 = plt.subplot(524)\n",
    "ax4 = plt.subplot(525)\n",
    "ax5 = plt.subplot(526)\n",
    "ax6 = plt.subplot(527)\n",
    "ax7 = plt.subplot(528)\n",
    "ax8 = plt.subplot(529)\n",
    "ax9 = plt.subplot(5,2,10)\n",
    "\n",
    "ax0,ax1 = self.plot_1D_AP_f_x(absloc,coordloc,ax0,ax1,sigind)\n",
    "ax2,ax3 = self.plot_1D_AP_sig_x(absloc,coordloc,ax2,ax3,freqind)\n",
    "ax4,ax5 = self.plot_1D_RI_f_x(absloc,coordloc,ax4,ax5,sigind)\n",
    "ax6,ax7 = self.plot_1D_RI_sig_x(absloc,coordloc,ax6,ax7,freqind)\n",
    "ax8 = self.plot_1D_phasor_f_x(absloc,coordloc,ax8,sigind)\n",
    "ax9 = self.plot_1D_phasor_sig_x(absloc,coordloc,ax9,freqind)\n",
    "\n",
    "plt.tight_layout()"
   ]
  },
  {
   "cell_type": "code",
   "execution_count": null,
   "metadata": {
    "collapsed": false
   },
   "outputs": [],
   "source": [
    "fig = plt.figure()\n",
    "ax0 = plt.subplot(111)\n",
    "ax1 = ax0.twinx()\n",
    "ax0, ax1 = self.plot_1D_AP_f_x(absloc,coordloc,ax0,ax1,sigind)"
   ]
  },
  {
   "cell_type": "code",
   "execution_count": null,
   "metadata": {
    "collapsed": false
   },
   "outputs": [],
   "source": [
    "sigind=45\n",
    "freqind=70\n",
    "\n",
    "absloc=1.\n",
    "coordloc=1.\n",
    "\n",
    "figfig = plt.figure(figsize=(50,25))\n",
    "ax0 = plt.subplot(521)\n",
    "ax1 = plt.subplot(522)\n",
    "ax2 = plt.subplot(523)\n",
    "ax3 = plt.subplot(524)\n",
    "ax4 = plt.subplot(525)\n",
    "ax5 = plt.subplot(526)\n",
    "ax6 = plt.subplot(527)\n",
    "ax7 = plt.subplot(528)\n",
    "ax8 = plt.subplot(529)\n",
    "ax9 = plt.subplot(5,2,10)\n",
    "\n",
    "ax0,ax1 = self.plot_1D_AP_f_y(absloc,coordloc,ax0,ax1,sigind)\n",
    "ax2,ax3 = self.plot_1D_AP_sig_y(absloc,coordloc,ax2,ax3,freqind)\n",
    "ax4,ax5 = self.plot_1D_RI_f_y(absloc,coordloc,ax4,ax5,sigind)\n",
    "ax6,ax7 = self.plot_1D_RI_sig_y(absloc,coordloc,ax6,ax7,freqind)\n",
    "ax8 = self.plot_1D_phasor_f_y(absloc,coordloc,ax8,sigind)\n",
    "ax9 = self.plot_1D_phasor_sig_y(absloc,coordloc,ax9,freqind)\n",
    "\n",
    "plt.tight_layout()"
   ]
  },
  {
   "cell_type": "code",
   "execution_count": null,
   "metadata": {
    "collapsed": false
   },
   "outputs": [],
   "source": [
    "sigind=45\n",
    "freqind=70\n",
    "\n",
    "absloc=1.\n",
    "coordloc=1.\n",
    "\n",
    "fig = plt.figure(figsize=(50,25))\n",
    "ax0 = plt.subplot(521)\n",
    "ax1 = plt.subplot(522)\n",
    "ax2 = plt.subplot(523)\n",
    "ax3 = plt.subplot(524)\n",
    "ax4 = plt.subplot(525)\n",
    "ax5 = plt.subplot(526)\n",
    "ax6 = plt.subplot(527)\n",
    "ax7 = plt.subplot(528)\n",
    "ax8 = plt.subplot(529)\n",
    "ax9 = plt.subplot(5,2,10)\n",
    "\n",
    "ax0,ax1 = self.plot_1D_AP_f_z(absloc,coordloc,ax0,ax1,sigind)\n",
    "ax2,ax3 = self.plot_1D_AP_sig_z(absloc,coordloc,ax2,ax3,freqind)\n",
    "ax4,ax5 = self.plot_1D_RI_f_z(absloc,coordloc,ax4,ax5,sigind)\n",
    "ax6,ax7 = self.plot_1D_RI_sig_z(absloc,coordloc,ax6,ax7,freqind)\n",
    "ax8 = self.plot_1D_phasor_f_z(absloc,coordloc,ax8,sigind)\n",
    "ax9 = self.plot_1D_phasor_sig_z(absloc,coordloc,ax9,freqind)\n",
    "\n",
    "plt.tight_layout()"
   ]
  },
  {
   "cell_type": "code",
   "execution_count": null,
   "metadata": {
    "collapsed": false
   },
   "outputs": [],
   "source": [
    "sigind=45\n",
    "freqind=70\n",
    "\n",
    "absloc=1.\n",
    "coordloc=1.\n",
    "\n",
    "figfig = plt.figure(figsize=(50,25))\n",
    "ax0 = plt.subplot(321)\n",
    "ax1 = plt.subplot(322)\n",
    "ax2 = plt.subplot(323)\n",
    "ax3 = plt.subplot(324)\n",
    "ax4 = plt.subplot(325)\n",
    "ax5 = plt.subplot(326)\n",
    "\n",
    "ax0= self.plot1D_FD(component=\"real\",view=\"x\",abscisse=\"Conductivity\",slice=None, logamp=True, ax=ax0, color = 'blue')\n",
    "ax1=self.plot1D_FD(component=\"imag\",view=\"z\",abscisse=\"Frequency\",slice=sigvec[1], logamp=True, ax=ax1, color = 'green')\n",
    "ax2=self.plot1D_FD(component=\"Amplitude\",view=\"y\",abscisse=\"Conductivity\",slice=fvec[-1], logamp=True, ax=ax2, color = 'purple')\n",
    "ax3=self.plot1D_FD(component=\"Phase\",view=\"x\",abscisse=\"Frequency\", ax=ax3)\n",
    "ax4=self.plot1D_FD(component=\"Amplitude\",view=\"x\",abscisse=\"Conductivity\",slice=fvec[-1], logamp=False, ax=ax4, color = 'purple')\n",
    "ax5=self.plot1D_FD(component=\"Phasor\",view=\"x\",abscisse=\"Conductivity\",slice=fvec[-1], logamp=False, ax=ax5, color = 'red')\n",
    "\n",
    "plt.tight_layout()"
   ]
  },
  {
   "cell_type": "code",
   "execution_count": null,
   "metadata": {
    "collapsed": false
   },
   "outputs": [],
   "source": [
    "sigind=45\n",
    "freqind=70\n",
    "\n",
    "absloc=1.\n",
    "coordloc=1.\n",
    "\n",
    "figfig = plt.figure(figsize=(50,25))\n",
    "ax0 = plt.subplot(321)\n",
    "ax1 = plt.subplot(322)\n",
    "ax2 = plt.subplot(323)\n",
    "ax3 = plt.subplot(324)\n",
    "ax4 = plt.subplot(325)\n",
    "ax5 = plt.subplot(326)\n",
    "\n",
    "ax0=self.plot_profile_FD(start=[-100,-100,-100],end=[100,100,100],nbmp=1000,component=\"real\",view=\"x\", logamp=True, ax=ax0, color=\"black\")\n",
    "ax1=self.plot_profile_FD(start=[-100,-100,-100],end=[100,100,100],nbmp=1000,component=\"imag\",view=\"y\", logamp=True, ax=ax1, color=\"red\")\n",
    "ax2=self.plot_profile_FD(start=[-100,-100,-100],end=[100,100,100],nbmp=1000,component=\"Phase\",view=\"z\", logamp=True, ax=ax2, color=\"purple\")\n",
    "ax3=self.plot_profile_FD(start=[-100,-100,-100],end=[100,100,100],nbmp=1000,component=\"Amplitude\",view=\"x\", logamp=True, ax=ax3, color=\"green\")\n",
    "ax4=self.plot_profile_FD(start=[-100,-100,-100],end=[100,100,100],nbmp=1000,component=\"Amplitude\",view=\"y\", logamp=False, ax=ax4, color=\"blue\")\n",
    "ax5=self.plot_profile_FD(start=[-100,-100,-100],end=[100,100,100],nbmp=1000,component=\"Phase\",view=\"x\", logamp=False, ax=ax5, color=\"blue\")\n",
    "plt.tight_layout()"
   ]
  },
  {
   "cell_type": "code",
   "execution_count": null,
   "metadata": {
    "collapsed": true
   },
   "outputs": [],
   "source": []
  }
 ],
 "metadata": {
  "kernelspec": {
   "display_name": "Python 2",
   "language": "python",
   "name": "python2"
  },
  "language_info": {
   "codemirror_mode": {
    "name": "ipython",
    "version": 2
   },
   "file_extension": ".py",
   "mimetype": "text/x-python",
   "name": "python",
   "nbconvert_exporter": "python",
   "pygments_lexer": "ipython2",
   "version": "2.7.11"
  }
 },
 "nbformat": 4,
 "nbformat_minor": 0
}
