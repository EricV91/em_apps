{
 "cells": [
  {
   "cell_type": "markdown",
   "metadata": {},
   "source": [
    "# Loop Induction Widget\n",
    "\n",
    "This widget allows the used to predict the induced electrical current within a circular loop."
   ]
  },
  {
   "cell_type": "code",
   "execution_count": 5,
   "metadata": {
    "collapsed": false
   },
   "outputs": [],
   "source": [
    "# IMPORT PACKAGES\n",
    "import em_examples.InductionLoop as IND\n",
    "from ipywidgets import interact, FloatSlider, FloatText"
   ]
  },
  {
   "cell_type": "markdown",
   "metadata": {},
   "source": [
    "## Parameter Descriptions\n",
    "\n",
    "<img style=\"float: right; width: 500px\" src=\"InductionLoop.png\">\n",
    "\n",
    "Below are the adjustable parameters for widgets within this notebook:\n",
    "\n",
    "* $I_p$: Transmitter current amplitude [A]\n",
    "* $a_{Tx}$: Transmitter loop radius [m]\n",
    "* $a_{Rx}$: Receiver loop radius [m]\n",
    "* $x_{Rx}$: Receiver x position [m]\n",
    "* $z_{Rx}$: Receiver z position [m]\n",
    "* $\\theta$: Receiver normal vector relative to vertical [degrees]\n",
    "* $R$: Resistance of receiver loop [$\\Omega$]\n",
    "* $L$: Inductance of receiver loop [H]\n",
    "* $f$: Specific frequency [Hz]\n",
    "* $t$: Specific time [s]"
   ]
  },
  {
   "cell_type": "markdown",
   "metadata": {},
   "source": [
    "## 1. Theory for a Cosinusoidal Current\n",
    "\n",
    "Consider a transmitter loop which carries a sinusoidal primary current of the form:\n",
    "\\begin{equation}\n",
    "I_p(t) = I_p \\textrm{cos} (\\omega t)\n",
    "\\end{equation}\n",
    "According to the Biot-Savart law, this results in a primary magnetic field:\n",
    "\\begin{equation}\n",
    "\\mathbf{B_p} (\\mathbf{r},t) = I_p \\, \\boldsymbol{\\beta} \\, \\textrm{cos} (\\omega t)  \\;\\;\\;\\; \\textrm{where} \\;\\;\\;\\;\\; \\boldsymbol{\\beta} = \\frac{\\mu_0}{4 \\pi} \\int_C \\frac{d \\mathbf{l} \\times \\mathbf{r'}}{|\\mathbf{r'}|^2}\n",
    "\\end{equation}\n",
    "where $\\boldsymbol{\\beta}$ contains the problem geometry. If the magnetic field is homogeneous through the receiver loop, the primary field generates an EMF within the receiver loop equal to:\n",
    "\\begin{equation}\n",
    "EMF = - \\frac{\\partial \\Phi}{\\partial t} \\;\\;\\;\\;\\; \\textrm{where} \\;\\;\\;\\;\\; \\Phi = A\\hat n \\cdot \\mathbf{B_p} = I_p A \\beta_n \\, \\textrm{cos} (\\omega t)\n",
    "\\end{equation}\n",
    "where $A$ is the area of the receiver loop and $\\beta_n$ is the component of $\\boldsymbol{\\beta}$ along $\\hat n$. The EMF induces a secondary current $I_s$ within the receiver loop. The secondary current is defined by the following ODE:\n",
    "\\begin{equation}\n",
    "V = \\omega I_p A \\beta_n \\, \\textrm{sin} (\\omega t) = I_s R + L \\frac{dI_s}{dt}\n",
    "\\end{equation}\n",
    "The ODE has a solution of the form:\n",
    "\\begin{equation}\n",
    "I_s (t) = \\alpha \\, \\textrm{cos} (\\omega t - \\phi)\n",
    "\\end{equation}\n",
    "where $\\alpha$ is the amplitude of the secondary current and $\\phi$ is the phase lag. By solving the ODE, the secondary current induced in the receiver loop is given by:\n",
    "\\begin{equation}\n",
    "I_s (t) = - \\Bigg [ \\frac{\\omega I_p A \\beta_n}{R \\, \\textrm{sin} \\phi + \\omega L \\, \\textrm{cos} \\phi} \\Bigg ] \\, \\textrm{cos} (\\omega t -\\phi) \\;\\;\\;\\;\\; \\textrm{where} \\;\\;\\;\\;\\; \\phi = \\textrm{tan}^{-1} \\Bigg ( \\frac{\\omega L}{R} \\Bigg ) \\, \\in \\, [\\pi/2, \\pi ]\n",
    "\\end{equation}\n",
    "The secondary current has both in-phase and quadrature components, these are given by:\n",
    "\\begin{equation}\n",
    "\\textrm{In phase:} \\, I_s (t) = - \\Bigg [ \\frac{\\omega I_p A \\beta_n}{R \\, \\textrm{sin} \\phi + \\omega L \\, \\textrm{cos} \\phi} \\Bigg ] \\textrm{cos} \\phi \\, \\textrm{cos} (\\omega t)\n",
    "\\end{equation}\n",
    "and\n",
    "\\begin{equation}\n",
    "\\textrm{Quadrature:} \\, I_s (t) = - \\Bigg [ \\frac{\\omega I_p A \\beta_n}{R \\, \\textrm{sin} \\phi + \\omega L \\, \\textrm{cos} \\phi} \\Bigg ] \\textrm{sin} \\phi \\, \\textrm{sin} (\\omega t)\n",
    "\\end{equation}"
   ]
  },
  {
   "cell_type": "code",
   "execution_count": null,
   "metadata": {
    "collapsed": false
   },
   "outputs": [],
   "source": [
    "# RUN COSINE WIDGET\n",
    "interact(IND.fcn_Cosine_Widget,I=FloatText(min=0.01,max=100.,value=1.,description = \"$I_p$\"),\\\n",
    "                        a1=FloatText(min=1.,max=20.,value=10.,description = \"$a_{Tx}$\"),\\\n",
    "                        a2=FloatText(min=1.,max=20.,value=5.,description = \"$a_{Rx}$\"),\\\n",
    "                        xRx=FloatText(min=-15.,max=15.,value=0.,description = \"$x_{Rx}$\"),\\\n",
    "                        zRx=FloatText(min=-15.,max=15.,value=-8.,description = \"$z_{Rx}$\"),\\\n",
    "                        azm=FloatText(min=-90.,max=90.,value=0.,description = \"$\\\\theta$\"),\\\n",
    "                        R=FloatText(min=1e0,max=1e6,value=1e2,description = \"$R$\"),\\\n",
    "                        L=FloatText(min=1e-7,max=1e-2,value=1e-4,description = \"$L$\"),\\\n",
    "                        f=FloatText(min=1e0,max=1e8,value=1e2,description = \"$f$\"))"
   ]
  },
  {
   "cell_type": "markdown",
   "metadata": {},
   "source": [
    "## 2. Theory for a Harmonic Current (Frequency Domain)\n",
    "\n",
    "Consider a transmitter loop which carries a harmonic primary current of the form:\n",
    "\\begin{equation}\n",
    "I_p(t) = I_p \\textrm{e}^{- i \\omega t}\n",
    "\\end{equation}\n",
    "According to the Biot-Savart law, this results in a primary magnetic field:\n",
    "\\begin{equation}\n",
    "\\mathbf{B_p} (\\mathbf{r},\\omega) = I_p \\, \\boldsymbol{\\beta} \\, \\textrm{e}^{-i \\omega t}  \\;\\;\\;\\; \\textrm{where} \\;\\;\\;\\;\\; \\boldsymbol{\\beta} = \\frac{\\mu_0}{4 \\pi} \\int_C \\frac{d \\mathbf{l} \\times \\mathbf{r'}}{|\\mathbf{r'}|^2}\n",
    "\\end{equation}\n",
    "where $\\boldsymbol{\\beta}$ contains the problem geometry. Assume the magnetic field is homogeneous through the receiver loop. By suppressing $\\textrm{e}^{-i\\omega t}$, the primary field generates an EMF within the receiver loop equal to:\n",
    "\\begin{equation}\n",
    "EMF = - i\\omega \\Phi \\;\\;\\;\\;\\; \\textrm{where} \\;\\;\\;\\;\\; \\Phi = I_p A \\beta_n\n",
    "\\end{equation}\n",
    "where $A$ is the area of the receiver loop and $\\beta_n$ is the component of $\\boldsymbol{\\beta}$ along $\\hat n$. The EMF induces a secondary current $I_s$ within the receiver loop. The secondary current is defined by the following expression:\n",
    "\\begin{equation}\n",
    "V = - i \\omega I_p A \\beta_n = I_s \\big (R + i\\omega L \\big )\n",
    "\\end{equation}\n",
    "Rearranging this expression to solve for the secondary current we obtain\n",
    "\\begin{equation}\n",
    "I_s (\\omega) = - \\frac{i \\omega I_p A \\beta_n}{R + i \\omega L}\n",
    "\\end{equation}\n",
    "The secondary current has both real and imaginary components. These are given by:\n",
    "\\begin{equation}\n",
    "I_{Re} (\\omega) = - \\frac{i \\omega I_p A \\beta_n R}{R^2 + (\\omega L)^2}\n",
    "\\end{equation}\n",
    "and\n",
    "\\begin{equation}\n",
    "I_{Im} (\\omega) = - \\frac{ \\omega^2 I_p A \\beta_n L}{R^2 + (\\omega L)^2}\n",
    "\\end{equation}"
   ]
  },
  {
   "cell_type": "code",
   "execution_count": null,
   "metadata": {
    "collapsed": false
   },
   "outputs": [],
   "source": [
    "# RUN FREQUENCY DOMAIN WIDGET\n",
    "interact(IND.fcn_FDEM_Widget,I=FloatText(min=0.01,max=100.,value=1.,description = \"$I_p$\"),\\\n",
    "                        a1=FloatText(min=1.,max=20.,value=10.,description = \"$a_{Tx}$\"),\\\n",
    "                        a2=FloatText(min=1.,max=20.,value=5.,description = \"$a_{Rx}$\"),\\\n",
    "                        xRx=FloatText(min=-15.,max=15.,value=0.,description = \"$x_{Rx}$\"),\\\n",
    "                        zRx=FloatText(min=-15.,max=15.,value=-8.,description = \"$z_{Rx}$\"),\\\n",
    "                        azm=FloatText(min=-90.,max=90.,value=0.,description = \"$\\\\theta$\"),\\\n",
    "                        R=FloatText(min=1e0,max=1e6,value=1e2,description = \"$R$\"),\\\n",
    "                        L=FloatText(min=1e-7,max=1e-2,value=1e-4,description = \"$L$\"),\\\n",
    "                        f=FloatText(min=1e0,max=1e8,value=1e5,description = \"$f$\"))\n",
    "    \n",
    "    "
   ]
  },
  {
   "cell_type": "markdown",
   "metadata": {
    "collapsed": false
   },
   "source": [
    "## 3. Theory for a Transient Current (Time-Domain)\n",
    "\n",
    "Consider a transmitter loop which carries a primary current of the form:\n",
    "\\begin{equation}\n",
    "I_p(t) = I_p \\, u(-t)\n",
    "\\end{equation}\n",
    "where $u(t)$ is the unit-step function. According to the Biot-Savart law, this results in a primary magnetic field:\n",
    "\\begin{equation}\n",
    "\\mathbf{B_p} (\\mathbf{r},t) = I_p \\, \\boldsymbol{\\beta} \\, t(-t)  \\;\\;\\;\\; \\textrm{where} \\;\\;\\;\\;\\; \\boldsymbol{\\beta} = \\frac{\\mu_0}{4 \\pi} \\int_C \\frac{d \\mathbf{l} \\times \\mathbf{r'}}{|\\mathbf{r'}|^2}\n",
    "\\end{equation}\n",
    "where $\\boldsymbol{\\beta}$ contains the problem geometry. Assume the magnetic field is homogeneous through the receiver loop. The primary field generates an EMF within the receiver loop equal to:\n",
    "\\begin{equation}\n",
    "EMF = - i\\omega \\Phi \\;\\;\\;\\;\\; \\textrm{where} \\;\\;\\;\\;\\; \\Phi = I_p A \\beta_n \\, u(-t)\n",
    "\\end{equation}\n",
    "where $A$ is the area of the receiver loop and $\\beta_n$ is the component of $\\boldsymbol{\\beta}$ along $\\hat n$. The EMF induces a secondary current $I_s$ within the receiver loop. Instead of solving the problem directly in the time-domain, we will apply the inverse Fourier transform to frequency-domain solutions. The secondary current induced in the receiver loop can be obtained through a convolution:\n",
    "\\begin{equation}\n",
    "I_s (t) = h(t) \\otimes u(-t)\n",
    "\\end{equation}\n",
    "where $h(t)$ is the inverse Fourier transform of the harmonic solution:\n",
    "\\begin{equation}\n",
    "h(t) = \\mathbb{F}^{-1} \\big [ I_s (\\omega) \\big ] = - \\frac{I_p A \\beta_n}{L} \\frac{d}{dt} \\bigg [ \\textrm{e}^{-Rt/L} \\, u(t) \\bigg ]\n",
    "\\end{equation}\n",
    "Thus the secondary current induced in the receiver loop is given by:\n",
    "\\begin{equation}\n",
    "I_s (t) = \\frac{I_p A \\beta_n}{L} \\, \\textrm{e}^{-Rt/L} \\, u(t)\n",
    "\\end{equation}"
   ]
  },
  {
   "cell_type": "code",
   "execution_count": null,
   "metadata": {
    "collapsed": false
   },
   "outputs": [],
   "source": [
    "# RUN TRANSIENT WIDGET\n",
    "interact(IND.fcn_TDEM_Widget,I=FloatText(min=0.01,max=100.,value=1.,description = \"$I_p$\"),\\\n",
    "                        a1=FloatText(min=1.,max=20.,value=10.,description = \"$a_{Tx}$\"),\\\n",
    "                        a2=FloatText(min=1.,max=20.,value=5.,description = \"$a_{Rx}$\"),\\\n",
    "                        xRx=FloatText(min=-15.,max=15.,value=0.,description = \"$x_{Rx}$\"),\\\n",
    "                        zRx=FloatText(min=-15.,max=15.,value=-8.,description = \"$z_{Rx}$\"),\\\n",
    "                        azm=FloatText(min=-90.,max=90.,value=0.,description = \"$\\\\theta$\"),\\\n",
    "                        R=FloatText(min=1e0,max=1e6,value=1e2,description = \"$R$\"),\\\n",
    "                        L=FloatText(min=1e-7,max=1e-2,value=1e-2,description = \"$L$\"),\\\n",
    "                        t=FloatText(min=1e-6,max=1e-2,value=1e-4,description = \"$t$\"))\n",
    "    "
   ]
  },
  {
   "cell_type": "code",
   "execution_count": null,
   "metadata": {
    "collapsed": true
   },
   "outputs": [],
   "source": []
  }
 ],
 "metadata": {
  "anaconda-cloud": {},
  "kernelspec": {
   "display_name": "Python [default]",
   "language": "python",
   "name": "python2"
  },
  "language_info": {
   "codemirror_mode": {
    "name": "ipython",
    "version": 2
   },
   "file_extension": ".py",
   "mimetype": "text/x-python",
   "name": "python",
   "nbconvert_exporter": "python",
   "pygments_lexer": "ipython2",
   "version": "2.7.12"
  }
 },
 "nbformat": 4,
 "nbformat_minor": 1
}
