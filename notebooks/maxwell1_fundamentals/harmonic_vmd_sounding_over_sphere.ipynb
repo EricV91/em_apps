{
 "cells": [
  {
   "cell_type": "markdown",
   "metadata": {},
   "source": [
    "# Harmonic Magnetic Dipole Sounding over a Sphere\n",
    "\n",
    "In this notebook, we will simulate an FDEM sounding over a conductive sphere. A cylindrical mesh and the [SimPEG](http://simpeg.xyz) Electromanetics module is used to perform the simulation. \n",
    "\n",
    "For more on SimPEG and SimPEG.EM see:\n",
    "- [(Cockett et al., 2015)](http://www.sciencedirect.com/science/article/pii/S009830041530056X): *SimPEG: An open source framework for simulation and gradient based parameter estimation in geophysical applications*\n",
    "- [(Heagy et al., 2016)](https://arxiv.org/abs/1610.00804): *A framework for simulation and inversion in electromagnetics*"
   ]
  },
  {
   "cell_type": "markdown",
   "metadata": {},
   "source": [
    "## Setup\n",
    "\n",
    "An inductive loop transmitter is centered over an electrically conductive sphere (radius 30m). The transmitter is 20m above the surface, and the center of the sphere is 50m below the surface. A coil receiver is offset by 8m horizontally from the transmitter. \n",
    "\n",
    "<img src=\"../../images/cylsetup.png\" width=70%>"
   ]
  },
  {
   "cell_type": "markdown",
   "metadata": {},
   "source": [
    "## Getting Started: Package Imports\n",
    "\n",
    "- [NumPy](http://www.numpy.org/), [SciPy](https://www.scipy.org/) and [Matplotlib](http://matplotlib.org/) are core Python packages that can be installed when you install python with a distribution such as [Anaconda](https://www.continuum.io/downloads). \n",
    "\n",
    "- [SimPEG](http://simpeg.xyz) is a Simulation and Inversion package for geophysics"
   ]
  },
  {
   "cell_type": "code",
   "execution_count": 4,
   "metadata": {
    "collapsed": false
   },
   "outputs": [],
   "source": [
    "# Basic python packages\n",
    "import numpy as np \n",
    "import matplotlib.pyplot as plt\n",
    "from scipy.constants import mu_0\n",
    "\n",
    "from SimPEG import Mesh, Utils, Maps\n",
    "from SimPEG.EM import FDEM\n",
    "\n",
    "# Try importing PardisoSolver from pymatsolver (https://github.com/rowanc1/pymatsolver) \n",
    "# otherwise, use SolverLU from SimPEG \n",
    "try: \n",
    "    from pymatsolver import PardisoSolver as Solver\n",
    "except ImportError:\n",
    "    from SimPEG import SolverLU as Solver\n",
    "\n",
    "# Set a nice colormap! \n",
    "plt.set_cmap(plt.get_cmap('viridis'))\n",
    "\n",
    "%matplotlib inline"
   ]
  },
  {
   "cell_type": "markdown",
   "metadata": {},
   "source": [
    "## Model Parameters\n",
    "\n",
    "Resistive halfspace, conductive sphere with a radius of 30m, its center is 50m below the surface. "
   ]
  },
  {
   "cell_type": "code",
   "execution_count": 5,
   "metadata": {
    "collapsed": true
   },
   "outputs": [],
   "source": [
    "sig_halfspace = 1e-6\n",
    "sig_sphere = 1e0\n",
    "sig_air = 1e-8"
   ]
  },
  {
   "cell_type": "code",
   "execution_count": 6,
   "metadata": {
    "collapsed": true
   },
   "outputs": [],
   "source": [
    "sphere_z = -50.\n",
    "sphere_radius = 30. "
   ]
  },
  {
   "cell_type": "markdown",
   "metadata": {},
   "source": [
    "## Survey Parameters\n",
    "\n",
    "- Transmitter and receiver 20m above the surface \n",
    "- Receiver offset from transmitter by 8m horizontally\n",
    "- 25 frequencies, logaritmically between $10$ Hz and $10^5$ Hz"
   ]
  },
  {
   "cell_type": "code",
   "execution_count": 7,
   "metadata": {
    "collapsed": false
   },
   "outputs": [],
   "source": [
    "boom_height = 20. \n",
    "rx_offset = 8. \n",
    "freqs = np.logspace(1, 5, 25)\n",
    "\n",
    "# source and receiver location in 3D space\n",
    "src_loc = np.r_[0., 0., boom_height]\n",
    "rx_loc = np.atleast_2d(np.r_[rx_offset, 0., boom_height])"
   ]
  },
  {
   "cell_type": "code",
   "execution_count": 8,
   "metadata": {
    "collapsed": false
   },
   "outputs": [
    {
     "name": "stdout",
     "output_type": "stream",
     "text": [
      "Minimum skin depth (in sphere): 1.58e+00 m \n",
      "Maximum skin depth (in background): 1.58e+05 m \n"
     ]
    }
   ],
   "source": [
    "# print the min and max skin depths to make sure mesh is fine enough and \n",
    "# extends far enough \n",
    "\n",
    "def skin_depth(sigma, f):\n",
    "    return 500./np.sqrt(sigma * f)\n",
    "\n",
    "print(\n",
    "    'Minimum skin depth (in sphere): {:.2e} m '.format(skin_depth(sig_sphere, freqs.max()))\n",
    ")\n",
    "print(\n",
    "    'Maximum skin depth (in background): {:.2e} m '.format(skin_depth(sig_halfspace, freqs.min()))\n",
    ")"
   ]
  },
  {
   "cell_type": "markdown",
   "metadata": {},
   "source": [
    "## Mesh\n",
    "\n",
    "Here, we define a cylindrically symmetric tensor mesh. \n",
    "\n",
    "The figure below shows a cell in a cartesian mesh (a) and a cylindrically symmetric mesh (b). Note that edges are rotational and faces are radial and vertical in the cylindrically symmetric mesh. \n",
    "\n",
    "<img src=\"../../images/finiteVolume-02.png\" width=60%>"
   ]
  },
  {
   "cell_type": "markdown",
   "metadata": {},
   "source": [
    "### Mesh Parameters"
   ]
  },
  {
   "cell_type": "code",
   "execution_count": 9,
   "metadata": {
    "collapsed": false
   },
   "outputs": [],
   "source": [
    "# x-direction\n",
    "csx = 1\n",
    "ncx = np.ceil(1.2*sphere_radius/csx) # uniform mesh slightly beyond sphere radius\n",
    "npadx = 50\n",
    "\n",
    "# z-direction\n",
    "csz = 0.5\n",
    "ncz = np.ceil(1.2*(boom_height - (sphere_z-sphere_radius))/csz) # uniform cells slightly below bottom of sphere\n",
    "npadz = 52 \n",
    "\n",
    "# padding factor (expand cells to infinity)\n",
    "pf = 1.3"
   ]
  },
  {
   "cell_type": "code",
   "execution_count": 10,
   "metadata": {
    "collapsed": false
   },
   "outputs": [],
   "source": [
    "# cell spacings in the x and z directions\n",
    "hx = Utils.meshTensor([(csx, ncx), (csx, npadx, pf)])\n",
    "hz = Utils.meshTensor([(csz, npadz, -pf), (csz, ncz), (csz, npadz, pf)])\n",
    "\n",
    "# define a SimPEG mesh\n",
    "mesh = Mesh.CylMesh([hx, 1, hz], x0 = np.r_[0.,0., -hz.sum()/2.-boom_height])"
   ]
  },
  {
   "cell_type": "markdown",
   "metadata": {},
   "source": [
    "### Plot the mesh\n",
    "\n",
    "Below, we plot the mesh. The cyl mesh is rotated around x=0. Ensure that each dimension extends beyond the maximum skin depth. \n",
    "\n",
    "Zoom in by changing the xlim and zlim. "
   ]
  },
  {
   "cell_type": "code",
   "execution_count": 11,
   "metadata": {
    "collapsed": false
   },
   "outputs": [
    {
     "data": {
      "text/plain": [
       "(-2500000.0, 2500000.0)"
      ]
     },
     "execution_count": 11,
     "metadata": {},
     "output_type": "execute_result"
    },
    {
     "data": {
      "image/png": "[encoded data removed]",
      "text/plain": [
       "<matplotlib.figure.Figure at 0x10c902550>"
      ]
     },
     "metadata": {},
     "output_type": "display_data"
    }
   ],
   "source": [
    "# X and Z limits we want to plot to. Try \n",
    "xlim = np.r_[0., 2.5e6]\n",
    "zlim = np.r_[-2.5e6, 2.5e6]\n",
    "\n",
    "fig, ax = plt.subplots(1,1)\n",
    "mesh.plotGrid(ax=ax)\n",
    "\n",
    "ax.set_title('Simulation Mesh')\n",
    "ax.set_xlim(xlim)\n",
    "ax.set_ylim(zlim)"
   ]
  },
  {
   "cell_type": "markdown",
   "metadata": {},
   "source": [
    "## Put Model on Mesh\n",
    "\n",
    "The electrical conductivity is defined at cell centers when using the finite volume method. "
   ]
  },
  {
   "cell_type": "code",
   "execution_count": 12,
   "metadata": {
    "collapsed": true
   },
   "outputs": [],
   "source": [
    "sigma = sig_air*np.ones(mesh.nC)  # start with air cells\n",
    "sigma[mesh.gridCC[:,2] < 0.] = sig_halfspace  # cells below the earth\n",
    "\n",
    "# indices of the sphere\n",
    "sphere_ind = (mesh.gridCC[:,0]**2 + (mesh.gridCC[:,2] - sphere_z)**2) <= sphere_radius**2 \n",
    "sigma[sphere_ind] = sig_sphere  # sphere"
   ]
  },
  {
   "cell_type": "code",
   "execution_count": 13,
   "metadata": {
    "collapsed": false
   },
   "outputs": [
    {
     "data": {
      "text/plain": [
       "<matplotlib.text.Text at 0x10cc80710>"
      ]
     },
     "execution_count": 13,
     "metadata": {},
     "output_type": "execute_result"
    },
    {
     "data": {
      "image/png": "[encoded data removed]",
      "text/plain": [
       "<matplotlib.figure.Figure at 0x10cb57190>"
      ]
     },
     "metadata": {},
     "output_type": "display_data"
    }
   ],
   "source": [
    "# Plot a cross section through the mesh\n",
    "fig, ax = plt.subplots(1,1)\n",
    "cb = plt.colorbar(mesh.plotImage(np.log10(sigma), ax=ax, mirror=True)[0])\n",
    "\n",
    "# plot formatting and titles\n",
    "cb.set_label('$\\log_{10}\\sigma$', fontsize=13)\n",
    "ax.axis('equal')\n",
    "ax.set_xlim([-120., 120.])\n",
    "ax.set_ylim([-100., 30.])\n",
    "ax.set_title('Conductivity Model')"
   ]
  },
  {
   "cell_type": "markdown",
   "metadata": {},
   "source": [
    "## Set up the Survey\n",
    "\n",
    "Define sources and receivers. For this example, the receivers are magnetic flux recievers, and are only looking at the secondary field (eg. if a bucking coil were used to cancel the primary). The source is a vertical magnetic dipole with unit moment. "
   ]
  },
  {
   "cell_type": "code",
   "execution_count": 14,
   "metadata": {
    "collapsed": false
   },
   "outputs": [],
   "source": [
    "# Define the receivers\n",
    "bx_r = FDEM.Rx.Point_bSecondary(locs=rx_loc, orientation='z', component='real')\n",
    "bx_i = FDEM.Rx.Point_b(locs=rx_loc, orientation='z', component='imag')\n",
    "\n",
    "rxList = [bx_r, bx_i]"
   ]
  },
  {
   "cell_type": "code",
   "execution_count": 15,
   "metadata": {
    "collapsed": false
   },
   "outputs": [],
   "source": [
    "srcList = [FDEM.Src.MagDipole(rxList, f, src_loc, orientation='z') for f in freqs]"
   ]
  },
  {
   "cell_type": "markdown",
   "metadata": {},
   "source": [
    "## Set up Forward Simulation \n",
    "\n",
    "A forward simulation consists of a paired SimPEG problem and Survey. For this example, we use the E-formulation of Maxwell's equations, solving the second-order system for the electric field, which is defined on the cell edges of the mesh. "
   ]
  },
  {
   "cell_type": "code",
   "execution_count": 16,
   "metadata": {
    "collapsed": false
   },
   "outputs": [],
   "source": [
    "prob = FDEM.Problem3D_e(mesh, sigmaMap=Maps.IdentityMap(mesh))\n",
    "prob.solver = Solver\n",
    "survey = FDEM.Survey(srcList)\n",
    "\n",
    "prob.pair(survey)"
   ]
  },
  {
   "cell_type": "code",
   "execution_count": 17,
   "metadata": {
    "collapsed": false
   },
   "outputs": [
    {
     "name": "stdout",
     "output_type": "stream",
     "text": [
      "CPU times: user 13.2 s, sys: 1.19 s, total: 14.4 s\n",
      "Wall time: 7.98 s\n"
     ]
    }
   ],
   "source": [
    "%%time\n",
    "fields = prob.fields(sigma)"
   ]
  },
  {
   "cell_type": "markdown",
   "metadata": {},
   "source": [
    "### Take the ratio with the primary field\n",
    "\n",
    "If simulating a DIGHEM survey, for example, the data are provided as the ratio of the secondary field with the primary as measured at the receiver in free space. \n",
    "\n",
    "In what follows, we set calculate the primary field at the receiver, calcuate the secondary magnetic fields measured by the receiver (**dpred**) and then take the ratio with the primary. "
   ]
  },
  {
   "cell_type": "code",
   "execution_count": 18,
   "metadata": {
    "collapsed": false
   },
   "outputs": [],
   "source": [
    "# Primary Field at receiver\n",
    "rx = rxList[0]\n",
    "P = rx.getP(mesh, 'Fz')\n",
    "bprimary = fields[srcList[1], 'bPrimary']\n",
    "b0 = P*bprimary\n",
    "b0 = b0[0][0].real"
   ]
  },
  {
   "cell_type": "code",
   "execution_count": 19,
   "metadata": {
    "collapsed": false
   },
   "outputs": [],
   "source": [
    "dpred = survey.dpred(sigma, f=fields)"
   ]
  },
  {
   "cell_type": "code",
   "execution_count": 20,
   "metadata": {
    "collapsed": false
   },
   "outputs": [],
   "source": [
    "# reshape the data vector by sources and receivers\n",
    "dpred_reshaped = dpred.reshape((len(rxList), len(srcList)), order='F').T\n",
    "dpred_real = dpred_reshaped[:,0]\n",
    "dpred_imag = dpred_reshaped[:,1]"
   ]
  },
  {
   "cell_type": "code",
   "execution_count": 31,
   "metadata": {
    "collapsed": false
   },
   "outputs": [
    {
     "data": {
      "text/plain": [
       "<matplotlib.text.Text at 0x113271490>"
      ]
     },
     "execution_count": 31,
     "metadata": {},
     "output_type": "execute_result"
    },
    {
     "data": {
      "image/png": "[encoded data removed]",
      "text/plain": [
       "<matplotlib.figure.Figure at 0x11320eb10>"
      ]
     },
     "metadata": {},
     "output_type": "display_data"
    }
   ],
   "source": [
    "# Plot\n",
    "fig, ax = plt.subplots(1,1)\n",
    "\n",
    "ax.semilogx(freqs, dpred_real/b0*1e6)\n",
    "ax.semilogx(freqs, dpred_imag/b0*1e6,'--')\n",
    "\n",
    "ax.legend(['real','imag'], loc='best')\n",
    "ax.set_title('Sounding over Sphere')\n",
    "ax.set_ylabel('magnetic field (ppm of primary)')\n",
    "ax.set_xlabel('frequency (Hz)')"
   ]
  }
 ],
 "metadata": {
  "anaconda-cloud": {},
  "kernelspec": {
   "display_name": "Python [default]",
   "language": "python",
   "name": "python2"
  },
  "language_info": {
   "codemirror_mode": {
    "name": "ipython",
    "version": 2
   },
   "file_extension": ".py",
   "mimetype": "text/x-python",
   "name": "python",
   "nbconvert_exporter": "python",
   "pygments_lexer": "ipython2",
   "version": "2.7.12"
  }
 },
 "nbformat": 4,
 "nbformat_minor": 1
}
