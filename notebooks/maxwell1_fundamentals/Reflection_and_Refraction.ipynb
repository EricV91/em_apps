{
 "cells": [
  {
   "cell_type": "code",
   "execution_count": 1,
   "metadata": {
    "collapsed": false
   },
   "outputs": [
    {
     "name": "stdout",
     "output_type": "stream",
     "text": [
      "Populating the interactive namespace from numpy and matplotlib\n"
     ]
    }
   ],
   "source": [
    "%pylab inline\n",
    "import numpy as np\n",
    "from scipy.constants import mu_0, epsilon_0\n",
    "import matplotlib\n",
    "matplotlib.rcParams[\"font.size\"] = 14\n",
    "from ipywidgets import *"
   ]
  },
  {
   "cell_type": "code",
   "execution_count": 2,
   "metadata": {
    "collapsed": false
   },
   "outputs": [],
   "source": [
    "def getReflectionandTransmission(sig1, sig2, f, theta_i, eps1=epsilon_0, eps2=epsilon_0, mu1=mu_0, mu2=mu_0,dtype=\"TE\"):\n",
    "    \"\"\"\n",
    "    Compute reflection and refraction coefficient of plane waves\n",
    "    \"\"\"\n",
    "    theta_i = np.deg2rad(theta_i)\n",
    "    omega = 2*np.pi*f\n",
    "    \n",
    "    k1 = np.sqrt(omega**2*mu1*eps1-1j*omega*mu1*sig1)\n",
    "    k2 = np.sqrt(omega**2*mu2*eps2-1j*omega*mu2*sig2)\n",
    "    \n",
    "    if dtype == \"TE\":\n",
    "        bunmo = mu2*k1*np.cos(theta_i) + mu1*(k2**2-k1**2*np.sin(theta_i)**2)**0.5\n",
    "        bunja_r = mu2*k1*np.cos(theta_i) - mu1*(k2**2-k1**2*np.sin(theta_i)**2)**0.5\n",
    "        bunja_t = 2*mu2*k1*np.cos(theta_i)\n",
    "    elif dtype == \"TM\":\n",
    "        bunmo = mu2*k1*(k2**2-k1**2*np.sin(theta_i)**2)**0.5 + mu1*k2**2 * np.cos(theta_i)\n",
    "        bunja_r = mu2*k1*(k2**2-k1**2*np.sin(theta_i)**2)**0.5 - mu1*k2**2 * np.cos(theta_i)\n",
    "        bunja_t = 2*mu1*k2**2*np.cos(theta_i)        \n",
    "    else:\n",
    "        raise Exception(\"XXX\")\n",
    "    \n",
    "    r = bunja_r / bunmo\n",
    "    t = bunja_t / bunmo\n",
    "    \n",
    "    theta_t = np.rad2deg(abs(np.arcsin(k1/k2 * np.sin(theta_i))))\n",
    "    return r, t, theta_t"
   ]
  },
  {
   "cell_type": "code",
   "execution_count": 22,
   "metadata": {
    "collapsed": false
   },
   "outputs": [],
   "source": [
    "sig1, sig2 = 0., 3.\n",
    "f = 6e6\n",
    "theta_i = 30.\n",
    "rTE, tTE, theta_t_TE = getReflectionandTransmission(sig1, sig2, f, theta_i, dtype=\"TE\")\n",
    "rTM, tTM, theta_t_TM = getReflectionandTransmission(sig1, sig2, f, theta_i, dtype=\"TM\")"
   ]
  },
  {
   "cell_type": "code",
   "execution_count": 23,
   "metadata": {
    "collapsed": false
   },
   "outputs": [
    {
     "name": "stdout",
     "output_type": "stream",
     "text": [
      "(1+6.76542155631e-17j)\n",
      "(1+0j)\n"
     ]
    }
   ],
   "source": [
    "print tTE - rTE\n",
    "print tTM + rTM"
   ]
  },
  {
   "cell_type": "code",
   "execution_count": 35,
   "metadata": {
    "collapsed": false
   },
   "outputs": [],
   "source": [
    "def PowerReflection(sig1, sig2, f, Type):\n",
    "    theta_i = np.linspace(0, 90, 181)\n",
    "    rTE, tTE, theta_t_TE = getReflectionandTransmission(sig1, sig2, f, theta_i, dtype=\"TE\")\n",
    "    rTM, tTM, theta_t_TM = getReflectionandTransmission(sig1, sig2, f, theta_i, dtype=\"TM\")\n",
    "    fig = plt.figure(figsize=(5,5))\n",
    "    ylabel = \"Percentage\"\n",
    "\n",
    "    if Type == \"Reflection\":\n",
    "        plt.plot(theta_i, abs(rTE)**2*100, 'k', lw=2)\n",
    "        plt.plot(theta_i, abs(rTM)**2*100, 'b', lw=2)\n",
    "        plt.ylim(0, 110)            \n",
    "        legend = (\"R$_{TE}$\", \"R$_{TM}$\")   \n",
    "        plt.legend(legend, bbox_to_anchor=(1.4,1))\n",
    "    elif Type == \"Transmission\":\n",
    "        plt.plot(theta_i, 100-abs(rTE)**2*100, 'k', lw=2)\n",
    "        plt.plot(theta_i, 100-abs(rTM)**2*100, 'b', lw=2)        \n",
    "        plt.ylim(0, 110)        \n",
    "        legend = (\"T$_{TE}$\", \"T$_{TM}$\")       \n",
    "        plt.legend(legend, bbox_to_anchor=(1.4,1))\n",
    "    elif Type == \"Angle\":\n",
    "        plt.plot(theta_i, theta_t_TE, 'k', lw=2)\n",
    "        plt.ylim(0, 90)\n",
    "        ylabel = \"Transmission angle ($\\\\theta_t$)\"\n",
    "        legend = None\n",
    "    plt.xlim(0, 90)\n",
    "    plt.grid(True)\n",
    "\n",
    "    plt.xlabel(\"Incident angle ($\\\\theta_i$)\")\n",
    "    plt.ylabel(ylabel)\n",
    "    pass"
   ]
  },
  {
   "cell_type": "code",
   "execution_count": 34,
   "metadata": {
    "collapsed": false
   },
   "outputs": [
    {
     "data": {
      "image/png": "[encoded data removed]",
      "text/plain": [
       "<matplotlib.figure.Figure at 0x108b8c810>"
      ]
     },
     "metadata": {},
     "output_type": "display_data"
    }
   ],
   "source": [
    "Q = interact(PowerReflection\n",
    "        , sig1 = FloatText(value=0., description=\"$\\sigma_1$\")\n",
    "        , sig2 = FloatText(value=1e-2, description=\"$\\sigma_2$\")\n",
    "        , f = FloatText(value=6e5, description=\"$f$ (Hz)\")\n",
    "        , Type = ToggleButtons(options=[\"Reflection\", \"Transmission\", \"Angle\"])\n",
    "        )"
   ]
  }
 ],
 "metadata": {
  "anaconda-cloud": {},
  "kernelspec": {
   "display_name": "Python [default]",
   "language": "python",
   "name": "python2"
  },
  "language_info": {
   "codemirror_mode": {
    "name": "ipython",
    "version": 2
   },
   "file_extension": ".py",
   "mimetype": "text/x-python",
   "name": "python",
   "nbconvert_exporter": "python",
   "pygments_lexer": "ipython2",
   "version": "2.7.12"
  },
  "widgets": {
   "state": {
    "0bc4a0f8474b4eb8b7361bbc1dc36923": {
     "views": [
      {
       "cell_index": 5
      }
     ]
    }
   },
   "version": "1.2.0"
  }
 },
 "nbformat": 4,
 "nbformat_minor": 1
}
