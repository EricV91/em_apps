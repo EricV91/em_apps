{
 "cells": [
  {
   "cell_type": "code",
   "execution_count": null,
   "metadata": {
    "collapsed": false,
    "scrolled": true
   },
   "outputs": [],
   "source": [
    "from SimPEG import Mesh, EM, np\n",
    "%matplotlib inline\n",
    "import matplotlib.pyplot as plt\n",
    "import matplotlib\n",
    "# matplotlib.style.use('classic')\n",
    "from em_examples.View import DataView\n",
    "import copy\n",
    "from ipywidgets import *\n",
    "from em_examples.DipoleWidget import DipoleWidget\n",
    "# ['magma', 'inferno', 'plasma', 'viridis']"
   ]
  },
  {
   "cell_type": "code",
   "execution_count": null,
   "metadata": {
    "collapsed": true
   },
   "outputs": [],
   "source": [
    "dwidget = DipoleWidget()"
   ]
  },
  {
   "cell_type": "code",
   "execution_count": null,
   "metadata": {
    "collapsed": false
   },
   "outputs": [],
   "source": [
    "srcLoc = np.r_[0., 0., 0.] # source location\n",
    "sig, f = np.r_[1.], np.r_[10.]\n",
    "orientation = \"z\"\n",
    "normal = \"x\"\n",
    "functype = \"E_from_ED\"\n",
    "# dwidget.SetDataview(srcLoc, sig, f, orientation, normal, functype, na=200, nb=200, loc=0)\n",
    "x1, x2 = 1, 1\n",
    "y1, y2 = -30, 30\n",
    "npts2D = 30\n",
    "npts = 20\n",
    "# dwidget.dataview.plot2D_FD(component=\"real\", view=\"z\")\n",
    "loc=20\n",
    "dwidget.Dipole2Dviz(x1, y1, x2, y2, npts2D, npts, sig, f, view=\"z\",component=\"amplitude\", orientation=orientation, normal=normal, functype=functype, loc=loc)"
   ]
  },
  {
   "cell_type": "code",
   "execution_count": null,
   "metadata": {
    "collapsed": false
   },
   "outputs": [],
   "source": [
    "dwidget.InteractiveDipole()"
   ]
  },
  {
   "cell_type": "code",
   "execution_count": null,
   "metadata": {
    "collapsed": true
   },
   "outputs": [],
   "source": []
  },
  {
   "cell_type": "code",
   "execution_count": null,
   "metadata": {
    "collapsed": false
   },
   "outputs": [],
   "source": [
    "from ipywidgets import "
   ]
  },
  {
   "cell_type": "code",
   "execution_count": null,
   "metadata": {
    "collapsed": false
   },
   "outputs": [],
   "source": [
    "temp.split(\"_\")"
   ]
  },
  {
   "cell_type": "markdown",
   "metadata": {},
   "source": [
    "#  Set-up DataView using EM analytic functions"
   ]
  },
  {
   "cell_type": "code",
   "execution_count": null,
   "metadata": {
    "collapsed": false
   },
   "outputs": [],
   "source": [
    "x = np.linspace(-50., 50., 200)\n",
    "y = np.linspace(-50., 50., 200)\n",
    "ED_full = DataView()\n",
    "ED_galvanic = DataView()\n",
    "ED_inductive = DataView()\n",
    "sigvec = np.logspace(-4,4,100)\n",
    "fvec = np.logspace(-4,8,100)\n",
    "sigind, find = 0, 88\n",
    "# sigind, find = 10, 80, \n",
    "srcLoc = np.r_[0., 0., 0.] # source location\n",
    "sig, f = sigvec[sigind], np.r_[fvec[find]]  # conductivity (S/m), frequency (Hz)\n",
    "ED_full.set_xyz(x,y, np.r_[0.], normal=\"Z\") # set plane and locations ... \n",
    "ED_full.eval_2D(srcLoc, sig, f, \"x\", EM.Analytics.E_from_ElectricDipoleWholeSpace) # evaluate\n",
    "ED_galvanic.set_xyz(x,y, np.r_[0.], normal=\"Z\") # set plane and locations ... \n",
    "ED_galvanic.eval_2D(srcLoc, sig, f, \"x\", EM.Analytics.E_galvanic_from_ElectricDipoleWholeSpace) # evaluate\n",
    "ED_inductive.set_xyz(x,y, np.r_[0.], normal=\"Z\") # set plane and locations ... \n",
    "ED_inductive.eval_2D(srcLoc, sig, f, \"x\", EM.Analytics.H_from_ElectricDipoleWholeSpace) # evaluate"
   ]
  },
  {
   "cell_type": "code",
   "execution_count": null,
   "metadata": {
    "collapsed": false,
    "scrolled": false
   },
   "outputs": [],
   "source": [
    "sigslider = FloatSlider(min=-8, max =8, step=0.5,value=0)\n",
    "freqslider = FloatSlider(min=-4, max =10, step=0.5,value=-4)\n",
    "obslocx = FloatSlider(min=-50, max =50, step=1,value=25)\n",
    "obslocy = FloatSlider(min=-50, max =50, step=1,value=0)\n",
    "Orientation= ToggleButtons(options=['x','y','z'],value='x')\n",
    "Comp = ToggleButtons(options=['real','imag','amplitude','phase'],value='real')\n",
    "View = ToggleButtons(options=['x','y','z','vec','amp'],value='x')\n",
    "normal = ToggleButtons(options=['x','y','z'],value='z')\n",
    "\n",
    "\n",
    "def interaction_2D(orientation, sigsl, freqsl,absloc, coordloc,component=\"real\",view=\"x\",normal=\"Z\"):\n",
    "    \n",
    "    x = np.arange(-50., 50., step=1.01)\n",
    "    y = np.arange(-50., 50., step=1.01)\n",
    "    ED_full = DataView()\n",
    "    ED_galvanic = DataView()\n",
    "    ED_inductive = DataView()\n",
    "    sigvec = 10.**np.arange(-8,8.5,0.5)\n",
    "    fvec = 10.**np.arange(-4,10.5,1)\n",
    "    # sigind, find = 10, 80, \n",
    "    srcLoc = np.r_[0., 0., 0.] # source location\n",
    "    sig, f = 10.**sigsl, np.r_[10.**freqsl] # conductivity (S/m), frequency (Hz)\n",
    "    \n",
    "    if normal.upper() == \"Z\":\n",
    "        obsLoc=np.c_[absloc,coordloc,np.r_[0.]]\n",
    "        ED_full.set_xyz(x,y, np.r_[0.], normal=normal) # set plane and locations ...\n",
    "        ED_galvanic.set_xyz(x,y, np.r_[0.], normal=normal)\n",
    "        ED_inductive.set_xyz(x,y, np.r_[0.], normal=normal)\n",
    "    elif normal.upper() == \"Y\":\n",
    "        obsLoc=np.c_[absloc,np.r_[0.],coordloc]\n",
    "        ED_full.set_xyz(x,np.r_[0.],y, normal=normal) # set plane and locations ... \n",
    "        ED_galvanic.set_xyz(x,np.r_[0.],y, normal=normal)\n",
    "        ED_inductive.set_xyz(x,np.r_[0.],y, normal=normal)\n",
    "    elif normal.upper() == \"X\":\n",
    "        obsLoc=np.c_[np.r_[0.],absloc,coordloc]\n",
    "        ED_full.set_xyz(np.r_[0.],x,y,normal=normal) # set plane and locations ... \n",
    "        ED_galvanic.set_xyz(np.r_[0.],x,y,normal=normal)\n",
    "        ED_inductive.set_xyz(np.r_[0.],x,y,normal=normal)\n",
    "    \n",
    "    ED_full.eval_2D(srcLoc, sig, f, orientation, EM.Analytics.E_from_ElectricDipoleWholeSpace) # evaluate\n",
    "    ED_galvanic.eval_2D(srcLoc, sig, f, orientation, EM.Analytics.E_galvanic_from_ElectricDipoleWholeSpace) # evaluate\n",
    "    ED_inductive.eval_2D(srcLoc, sig, f, orientation, EM.Analytics.E_inductive_from_ElectricDipoleWholeSpace) # evaluate\n",
    "    \n",
    "    fig = plt.figure(figsize=(6.5*3, 5))\n",
    "    ax0, ax1, ax2 = plt.subplot(131), plt.subplot(132), plt.subplot(133)\n",
    "    ax0, dat0 = ED_full.plot2D_FD(ax=ax0,component=component,view=view, logamp=True, ncontour=100, showcontour=False, colorbar=False, cmap=\"viridis\")\n",
    "    vmin, vmax = dat0.cvalues.min(), dat0.cvalues.max()\n",
    "    clim = [vmin, vmax]\n",
    "    ax1, dat1 = ED_galvanic.plot2D_FD(ax=ax1,component=component,view=view, logamp=True, ncontour=100, showcontour=False, colorbar=False, clim=clim, cmap=\"viridis\")\n",
    "    ax2, dat2 = ED_inductive.plot2D_FD(ax=ax2,component=component,view=view, logamp=True, ncontour=100, showcontour=False, colorbar=False, clim=clim, cmap=\"viridis\")\n",
    "    axs = [ax0, ax1, ax2]\n",
    "    dats = [dat0, dat1, dat2]\n",
    "    titles = [\"E total\", \"E galvanic\", \"E inductive\"]\n",
    "    for i in range(3):\n",
    "        axs[i].plot(absloc, coordloc, 'rx', ms=10, markeredgewidth=2)\n",
    "        axs[i].set_title(titles[i])\n",
    "        cb = plt.colorbar(dats[0],ax=axs[i], format=\"$10^{%.1f}$\", ticks=np.linspace(vmin, vmax, 3))\n",
    "        \n",
    "#     plt.tight_layout()\n",
    "\n",
    "interact(interaction_2D,orientation= Orientation,sigsl=sigslider, freqsl=freqslider,absloc=obslocx, coordloc=obslocy,component=Comp,view=View,normal=normal)"
   ]
  },
  {
   "cell_type": "code",
   "execution_count": null,
   "metadata": {
    "collapsed": false
   },
   "outputs": [],
   "source": [
    "from IPython.display import HTML\n",
    "HTML('<iframe width=\"800\" height=\"400\" src=\"https://www.youtube.com/embed/1h7xwRbI9ms\" frameborder=\"1\" allowfullscreen></iframe>')\n"
   ]
  },
  {
   "cell_type": "code",
   "execution_count": null,
   "metadata": {
    "collapsed": false
   },
   "outputs": [],
   "source": [
    "mode = ToggleButtons(options=['RI','AP','Phasor'],value='RI')\n",
    "View2 = ToggleButtons(options=['x','y','z'],value='x')\n",
    "sigslider = FloatSlider(min=-8, max =8, step=0.5,value=0)\n",
    "freqslider = FloatSlider(min=-4, max =10, step=0.5,value=-4)\n",
    "obslocx = FloatSlider(min=-50, max =50, step=1,value=25)\n",
    "obslocy = FloatSlider(min=-50, max =50, step=1,value=0)\n",
    "Orientation= ToggleButtons(options=['x','y','z'],value='x')\n",
    "Comp = ToggleButtons(options=['real','imag','amplitude','phase'],value='real')\n",
    "normal = ToggleButtons(options=['x','y','z'],value='z')\n",
    "\n",
    "\n",
    "def interaction_1D(orientation,component,view,normal,sigsl,freqsl,absloc,coordloc,mode):\n",
    "\n",
    "    x = np.arange(-50., 50., step=0.1)\n",
    "    y = np.arange(-50., 50., step=0.1)\n",
    "    ED_full = DataView()\n",
    "    #ED_galvanic = DataView()\n",
    "    #ED_inductive = DataView()\n",
    "    \n",
    "    sigvec = 10.**np.arange(-8,8.5,0.5)\n",
    "    fvec = 10.**np.arange(-4,10.5,0.5)\n",
    "    # sigind, find = 10, 80, \n",
    "    srcLoc = np.r_[0., 0., 0.] # source location\n",
    "    sig, f = 10.**sigsl, np.r_[10.**freqsl] # conductivity (S/m), frequency (Hz)\n",
    "    \n",
    "    if normal.upper() == \"Z\":\n",
    "        obsLoc=np.c_[absloc,coordloc,np.r_[0.]]\n",
    "        ED_full.set_xyz(x,y, np.r_[0.], normal=normal) # set plane and locations ...\n",
    "        #ED_galvanic.set_xyz(x,y, np.r_[0.], normal=normal)\n",
    "        #ED_inductive.set_xyz(x,y, np.r_[0.], normal=normal)\n",
    "    elif normal.upper() == \"Y\":\n",
    "        obsLoc=np.c_[absloc,np.r_[0.],coordloc]\n",
    "        ED_full.set_xyz(x,np.r_[0.],y, normal=normal) # set plane and locations ... \n",
    "        #ED_galvanic.set_xyz(x,np.r_[0.],y, normal=normal)\n",
    "        #ED_inductive.set_xyz(x,np.r_[0.],y, normal=normal)\n",
    "    elif normal.upper() == \"X\":\n",
    "        obsLoc=np.c_[np.r_[0.],absloc,coordloc]\n",
    "        ED_full.set_xyz(np.r_[0.],x,y,normal=normal) # set plane and locations ... \n",
    "        #ED_galvanic.set_xyz(np.r_[0.],x,y,normal=normal)\n",
    "        #ED_inductive.set_xyz(np.r_[0.],x,y,normal=normal)\n",
    "    \n",
    "    ED_full.eval_loc(srcLoc,obsLoc, sigvec, fvec, orientation, EM.Analytics.E_from_ElectricDipoleWholeSpace) # evaluate\n",
    "    #ED_galvanic.eval_loc(srcLoc,obsLoc, sigvec, fvec, orientation, EM.Analytics.E_galvanic_from_ElectricDipoleWholeSpace) # evaluate\n",
    "    #ED_inductive.eval_loc(srcLoc,obsLoc, sigvec, fvec, orientation, EM.Analytics.E_inductive_from_ElectricDipoleWholeSpace) # evaluate\n",
    "    \n",
    "    fig = plt.figure(figsize=(6.5*3, 5))\n",
    "    ax0 = plt.subplot(121)\n",
    "    ax2 = plt.subplot(122)\n",
    "\n",
    "    ax1 = ax0.twinx()\n",
    "    ax3 = ax2.twinx()\n",
    "\n",
    "    if mode ==\"RI\":\n",
    "        ax0 = ED_full.plot1D_FD(component=\"real\",view=view,abscisse=\"Conductivity\",slice=10.**freqsl, logamp=True, ax=ax0, color = 'blue')\n",
    "        ax1 = ED_full.plot1D_FD(component=\"imag\",view=view,abscisse=\"Conductivity\",slice=10.**freqsl, logamp=True, ax=ax1, color = 'red')\n",
    "    \n",
    "        ax2 = ED_full.plot1D_FD(component=\"real\",view=view,abscisse=\"Frequency\",slice=10.**sigsl, logamp=True, ax=ax2, color = 'blue')\n",
    "        ax3 = ED_full.plot1D_FD(component=\"imag\",view=view,abscisse=\"Frequency\",slice=10.**sigsl, logamp=True, ax=ax3, color = 'red')\n",
    "    \n",
    "    elif mode ==\"AP\":\n",
    "        ax0 = ED_full.plot1D_FD(component=\"Amplitude\",view=view,abscisse=\"Conductivity\",slice=10.**freqsl, logamp=True, ax=ax0, color = 'blue')\n",
    "        ax1 = ED_full.plot1D_FD(component=\"Phase\",view=view,abscisse=\"Conductivity\",slice=10.**freqsl, logamp=True, ax=ax1, color = 'red')\n",
    "     \n",
    "        ax2 = ED_full.plot1D_FD(component=\"Amplitude\",view=view,abscisse=\"Frequency\",slice=10.**sigsl, logamp=True, ax=ax3, color = 'blue')\n",
    "        ax3 = ED_full.plot1D_FD(component=\"Phase\",view=view,abscisse=\"Frequency\",slice=10.**sigsl, logamp=True, ax=ax3, color = 'red')\n",
    "    \n",
    "    elif mode ==\"Phasor\":\n",
    "        ax0 = ED_full.plot1D_FD(component=\"PHASOR\",view=view,abscisse=\"Conductivity\",slice=10.**freqsl, logamp=True, ax=ax0, color = 'black')\n",
    "        ax2 = ED_full.plot1D_FD(component=\"PHASOR\",view=view,abscisse=\"Frequency\",slice=10.**sigsl, logamp=True, ax=ax2, color = 'black')\n",
    "        \n",
    "    plt.tight_layout()\n",
    "\n",
    "\n",
    "interact(interaction_1D,orientation= Orientation,sigsl=sigslider, freqsl=freqslider,\n",
    "         absloc=obslocx, coordloc=obslocy,component=Comp,view=View2,normal=normal,mode=mode)"
   ]
  },
  {
   "cell_type": "code",
   "execution_count": null,
   "metadata": {
    "collapsed": false
   },
   "outputs": [],
   "source": [
    "xloc, yloc, zloc = 10, 0, ED_full.z\n",
    "fig = plt.figure(figsize=(6.5*2, 5))\n",
    "ax0, ax1 = plt.subplot(121), plt.subplot(122)\n",
    "ax0, dat0 = ED_full.plot2D_FD(ax=ax0,component=\"amplitude\",view=\"x\", logamp=True, ncontour=100, showcontour=False, colorbar=False, cmap=\"viridis\")\n",
    "vmin, vmax = dat0.cvalues.min(), dat0.cvalues.max()\n",
    "clim = [vmin, vmax]\n",
    "ax1, dat1 = ED_full.plot2D_FD(ax=ax1,component=\"phase\",view=\"x\", logamp=False, ncontour=100, showcontour=False, colorbar=False, cmap=\"viridis\")\n",
    "axs = [ax0, ax1]\n",
    "dats = [dat0, dat1]\n",
    "titles = [\"E real\", \"E imaginary\"]\n",
    "for i in range(2):\n",
    "    axs[i].plot(xloc, yloc, 'rx', ms=10, markeredgewidth=2)\n",
    "    axs[i].set_title(titles[i])\n",
    "    cb = plt.colorbar(dats[i],ax=axs[i], format=\"$10^{%.1f}$\", ticks=np.linspace(vmin, vmax, 3))"
   ]
  },
  {
   "cell_type": "code",
   "execution_count": null,
   "metadata": {
    "collapsed": false
   },
   "outputs": [],
   "source": [
    "obsLoc=np.c_[xloc, yloc, zloc]\n",
    "ED_full.eval_loc(srcLoc, obsLoc, sigvec, fvec, \"x\", EM.Analytics.E_galvanic_from_ElectricDipoleWholeSpace)"
   ]
  },
  {
   "cell_type": "code",
   "execution_count": null,
   "metadata": {
    "collapsed": false
   },
   "outputs": [],
   "source": [
    "# absloc, coordloc = xloc, yloc\n",
    "# fig = plt.figure()\n",
    "# ax0 = plt.subplot(111)\n",
    "# ax1 = ax0.twinx()\n",
    "# ax0, ax1 = self.plot_1D_RI_f_x(absloc,coordloc,ax0,ax1,sigind)\n",
    "# tempfunc = lambda sigind: self.plot_1D_RI_f_x(absloc,coordloc,ax0,ax1,sigind)\n",
    "# sigslider = IntSlider(min=0, max =len(sigvec)-1, step=1,value=sigind)\n",
    "# interact(tempfunc, sigind=sigslider)"
   ]
  },
  {
   "cell_type": "code",
   "execution_count": null,
   "metadata": {
    "collapsed": false
   },
   "outputs": [],
   "source": [
    "sigslider = IntSlider(min=0, max =len(sigvec)-1, step=10,value=sigind)\n",
    "freqslider = IntSlider(min=0, max =len(fvec)-1, step=10,value=find)\n",
    "# obslocx = IntSlider(min=-100, max =100, step=1,value=0)\n",
    "# obslocy = IntSlider(min=-100, max =100, step=1,value=0)\n",
    "# obslocz = IntSlider(min=-100, max =100, step=1,value=1)\n",
    "mode = ToggleButtons(options=['RI','AP'],value='RI')\n",
    "# obslocx,obslocy,obslocz,sigind,freqind,mode\n",
    "tempfunc = lambda sigind, freqind, mode: ED_full.plot_1D_x(xloc,yloc,zloc,sigind, freqind, mode)\n",
    "interact(tempfunc,sigind=sigslider,freqind=freqslider,mode=mode)"
   ]
  },
  {
   "cell_type": "code",
   "execution_count": null,
   "metadata": {
    "collapsed": false
   },
   "outputs": [],
   "source": [
    "print 500*np.sqrt(1./fvec[183]/sigvec[sigind])"
   ]
  },
  {
   "cell_type": "code",
   "execution_count": null,
   "metadata": {
    "collapsed": false
   },
   "outputs": [],
   "source": [
    "sigind=45\n",
    "freqind=70\n",
    "\n",
    "absloc=1.\n",
    "coordloc=1.\n",
    "\n",
    "figfig = plt.figure(figsize=(50,25))\n",
    "ax0 = plt.subplot(521)\n",
    "ax1 = plt.subplot(522)\n",
    "ax2 = plt.subplot(523)\n",
    "ax3 = plt.subplot(524)\n",
    "ax4 = plt.subplot(525)\n",
    "ax5 = plt.subplot(526)\n",
    "ax6 = plt.subplot(527)\n",
    "ax7 = plt.subplot(528)\n",
    "ax8 = plt.subplot(529)\n",
    "ax9 = plt.subplot(5,2,10)\n",
    "\n",
    "ax0,ax1 = self.plot_1D_AP_f_x(absloc,coordloc,ax0,ax1,sigind)\n",
    "ax2,ax3 = self.plot_1D_AP_sig_x(absloc,coordloc,ax2,ax3,freqind)\n",
    "ax4,ax5 = self.plot_1D_RI_f_x(absloc,coordloc,ax4,ax5,sigind)\n",
    "ax6,ax7 = self.plot_1D_RI_sig_x(absloc,coordloc,ax6,ax7,freqind)\n",
    "ax8 = self.plot_1D_phasor_f_x(absloc,coordloc,ax8,sigind)\n",
    "ax9 = self.plot_1D_phasor_sig_x(absloc,coordloc,ax9,freqind)\n",
    "\n",
    "plt.tight_layout()"
   ]
  },
  {
   "cell_type": "code",
   "execution_count": null,
   "metadata": {
    "collapsed": false
   },
   "outputs": [],
   "source": [
    "# fig = plt.figure()\n",
    "# ax0 = plt.subplot(111)\n",
    "# ax1 = ax0.twinx()\n",
    "# ax0, ax1 = self.plot_1D_AP_f_x(absloc,coordloc,ax0,ax1,sigind)"
   ]
  },
  {
   "cell_type": "code",
   "execution_count": null,
   "metadata": {
    "collapsed": false
   },
   "outputs": [],
   "source": [
    "sigind=45\n",
    "freqind=70\n",
    "\n",
    "absloc=1.\n",
    "coordloc=1.\n",
    "\n",
    "figfig = plt.figure(figsize=(50,25))\n",
    "ax0 = plt.subplot(521)\n",
    "ax1 = plt.subplot(522)\n",
    "ax2 = plt.subplot(523)\n",
    "ax3 = plt.subplot(524)\n",
    "ax4 = plt.subplot(525)\n",
    "ax5 = plt.subplot(526)\n",
    "ax6 = plt.subplot(527)\n",
    "ax7 = plt.subplot(528)\n",
    "ax8 = plt.subplot(529)\n",
    "ax9 = plt.subplot(5,2,10)\n",
    "\n",
    "ax0,ax1 = self.plot_1D_AP_f_y(absloc,coordloc,ax0,ax1,sigind)\n",
    "ax2,ax3 = self.plot_1D_AP_sig_y(absloc,coordloc,ax2,ax3,freqind)\n",
    "ax4,ax5 = self.plot_1D_RI_f_y(absloc,coordloc,ax4,ax5,sigind)\n",
    "ax6,ax7 = self.plot_1D_RI_sig_y(absloc,coordloc,ax6,ax7,freqind)\n",
    "ax8 = self.plot_1D_phasor_f_y(absloc,coordloc,ax8,sigind)\n",
    "ax9 = self.plot_1D_phasor_sig_y(absloc,coordloc,ax9,freqind)\n",
    "\n",
    "plt.tight_layout()"
   ]
  },
  {
   "cell_type": "code",
   "execution_count": null,
   "metadata": {
    "collapsed": false
   },
   "outputs": [],
   "source": [
    "sigind=45\n",
    "freqind=70\n",
    "\n",
    "absloc=1.\n",
    "coordloc=1.\n",
    "\n",
    "fig = plt.figure(figsize=(50,25))\n",
    "ax0 = plt.subplot(521)\n",
    "ax1 = plt.subplot(522)\n",
    "ax2 = plt.subplot(523)\n",
    "ax3 = plt.subplot(524)\n",
    "ax4 = plt.subplot(525)\n",
    "ax5 = plt.subplot(526)\n",
    "ax6 = plt.subplot(527)\n",
    "ax7 = plt.subplot(528)\n",
    "ax8 = plt.subplot(529)\n",
    "ax9 = plt.subplot(5,2,10)\n",
    "\n",
    "ax0,ax1 = self.plot_1D_AP_f_z(absloc,coordloc,ax0,ax1,sigind)\n",
    "ax2,ax3 = self.plot_1D_AP_sig_z(absloc,coordloc,ax2,ax3,freqind)\n",
    "ax4,ax5 = self.plot_1D_RI_f_z(absloc,coordloc,ax4,ax5,sigind)\n",
    "ax6,ax7 = self.plot_1D_RI_sig_z(absloc,coordloc,ax6,ax7,freqind)\n",
    "ax8 = self.plot_1D_phasor_f_z(absloc,coordloc,ax8,sigind)\n",
    "ax9 = self.plot_1D_phasor_sig_z(absloc,coordloc,ax9,freqind)\n",
    "\n",
    "plt.tight_layout()"
   ]
  },
  {
   "cell_type": "code",
   "execution_count": null,
   "metadata": {
    "collapsed": true
   },
   "outputs": [],
   "source": []
  }
 ],
 "metadata": {
  "kernelspec": {
   "display_name": "Python 2",
   "language": "python",
   "name": "python2"
  },
  "language_info": {
   "codemirror_mode": {
    "name": "ipython",
    "version": 2
   },
   "file_extension": ".py",
   "mimetype": "text/x-python",
   "name": "python",
   "nbconvert_exporter": "python",
   "pygments_lexer": "ipython2",
   "version": "2.7.11"
  }
 },
 "nbformat": 4,
 "nbformat_minor": 0
}
