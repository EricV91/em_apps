{
 "cells": [
  {
   "cell_type": "markdown",
   "metadata": {},
   "source": [
    "This is the <a href=\"https://jupyter.org/\">Jupyter Notebook</a>, an interactive coding and computation environment. For this lab, you do not have to write any code, you will only be running it. \n",
    "\n",
    "To use the notebook:\n",
    "- \"Shift + Enter\" runs the code within the cell (so does the forward arrow button near the top of the document)\n",
    "- You can alter variables and re-run cells\n",
    "- If you want to start with a clean slate, restart the Kernel either by going to the top, clicking on Kernel: Restart, or by \"esc + 00\" (if you do this, you will need to re-run the following block of code before running any other cells in the notebook) "
   ]
  },
  {
   "cell_type": "code",
   "execution_count": null,
   "metadata": {
    "collapsed": false
   },
   "outputs": [],
   "source": [
    "%matplotlib inline\n",
    "import sys\n",
    "sys.path.append(\"../../util_codes/\")\n",
    "from DipoleWidget import DipoleWidget\n",
    "from VolumeWidget import InteractivePlanes, plotObj3D"
   ]
  },
  {
   "cell_type": "markdown",
   "metadata": {},
   "source": [
    "# Electrical Dipole in a Whole-space (frequency-domain)"
   ]
  },
  {
   "cell_type": "code",
   "execution_count": 3,
   "metadata": {
    "collapsed": false,
    "scrolled": true
   },
   "outputs": [
    {
     "data": {
      "text/html": [
       "<iframe width=\"600\" height=\"400\" src=\"https://www.youtube.com/embed/tTQOm096Oq4\" frameborder=\"0\" allowfullscreen></iframe>"
      ],
      "text/plain": [
       "<IPython.core.display.HTML object>"
      ]
     },
     "execution_count": 3,
     "metadata": {},
     "output_type": "execute_result"
    }
   ],
   "source": [
    "from IPython.display import HTML\n",
    "HTML('<iframe width=\"600\" height=\"400\" src=\"https://www.youtube.com/embed/tTQOm096Oq4\" frameborder=\"0\" allowfullscreen></iframe>')"
   ]
  },
  {
   "cell_type": "code",
   "execution_count": null,
   "metadata": {
    "collapsed": false
   },
   "outputs": [],
   "source": [
    "ax = plotObj3D()"
   ]
  },
  {
   "cell_type": "markdown",
   "metadata": {},
   "source": [
    "## Purpose\n",
    "\n",
    "By using an analytic solution electromagnetic (EM) fields from electrical dipole in a Whole-space, we present some fundamentals of EM responses in the context of crosswell EM survey. "
   ]
  },
  {
   "cell_type": "markdown",
   "metadata": {},
   "source": [
    "## Backgrounds \n",
    "\n",
    "When using crosswell electromagnetic (EM) survey, we inject DC or sinusoidal currents to the earth using (+) and (-) current electrodes, and measure voltages between potential electrodes. A common goal here is imaging conductivity structure of the earth by interpreting measured voltages. However, to accomplish that task well, we first need to understand physical behavior of EM responses for the given survey set-up. \n",
    "\n",
    "Assuming length of the current elecrodes are small enough, this can be assumed as electrical dipole (ED). For a croswell set-up, let we have a vertical electic dipole (VED) source in a homogeneous earth with sinusodal currents, then we can have analytic solution of EM fields in frequency domain (WH1988). Solution of of arbitrary EM fields, $\\mathbf{F}$, will be a function of \n",
    "\n",
    "$$ \\mathbf{F} (x, y, z; \\sigma, f),$$ \n",
    "\n",
    "where $\\sigma$ is conductivity of homogenous earth (S/m), and $f$ is transmitting frequency (Hz). Here $\\mathbf{F}$ can be electic ($\\mathbf{E}$) or magnetic field ($\\mathbf{H}$), or current density ($\\mathbf{J}$). <strong>Now, you will explore how EM responses behaves as a function of space, $\\sigma$, and $f$ for the given crosswell EM set-up  </strong>. "
   ]
  },
  {
   "cell_type": "markdown",
   "metadata": {},
   "source": [
    "##  Crosswell EM set-up\n",
    "Here, we choose geometric parameters for a crosswell EM set-up having two boreholes for Tx and Rx. In the Tx hole, a VED source is located at (0m, 0m, 0m), and it is fixed. Horizontal location of the Rx hole is fixed to 50m apart from the source location in x-direction.  "
   ]
  },
  {
   "cell_type": "markdown",
   "metadata": {},
   "source": [
    "### Step1: Choose geometric parameters\n",
    "\n",
    "- plane: Choose either \"XZ\" or \"YZ\" plane\n",
    "- offset: Offset from a source plane (m)\n",
    "- nRx: The number of receivers in the Rx hole\n",
    "\n",
    "Chosen geometric parameters will be used in the Electric Dipole widget below. "
   ]
  },
  {
   "cell_type": "code",
   "execution_count": null,
   "metadata": {
    "collapsed": false
   },
   "outputs": [],
   "source": [
    "Q = InteractivePlanes(); Q"
   ]
  },
  {
   "cell_type": "markdown",
   "metadata": {},
   "source": [
    "## Electric Dipole widget"
   ]
  },
  {
   "cell_type": "markdown",
   "metadata": {},
   "source": [
    "### Step2: Explore behavior of EM fields, $\\mathbf{F} (x, y, z; \\sigma, f)$\n",
    "\n",
    "- dtype: Type of complex data (\"real\", \"imaginary\", \"amplitude\", \"phase\")\n",
    "- vector: Type of the vectoral EM fields \n",
    "\n",
    "    scalar: $F_x$ or $F_y$ or $F_z$\n",
    "    \n",
    "    vector: Real part of a vectoral EM fields, $\\Re[\\mathbf{F}]$\n",
    "    \n",
    "    amplitude: $\\mathbf{F} \\cdot \\mathbf{F}^* = |\\mathbf{F}|^2$\n",
    "    \n",
    "    \n",
    "- rxdirection: Direction of $\\mathbf{F}$ at Rx locations\n",
    "- fieldtype: Type of EM fields (\"E\": electric field, \"H\": magnetic field, \"J\": current density)\n",
    "- frequency: Transmitting frequency (Hz)\n",
    "- sigma: Conductivity of homogeneous earth (S/m)\n",
    "- offset: Offset from a source plane\n",
    "- scale: Choose \"log\" or \"linear\" scale \n",
    "- flog: A float slider for log10 frequency (only activated when slider is checked) \n",
    "- siglog: A float slider for log10 conductivity (only activated when slider is checked)\n",
    "- slider: When it is checked, it activates \"flog\" and \"siglog\" sliders above. "
   ]
  },
  {
   "cell_type": "code",
   "execution_count": null,
   "metadata": {
    "collapsed": false
   },
   "outputs": [],
   "source": [
    "dwidget = DipoleWidget()\n",
    "dwidget.InteractiveDipoleBH(nRx=Q.kwargs[\"nRx\"], plane=Q.kwargs[\"plane\"], offset_plane=Q.kwargs[\"offset\"])"
   ]
  },
  {
   "cell_type": "code",
   "execution_count": null,
   "metadata": {
    "collapsed": true
   },
   "outputs": [],
   "source": []
  }
 ],
 "metadata": {
  "kernelspec": {
   "display_name": "Python 2",
   "language": "python",
   "name": "python2"
  },
  "language_info": {
   "codemirror_mode": {
    "name": "ipython",
    "version": 2
   },
   "file_extension": ".py",
   "mimetype": "text/x-python",
   "name": "python",
   "nbconvert_exporter": "python",
   "pygments_lexer": "ipython2",
   "version": "2.7.11"
  }
 },
 "nbformat": 4,
 "nbformat_minor": 0
}
