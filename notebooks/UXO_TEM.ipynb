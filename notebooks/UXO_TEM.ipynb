{
 "cells": [
  {
   "cell_type": "code",
   "execution_count": 1,
   "metadata": {},
   "outputs": [],
   "source": [
    "# IMPORT PACKAGES\n",
    "import em_examples.UXO_TEM_Widget as UXO\n",
    "from IPython.display import display\n",
    "from ipywidgets import HBox"
   ]
  },
  {
   "cell_type": "code",
   "execution_count": 2,
   "metadata": {},
   "outputs": [
    {
     "data": {
      "application/vnd.jupyter.widget-view+json": {
       "model_id": "dbd0b6c87fb747ca9a0e88e26c82136a"
      }
     },
     "metadata": {},
     "output_type": "display_data"
    },
    {
     "data": {
      "application/vnd.jupyter.widget-view+json": {
       "model_id": "8b8a1db95e9c4a22943198207828db19"
      }
     },
     "metadata": {},
     "output_type": "display_data"
    },
    {
     "data": {
      "application/vnd.jupyter.widget-view+json": {
       "model_id": "6522cc232ff5422f82d077dd96be2479"
      }
     },
     "metadata": {},
     "output_type": "display_data"
    },
    {
     "data": {
      "application/vnd.jupyter.widget-view+json": {
       "model_id": "dd4bc49008634728a1b976ce78640a11"
      }
     },
     "metadata": {},
     "output_type": "display_data"
    },
    {
     "data": {
      "application/vnd.jupyter.widget-view+json": {
       "model_id": "3136449f389f4196b5a9dc4b412b4cd1"
      }
     },
     "metadata": {},
     "output_type": "display_data"
    },
    {
     "data": {
      "application/vnd.jupyter.widget-view+json": {
       "model_id": "5fd40136c5374bf59e733d03b915b0ff"
      }
     },
     "metadata": {},
     "output_type": "display_data"
    }
   ],
   "source": [
    "Out1 = UXO.ImageUXOWidget()\n",
    "display(HBox(Out1.children[0:3]))\n",
    "display(HBox(Out1.children[3:7]))\n",
    "display(HBox(Out1.children[7:11]))\n",
    "display(HBox(Out1.children[11:15]))\n",
    "display(Out1.children[15])\n",
    "Out1.out"
   ]
  },
  {
   "cell_type": "code",
   "execution_count": 3,
   "metadata": {},
   "outputs": [
    {
     "data": {
      "application/vnd.jupyter.widget-view+json": {
       "model_id": "790ce2e6bb574274bb8230793673ae31"
      }
     },
     "metadata": {},
     "output_type": "display_data"
    },
    {
     "data": {
      "application/vnd.jupyter.widget-view+json": {
       "model_id": "71d4d190e9af4f17aebdb2554c6bfd32"
      }
     },
     "metadata": {},
     "output_type": "display_data"
    },
    {
     "data": {
      "application/vnd.jupyter.widget-view+json": {
       "model_id": "7aec100a52c747d499d445e47e77792c"
      }
     },
     "metadata": {},
     "output_type": "display_data"
    },
    {
     "data": {
      "application/vnd.jupyter.widget-view+json": {
       "model_id": "0456048bd0dd4f05908f35b948792a41"
      }
     },
     "metadata": {},
     "output_type": "display_data"
    },
    {
     "data": {
      "application/vnd.jupyter.widget-view+json": {
       "model_id": "07fd9951068e4e03bfce442d0be619d0"
      }
     },
     "metadata": {},
     "output_type": "display_data"
    },
    {
     "data": {
      "application/vnd.jupyter.widget-view+json": {
       "model_id": "4730fe02253146df82930273343308f3"
      }
     },
     "metadata": {},
     "output_type": "display_data"
    },
    {
     "data": {
      "application/vnd.jupyter.widget-view+json": {
       "model_id": "4aa4b8b0761747cb9eb3920ac40b3211"
      }
     },
     "metadata": {},
     "output_type": "display_data"
    }
   ],
   "source": [
    "# ADJUST ANY SLIDER TO INITIATE PLOT!!!\n",
    "TxType = \"EM61\" # Set TxType to \"EM61\", \"TEMTADS\" or \"MPV\"\n",
    "\n",
    "Out2 = UXO.ImageDataWidget(TxType)\n",
    "display(HBox(Out2.children[0:3]))\n",
    "display(HBox(Out2.children[3:6]))\n",
    "display(HBox(Out2.children[6:10]))\n",
    "display(HBox(Out2.children[10:14]))\n",
    "display(HBox(Out2.children[14:18]))\n",
    "display(HBox(Out2.children[18:21]))\n",
    "if TxType is \"MPV\":\n",
    "    display(Out2.children[21])\n",
    "Out2.out"
   ]
  },
  {
   "cell_type": "code",
   "execution_count": 5,
   "metadata": {
    "scrolled": true
   },
   "outputs": [
    {
     "data": {
      "application/vnd.jupyter.widget-view+json": {
       "model_id": "b9aead5381f6495a8874d2457107317a"
      }
     },
     "metadata": {},
     "output_type": "display_data"
    },
    {
     "data": {
      "application/vnd.jupyter.widget-view+json": {
       "model_id": "b26347490a2d4e6fb87edc45f9ebe759"
      }
     },
     "metadata": {},
     "output_type": "display_data"
    },
    {
     "data": {
      "application/vnd.jupyter.widget-view+json": {
       "model_id": "b4c1d0d597b0480b9bc301299f2b9149"
      }
     },
     "metadata": {},
     "output_type": "display_data"
    },
    {
     "data": {
      "application/vnd.jupyter.widget-view+json": {
       "model_id": "770aeb27e43a4820b307d3b7f063efbc"
      }
     },
     "metadata": {},
     "output_type": "display_data"
    },
    {
     "data": {
      "application/vnd.jupyter.widget-view+json": {
       "model_id": "fbb34131b6c7440a927c8f9868b2241a"
      }
     },
     "metadata": {},
     "output_type": "display_data"
    },
    {
     "data": {
      "application/vnd.jupyter.widget-view+json": {
       "model_id": "7177d424606c464c9faa193a0d83b8f9"
      }
     },
     "metadata": {},
     "output_type": "display_data"
    },
    {
     "data": {
      "application/vnd.jupyter.widget-view+json": {
       "model_id": "5383665bbfb44efaaf04b43dcacfe552"
      }
     },
     "metadata": {},
     "output_type": "display_data"
    },
    {
     "data": {
      "application/vnd.jupyter.widget-view+json": {
       "model_id": "be032ca9b7514bd6979643be04d185bc"
      }
     },
     "metadata": {},
     "output_type": "display_data"
    },
    {
     "data": {
      "application/vnd.jupyter.widget-view+json": {
       "model_id": "22ad31a7b62e47e0893d822f6043c2fd"
      }
     },
     "metadata": {},
     "output_type": "display_data"
    }
   ],
   "source": [
    "TxType = \"EM61\" # Set TxType to \"EM61\", \"TEMTADS\" or \"MPV\"\n",
    "\n",
    "Out3 = UXO.InversionWidget(TxType)\n",
    "display(HBox(Out3.children[0:3]))\n",
    "display(HBox(Out3.children[3:6]))\n",
    "display(HBox(Out3.children[6:10]))\n",
    "display(HBox(Out3.children[10:14]))\n",
    "display(HBox(Out3.children[14:18]))\n",
    "display(HBox(Out3.children[18:22]))\n",
    "display(HBox(Out3.children[22:25]))\n",
    "if TxType is \"MPV\":\n",
    "    display(HBox(Out3.children[25:27]))\n",
    "else:\n",
    "    display(Out3.children[25])\n",
    "Out3.out"
   ]
  },
  {
   "cell_type": "code",
   "execution_count": null,
   "metadata": {
    "collapsed": true
   },
   "outputs": [],
   "source": []
  },
  {
   "cell_type": "code",
   "execution_count": null,
   "metadata": {
    "collapsed": true
   },
   "outputs": [],
   "source": []
  },
  {
   "cell_type": "code",
   "execution_count": null,
   "metadata": {
    "collapsed": true
   },
   "outputs": [],
   "source": []
  }
 ],
 "metadata": {
  "kernelspec": {
   "display_name": "Python [default]",
   "language": "python",
   "name": "python2"
  },
  "language_info": {
   "codemirror_mode": {
    "name": "ipython",
    "version": 2
   },
   "file_extension": ".py",
   "mimetype": "text/x-python",
   "name": "python",
   "nbconvert_exporter": "python",
   "pygments_lexer": "ipython2",
   "version": "2.7.13"
  }
 },
 "nbformat": 4,
 "nbformat_minor": 2
}
