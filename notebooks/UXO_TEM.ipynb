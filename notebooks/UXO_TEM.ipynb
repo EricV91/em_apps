{
 "cells": [
  {
   "cell_type": "code",
   "execution_count": 1,
   "metadata": {
    "collapsed": true
   },
   "outputs": [],
   "source": [
    "# IMPORT PACKAGES\n",
    "import em_examples.UXO_TEM_Widget as UXO\n",
    "from IPython.display import display\n",
    "from ipywidgets import HBox"
   ]
  },
  {
   "cell_type": "markdown",
   "metadata": {},
   "source": [
    "# Background Theory\n",
    "\n",
    "### Polarization Tensor\n",
    "\n",
    "The magnetic dipole moment ${\\bf m}$ which characterizes the polarization of a compact object is given by:\n",
    "\n",
    "\\begin{equation}\n",
    "\\mathbf{m = Q \\, h_p}\n",
    "\\end{equation}\n",
    "\n",
    "where ${\\bf h_p} = [h_x,h_y,h_z]^T$ is the primary magnetic field caused by the transmitter before shut-off and ${\\bf Q}$ is the called the **polarization tensor**. The polarization tensor is a 3X3 symmetric, positive-definite (SPD) matrix given by:\n",
    "\n",
    "\\begin{equation}\n",
    "{\\bf Q} = \\begin{bmatrix} q_{11} & q_{12} & q_{13} \\\\ q_{12} & q_{22} & q_{23} \\\\ q_{13} & q_{23} & q_{33} \\end{bmatrix}\n",
    "\\end{equation}\n",
    "\n",
    "where $q_{ij}$ defines hows strongly field component $h_i$ contributes towards $m_j$.\n",
    "\n",
    "<img style=\"float: right; width: 500px\" src=\"https://github.com/geoscixyz/em_apps/blob/UXOTEMapp/images/CoordinatesUXO.png?raw=true\">\n",
    "\n",
    "### Coordinates and Primary Polarizations\n",
    "\n",
    "The polarization tensor characterizing an object depends on its orientation, dimensions and electromagnetic properties. Because the polarization tensor is SPD, it can be decomposed using the following eigen-decomposition:\n",
    "\n",
    "\\begin{equation}\n",
    "{\\bf Q = A \\, L(t) \\, A^T}\n",
    "\\end{equation}\n",
    "\n",
    "where\n",
    "\n",
    "\\begin{equation}\n",
    "{\\bf A} = \\begin{bmatrix} a_{11} & a_{12} & a_{13} \\\\ a_{12} & a_{22} & a_{23} \\\\ a_{13} & a_{23} & a_{33} \\end{bmatrix} \\;\\;\\;\\; \\textrm{and} \\;\\;\\;\\;\n",
    "{\\bf L(t)} = \\begin{bmatrix} L_{x'}(t) & 0 & 0 \\\\ 0 & L_{y'}(t) & 0 \\\\ 0 & 0 & L_{z'}(t) \\end{bmatrix}\n",
    "\\end{equation}\n",
    "\n",
    "${\\bf A}$ is a SPD rotation matrix from the coordinate system defined by the UXO ($x',y',z'$) to the field coordinate system ($x,y,z$). ${\\bf A}$ is defined by three angles: $\\psi,\\theta$ and $\\phi$. $\\theta$ is the azimuthal angle (angle relative to vertical), $\\phi$ is the declination (angle relative to North) and $\\psi$ is the roll (rotation about z' axis). \n",
    "\n",
    "${\\bf L(t)}$ characterizes the primary polarization of the object along each axis. Depending on the dimensions of the object, $L_{x'},L_{y'}$ and $L_{z'}$ may differ. For a given axis $i$, the primary polarization can be characterizes at $t>0$ using the following model:\n",
    "\n",
    "\\begin{equation}\n",
    "L_{ii}(t) = k_i \\Bigg ( 1 + \\frac{t^{1/2}}{\\alpha_i^{1/2}} \\Bigg )^{-\\beta_i} e^{-t/\\gamma_i}\n",
    "\\end{equation}\n",
    "\n",
    "where the decay is determined by parameters $k_i,\\alpha_i,\\beta_i$ and $\\gamma_i$.\n",
    "\n",
    "### Predicting Data\n",
    "\n",
    "There are a multitude of instruments used to measure the time-domain responses exhibited by UXOs (EM61, TEMTADS, MPV). For each individual measurement, a transmitter loop produces a primary magnetic field ${\\bf h_p} = [h_x,h_y,h_z]^T$ which is turned off a $t=0$. The primary field polarizes the UXO according to its polarization tensor ${\\bf Q}$. The polarization of the object produces a secondary field which induces an EMF in any receiver coil. The orientation of the receiver coil(s) and the corresponding EMF are indicative of the secondary field due to the object.\n",
    "\n",
    "Where ${\\bf G} = [g_x,g_y,g_z]$ predicts the EMF induced within a receiver coil due to the polarization of the object, a single datum is given by:\n",
    "\n",
    "\n",
    "\\begin{equation}\n",
    "{\\bf d = G \\, Q \\, h_p}\n",
    "\\end{equation}\n",
    "\n",
    "Because it is SPD, the polarization tensor may be characterized at each time by 6 parameters $(q_{11},q_{12},q_{13},q_{22},q_{23},q_{33})$. The previous expression can ultimately be reformulated as:\n",
    "\n",
    "\\begin{equation}\n",
    "{\\bf d = P \\, q}\n",
    "\\end{equation}\n",
    "\n",
    "where\n",
    "\n",
    "\\begin{equation}\n",
    "{\\bf P} = [h_xg_x \\;\\; h_xg_y \\!+\\! h_yg_x \\;\\; h_xg_z \\!+\\! h_zg_x \\;\\; h_zg_y \\;\\; h_yg_z \\!+\\! h_zg_y \\;\\; h_zg_z]\n",
    "\\end{equation}\n",
    "\n",
    "and\n",
    "\n",
    "\\begin{equation}\n",
    "{\\bf q^T} = [q_{11} \\;\\; q_{12} \\;\\; q_{13} \\;\\; q_{22}\\;\\; q_{23} \\;\\; q_{33}]\n",
    "\\end{equation}\n",
    "\n",
    "Thus in the case that there are $N$ distinct transmitter-receiver pair, each transmitter-receiver pair is represented as a row within ${\\bf P}$. {\\bf q} contains all the necessary information to construct {\\bf Q} and {\\bf P} contains all the geometric information associated with the problem."
   ]
  },
  {
   "cell_type": "markdown",
   "metadata": {},
   "source": [
    "# UXO Orientation and Polarization App\n",
    "\n",
    "### Purpose\n",
    "\n",
    "This app allows the user to visualize the orientation, approximate dimensions and polarizability of compact objects they wish to model with subsequent apps.\n",
    "\n",
    "### Parameter Descriptions\n",
    "\n",
    "* $\\Phi$: Clockwise rotation about the z-axis\n",
    "* $\\theta$: Azimuthal angle (angle from vertical)\n",
    "* $\\phi$: Declination angle (Clockwise angle from North)\n",
    "* $k_i,\\alpha_i,\\beta_i,\\gamma_i$: Parameters which characterize the polarization along axis $i$"
   ]
  },
  {
   "cell_type": "code",
   "execution_count": 2,
   "metadata": {},
   "outputs": [
    {
     "data": {
      "application/vnd.jupyter.widget-view+json": {
       "model_id": "14006d2bedc3418aa87170783d5c0d94"
      }
     },
     "metadata": {},
     "output_type": "display_data"
    },
    {
     "data": {
      "application/vnd.jupyter.widget-view+json": {
       "model_id": "9538ae23354e4df0a99fd945e64eea18"
      }
     },
     "metadata": {},
     "output_type": "display_data"
    },
    {
     "data": {
      "application/vnd.jupyter.widget-view+json": {
       "model_id": "fd6159eaab4049d29ee66bdb631f0592"
      }
     },
     "metadata": {},
     "output_type": "display_data"
    },
    {
     "data": {
      "application/vnd.jupyter.widget-view+json": {
       "model_id": "b038c88910904aeb9c10d6615e9d7024"
      }
     },
     "metadata": {},
     "output_type": "display_data"
    },
    {
     "data": {
      "application/vnd.jupyter.widget-view+json": {
       "model_id": "e1b528fb6aac49379e9ad240a964c8a7"
      }
     },
     "metadata": {},
     "output_type": "display_data"
    },
    {
     "data": {
      "application/vnd.jupyter.widget-view+json": {
       "model_id": "aae9f3a041a1437396557ee46948bf48"
      }
     },
     "metadata": {},
     "output_type": "display_data"
    }
   ],
   "source": [
    "# NOTE: INITIATE WIDGET BY ADJUSTING ANY PARAMETER!!!\n",
    "\n",
    "Out1 = UXO.ImageUXOWidget()\n",
    "display(HBox(Out1.children[0:3]))\n",
    "display(HBox(Out1.children[3:7]))\n",
    "display(HBox(Out1.children[7:11]))\n",
    "display(HBox(Out1.children[11:15]))\n",
    "display(Out1.children[15])\n",
    "Out1.out"
   ]
  },
  {
   "cell_type": "markdown",
   "metadata": {},
   "source": [
    "# Data Visualization Widget\n",
    "\n",
    "### Purpose\n",
    "\n",
    "This app allows the user to visualize the time-domain response using three commonly used instruments: EM61, TEMTADS, and MPV. On the leftmost plot, the TEM anomaly at the center of the transmitter loop is plotted at a specified time. On the rightmost plot, the TEM decays registered by all receiver coils for a particular transmitter loop are plotted.\n",
    "\n",
    "### Parameter Descriptions\n",
    "\n",
    "* TxType: Instrument used to predict data. Set as \"EM61\", \"TEMTADS\" or \"MPV\"\n",
    "* $x_{true},y_{true},z_{true}$: Location of the object\n",
    "* $\\psi,\\theta,\\phi$: Angles defining the orientation of the object\n",
    "* $k_i,\\alpha_i,\\beta_i,\\gamma_i$: Parameters which characterize the polarization along axis $i$\n",
    "* Time channel: Adjusts the time in which the TEM anomaly at the center of the transmitter loop is plotted\n",
    "* X location, Y location: The transmitter location at which you would like to see all decays measured by the receiver coils."
   ]
  },
  {
   "cell_type": "code",
   "execution_count": 3,
   "metadata": {},
   "outputs": [
    {
     "data": {
      "application/vnd.jupyter.widget-view+json": {
       "model_id": "823b312a23f24c72ad44f23ed17b6dbd"
      }
     },
     "metadata": {},
     "output_type": "display_data"
    },
    {
     "data": {
      "application/vnd.jupyter.widget-view+json": {
       "model_id": "bfb388927dd242d78369647161d0dfc4"
      }
     },
     "metadata": {},
     "output_type": "display_data"
    },
    {
     "data": {
      "application/vnd.jupyter.widget-view+json": {
       "model_id": "7c79b6cec53a43b2ba5e0502fdba3d25"
      }
     },
     "metadata": {},
     "output_type": "display_data"
    },
    {
     "data": {
      "application/vnd.jupyter.widget-view+json": {
       "model_id": "e73d4d9cc5f847a496820571d7d24e4e"
      }
     },
     "metadata": {},
     "output_type": "display_data"
    },
    {
     "data": {
      "application/vnd.jupyter.widget-view+json": {
       "model_id": "dc5ef75d53d14508b527b8619218cf7b"
      }
     },
     "metadata": {},
     "output_type": "display_data"
    },
    {
     "data": {
      "application/vnd.jupyter.widget-view+json": {
       "model_id": "5fbd7ef26e734429b1aa06ec9bb442b2"
      }
     },
     "metadata": {},
     "output_type": "display_data"
    },
    {
     "data": {
      "application/vnd.jupyter.widget-view+json": {
       "model_id": "1c7f4c3a8ebd45a5b6dc55a3194c4d31"
      }
     },
     "metadata": {},
     "output_type": "display_data"
    }
   ],
   "source": [
    "# NOTE: INITIATE WIDGET BY ADJUSTING ANY PARAMETER!!!\n",
    "\n",
    "TxType = \"EM61\" # Set TxType to \"EM61\", \"TEMTADS\" or \"MPV\"\n",
    "\n",
    "Out2 = UXO.ImageDataWidget(TxType)\n",
    "display(HBox(Out2.children[0:3]))\n",
    "display(HBox(Out2.children[3:6]))\n",
    "display(HBox(Out2.children[6:10]))\n",
    "display(HBox(Out2.children[10:14]))\n",
    "display(HBox(Out2.children[14:18]))\n",
    "display(HBox(Out2.children[18:21]))\n",
    "if TxType is \"MPV\":\n",
    "    display(Out2.children[21])\n",
    "Out2.out"
   ]
  },
  {
   "cell_type": "markdown",
   "metadata": {},
   "source": [
    "# Inversion Widget\n",
    "\n",
    "### Purpose\n",
    "\n",
    "This app allows the user to invert synthetic data using EM61, TEMTADS or MPV instruments in order to recover the location and primary polarizations for a compact object.\n",
    "\n",
    "### Parameter Descriptions\n",
    "\n",
    "* TxType: Instrument used for simulation. Set as \"EM61\", \"TEMTADS\" or \"MPV\"\n",
    "* $x_{true},y_{true},z_{true}$: True location of the object\n",
    "* $\\psi,\\theta,\\phi$: True angles defining the orientation of the object\n",
    "* $k_i,\\alpha_i,\\beta_i,\\gamma_i$: True parameters which characterize the polarization of the object along axis $i$\n",
    "* $D_x,D_y$: The x-width and y-width for the cued-interrogation region\n",
    "* $N_x,N_y$: The number of stations in the x and y direction\n",
    "* $x_0,y_0,z_0$: Starting guess for the location of the object"
   ]
  },
  {
   "cell_type": "code",
   "execution_count": 4,
   "metadata": {
    "scrolled": true
   },
   "outputs": [
    {
     "data": {
      "application/vnd.jupyter.widget-view+json": {
       "model_id": "93660f25f16f4589a6f4c21f40113526"
      }
     },
     "metadata": {},
     "output_type": "display_data"
    },
    {
     "data": {
      "application/vnd.jupyter.widget-view+json": {
       "model_id": "e7cfb38e488146aa9477e277acde4400"
      }
     },
     "metadata": {},
     "output_type": "display_data"
    },
    {
     "data": {
      "application/vnd.jupyter.widget-view+json": {
       "model_id": "df3f898016f04601b3a0e528e4319cb3"
      }
     },
     "metadata": {},
     "output_type": "display_data"
    },
    {
     "data": {
      "application/vnd.jupyter.widget-view+json": {
       "model_id": "259543014b1d4d31a56b9c6d62aaf769"
      }
     },
     "metadata": {},
     "output_type": "display_data"
    },
    {
     "data": {
      "application/vnd.jupyter.widget-view+json": {
       "model_id": "863d253350e445ff80a57d1832101cbf"
      }
     },
     "metadata": {},
     "output_type": "display_data"
    },
    {
     "data": {
      "application/vnd.jupyter.widget-view+json": {
       "model_id": "4ce173d961ce4e09a845eb3f3ef644da"
      }
     },
     "metadata": {},
     "output_type": "display_data"
    },
    {
     "data": {
      "application/vnd.jupyter.widget-view+json": {
       "model_id": "36f2e7555b824922a4dcb54010a6c705"
      }
     },
     "metadata": {},
     "output_type": "display_data"
    },
    {
     "data": {
      "application/vnd.jupyter.widget-view+json": {
       "model_id": "589555f0a15643059d626e0bc4cfc9f0"
      }
     },
     "metadata": {},
     "output_type": "display_data"
    },
    {
     "data": {
      "application/vnd.jupyter.widget-view+json": {
       "model_id": "f77f221ea54a4c11a696447e246545a9"
      }
     },
     "metadata": {},
     "output_type": "display_data"
    }
   ],
   "source": [
    "# NOTE: INITIATE WIDGET BY ADJUSTING ANY PARAMETER!!!\n",
    "\n",
    "TxType = \"EM61\" # Set TxType to \"EM61\", \"TEMTADS\" or \"MPV\"\n",
    "\n",
    "Out3 = UXO.InversionWidget(TxType)\n",
    "display(HBox(Out3.children[0:3]))\n",
    "display(HBox(Out3.children[3:6]))\n",
    "display(HBox(Out3.children[6:10]))\n",
    "display(HBox(Out3.children[10:14]))\n",
    "display(HBox(Out3.children[14:18]))\n",
    "display(HBox(Out3.children[18:22]))\n",
    "display(HBox(Out3.children[22:25]))\n",
    "if TxType is \"MPV\":\n",
    "    display(HBox(Out3.children[25:27]))\n",
    "else:\n",
    "    display(Out3.children[25])\n",
    "Out3.out"
   ]
  },
  {
   "cell_type": "code",
   "execution_count": null,
   "metadata": {
    "collapsed": true
   },
   "outputs": [],
   "source": []
  },
  {
   "cell_type": "code",
   "execution_count": null,
   "metadata": {
    "collapsed": true
   },
   "outputs": [],
   "source": []
  },
  {
   "cell_type": "code",
   "execution_count": null,
   "metadata": {
    "collapsed": true
   },
   "outputs": [],
   "source": []
  }
 ],
 "metadata": {
  "kernelspec": {
   "display_name": "Python [default]",
   "language": "python",
   "name": "python2"
  },
  "language_info": {
   "codemirror_mode": {
    "name": "ipython",
    "version": 2
   },
   "file_extension": ".py",
   "mimetype": "text/x-python",
   "name": "python",
   "nbconvert_exporter": "python",
   "pygments_lexer": "ipython2",
   "version": "2.7.13"
  }
 },
 "nbformat": 4,
 "nbformat_minor": 2
}
