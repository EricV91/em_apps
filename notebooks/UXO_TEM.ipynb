{
 "cells": [
  {
   "cell_type": "code",
   "execution_count": 1,
   "metadata": {
    "collapsed": true
   },
   "outputs": [],
   "source": [
    "# IMPORT PACKAGES\n",
    "import em_examples.UXO_TEM_Widget as UXO\n",
    "from IPython.display import display\n",
    "from ipywidgets import HBox"
   ]
  },
  {
   "cell_type": "markdown",
   "metadata": {},
   "source": [
    "# Contents\n",
    "\n",
    "This notebook contains 3 apps:\n",
    "\n",
    "* **UXO orientation and polarization app:** This app allows the user to visualize the orientation, approximate dimensions and polarizability of compact objects they wish to model with subsequent apps.\n",
    "* **Data visualization app:** This app allows the user to visualize the time-domain response using three commonly used instruments: EM61, TEMTADS, and MPV.\n",
    "* **Inversion app:** This app allows the user to invert synthetic data using EM61, TEMTADS or MPV instruments in order to recover the location and primary polarizations for a compact object.\n",
    "\n",
    "\n",
    "# Background Theory\n",
    "\n",
    "## Polarization Tensor\n",
    "\n",
    "The magnetic dipole moment ${\\bf m}$ which characterizes the polarization of a compact object is given by:\n",
    "\n",
    "\\begin{equation}\n",
    "\\mathbf{m = Q \\, h_p}\n",
    "\\end{equation}\n",
    "\n",
    "where ${\\bf h_p} = [h_x,h_y,h_z]^T$ is the primary magnetic field caused by the transmitter before shut-off and ${\\bf Q}$ is the called the **polarization tensor**. The polarization tensor is a 3X3 symmetric, positive-definite (SPD) matrix given by:\n",
    "\n",
    "\\begin{equation}\n",
    "{\\bf Q} = \\begin{bmatrix} q_{11} & q_{12} & q_{13} \\\\ q_{12} & q_{22} & q_{23} \\\\ q_{13} & q_{23} & q_{33} \\end{bmatrix}\n",
    "\\end{equation}\n",
    "\n",
    "where $q_{ij}$ defines hows strongly field component $h_i$ contributes towards $m_j$.\n",
    "\n",
    "<img style=\"float: right; width: 500px\" src=\"https://github.com/geoscixyz/em_apps/blob/UXOTEMapp/images/CoordinatesUXO.png?raw=true\">\n",
    "\n",
    "## Coordinates and Primary Polarizations\n",
    "\n",
    "The polarization tensor characterizing an object depends on its orientation, dimensions and electromagnetic properties. Because the polarization tensor is SPD, it can be decomposed using the following eigen-decomposition:\n",
    "\n",
    "\\begin{equation}\n",
    "{\\bf Q = A \\, L(t) \\, A^T}\n",
    "\\end{equation}\n",
    "\n",
    "where\n",
    "\n",
    "\\begin{equation}\n",
    "{\\bf A} = \\begin{bmatrix} a_{11} & a_{12} & a_{13} \\\\ a_{12} & a_{22} & a_{23} \\\\ a_{13} & a_{23} & a_{33} \\end{bmatrix} \\;\\;\\;\\; \\textrm{and} \\;\\;\\;\\;\n",
    "{\\bf L(t)} = \\begin{bmatrix} L_{x'}(t) & 0 & 0 \\\\ 0 & L_{y'}(t) & 0 \\\\ 0 & 0 & L_{z'}(t) \\end{bmatrix}\n",
    "\\end{equation}\n",
    "\n",
    "${\\bf A}$ is a SPD rotation matrix from the coordinate system defined by the UXO ($x',y',z'$) to the field coordinate system ($x,y,z$). ${\\bf A}$ is defined by three angles: $\\psi,\\theta$ and $\\phi$. $\\theta$ is the azimuthal angle (angle relative to vertical), $\\phi$ is the declination (angle relative to North) and $\\psi$ is the roll (rotation about z' axis). \n",
    "\n",
    "${\\bf L(t)}$ characterizes the primary polarization of the object along each axis. Depending on the dimensions of the object, $L_{x'},L_{y'}$ and $L_{z'}$ may differ. For a given axis $i$, the primary polarization can be characterizes at $t>0$ using the following model:\n",
    "\n",
    "\\begin{equation}\n",
    "L_{ii}(t) = k_i \\Bigg ( 1 + \\frac{t^{1/2}}{\\alpha_i^{1/2}} \\Bigg )^{-\\beta_i} e^{-t/\\gamma_i}\n",
    "\\end{equation}\n",
    "\n",
    "where the decay is determined by parameters $k_i,\\alpha_i,\\beta_i$ and $\\gamma_i$.\n",
    "\n",
    "<img style=\"float: right; width: 500px\" src=\"https://github.com/geoscixyz/em_apps/blob/UXOTEMapp/images/UXOschematic.png?raw=true\">\n",
    "\n",
    "## Predicting Data\n",
    "\n",
    "There are a multitude of instruments used to measure the time-domain responses exhibited by UXOs (EM61, TEMTADS, MPV). For each individual measurement, a transmitter loop produces a primary magnetic field ${\\bf h_p} = [h_x,h_y,h_z]^T$ which is turned off a $t=0$. The primary field polarizes the UXO according to its polarization tensor ${\\bf Q}$. The polarization of the object produces a secondary field which induces an EMF in any receiver coil. The orientation of the receiver coil(s) and the corresponding EMF are indicative of the secondary field due to the object.\n",
    "\n",
    "Where ${\\bf G} = [g_x,g_y,g_z]$ predicts the EMF induced within a receiver coil due to the polarization of the object, a single datum is given by:\n",
    "\n",
    "\n",
    "\\begin{equation}\n",
    "d = {\\bf G \\, m} = {\\bf G \\, Q \\, h_p}\n",
    "\\end{equation}\n",
    "\n",
    "Because it is SPD, the polarization tensor may be characterized at each time by 6 parameters $(q_{11},q_{12},q_{13},q_{22},q_{23},q_{33})$. The previous expression can ultimately be reformulated as:\n",
    "\n",
    "\\begin{equation}\n",
    "d = {\\bf P \\, q}\n",
    "\\end{equation}\n",
    "\n",
    "where\n",
    "\n",
    "\\begin{equation}\n",
    "{\\bf P} = [h_xg_x \\;\\; h_xg_y \\!+\\! h_yg_x \\;\\; h_xg_z \\!+\\! h_zg_x \\;\\; h_zg_y \\;\\; h_yg_z \\!+\\! h_zg_y \\;\\; h_zg_z]\n",
    "\\end{equation}\n",
    "\n",
    "and\n",
    "\n",
    "\\begin{equation}\n",
    "{\\bf q^T} = [q_{11} \\;\\; q_{12} \\;\\; q_{13} \\;\\; q_{22}\\;\\; q_{23} \\;\\; q_{33}]\n",
    "\\end{equation}\n",
    "\n",
    "Thus in the case that there are $N$ distinct transmitter-receiver pair, each transmitter-receiver pair is represented as a row within ${\\bf P}$. ${\\bf q}$ contains all the necessary information to construct ${\\bf Q}$ and ${\\bf P}$ contains all the geometric information associated with the problem.\n",
    "\n",
    "## Inversion and Parameter Estimation\n",
    "\n",
    "When inverting field-collected UXO data there are two primary goals:\n",
    "\n",
    "* Accurate location of a target object (recover $x,y,z$)\n",
    "* Accurate characterization of a target object (by recovering $L_{x'},L_{y'},L_{z'}$)\n",
    "\n",
    "For this app, we will accomplish these goals in two steps.\n",
    "\n",
    "### Step 1\n",
    "\n",
    "In step 1, we intend to recover the location of the target $(x,y,z)$ and the polarizations $(q_{11},q_{12},q_{13},q_{22},q_{23},q_{33})$ at each time. A basic approach is applied by finding the location and polarizations which minimize the following data misfit function:\n",
    "\n",
    "\\begin{equation}\n",
    "\\Phi = \\sum_{i=1}^K \\Big \\| {\\bf W_i} \\big ( {\\bf P \\, q_i - d_{i,obs}} \\big ) \\Big \\|^2 \\;\\;\\;\\; \\textrm{s.t.} \\;\\;\\;\\; {\\bf q_i \\succ 0} \\; \\forall \\; i\n",
    "\\end{equation}\n",
    "\n",
    "where ${\\bf P}$ depends on the location of the target, $i$ refers to the time-channel, $d_{i,obs}$ is the observed data at time $i$ and ${\\bf W_i}$ are a set of weights applied to the data misfit. The constraint assures that negative polarizations (non-physical) are not recovered in order to fit the data. By completing this step, we can recover the location of the target.\n",
    "\n",
    "### Step 2\n",
    "\n",
    "Once recovered, ${\\bf q}$ at each time can be used to construct the corresponding polarizability tensor ${\\bf Q}$. Recall that the eigen-decomposition of ${\\bf Q}$ is given by:\n",
    "\n",
    "\\begin{equation}\n",
    "{\\bf Q = A \\, L(t) \\, A^T}\n",
    "\\end{equation}\n",
    "\n",
    "Thus $L_{x'}(t),L_{y'}(t),L_{z'}(t)$ are just the eigenvalues of ${\\bf Q}$ and the elements of the rotation matrix ${\\bf A}$ are the eigenvectors. Once $L_{x'},L_{y'},L_{z'}$ have been recovered at all times, the curves can be compared against the known primary polarizations of objects which are stored in a library.\n",
    "\n",
    "### Practical Considerations\n",
    "\n",
    "**Sampling Density:** The optimum line and station spacing depends significantly on the dimensions of the target, its depth and the system being used to perform the survey. It is important to use a sampling density which accurately characterizes TEM anomalies without adding unnecessary time and expense.\n",
    "\n",
    "**Excitation Orientation:** The excitation of a buried target occurs parallel to the inducing field. Thus in order to accurately recover polarizations $L_{x′},L_{y′}$ and $L_{z′}$ for the target, we must excite the target significantly from multiple angles. Ideally, the target would be excited from 3 orthogonal directions; thus assuring the data contains significant contributions from each polarization."
   ]
  },
  {
   "cell_type": "markdown",
   "metadata": {},
   "source": [
    "# UXO Orientation and Polarization App\n",
    "\n",
    "### Purpose\n",
    "\n",
    "This app allows the user to visualize the orientation, approximate dimensions and polarizability of compact objects they wish to model with subsequent apps.\n",
    "\n",
    "### Parameter Descriptions\n",
    "\n",
    "* $\\Phi$: Clockwise rotation about the z-axis\n",
    "* $\\theta$: Azimuthal angle (angle from vertical)\n",
    "* $\\phi$: Declination angle (Clockwise angle from North)\n",
    "* $k_i,\\alpha_i,\\beta_i,\\gamma_i$: Parameters which characterize the polarization along axis $i$"
   ]
  },
  {
   "cell_type": "code",
   "execution_count": 2,
   "metadata": {},
   "outputs": [
    {
     "data": {
      "application/vnd.jupyter.widget-view+json": {
       "model_id": "ec1013ebb1da4530810d05adeba52009"
      }
     },
     "metadata": {},
     "output_type": "display_data"
    },
    {
     "data": {
      "application/vnd.jupyter.widget-view+json": {
       "model_id": "d41df3b3f33c4e4da63886c808aad749"
      }
     },
     "metadata": {},
     "output_type": "display_data"
    },
    {
     "data": {
      "application/vnd.jupyter.widget-view+json": {
       "model_id": "cd40261e195a4a178e59e73c4d5ea930"
      }
     },
     "metadata": {},
     "output_type": "display_data"
    },
    {
     "data": {
      "application/vnd.jupyter.widget-view+json": {
       "model_id": "51cfe132070b4f1a9d25853947114dea"
      }
     },
     "metadata": {},
     "output_type": "display_data"
    },
    {
     "data": {
      "application/vnd.jupyter.widget-view+json": {
       "model_id": "6854545c4da94c6d8ea266e477cc0ab4"
      }
     },
     "metadata": {},
     "output_type": "display_data"
    },
    {
     "data": {
      "application/vnd.jupyter.widget-view+json": {
       "model_id": "bde26dcc77604afcb21454a959a85e51"
      }
     },
     "metadata": {},
     "output_type": "display_data"
    }
   ],
   "source": [
    "# NOTE: INITIATE WIDGET BY ADJUSTING ANY PARAMETER!!!\n",
    "\n",
    "Out1 = UXO.ImageUXOWidget()\n",
    "display(HBox(Out1.children[0:3]))\n",
    "display(HBox(Out1.children[3:7]))\n",
    "display(HBox(Out1.children[7:11]))\n",
    "display(HBox(Out1.children[11:15]))\n",
    "display(Out1.children[15])\n",
    "Out1.out"
   ]
  },
  {
   "cell_type": "markdown",
   "metadata": {},
   "source": [
    "# Data Visualization App\n",
    "\n",
    "### Purpose\n",
    "\n",
    "This app allows the user to visualize the time-domain response using three commonly used instruments: EM61, TEMTADS, and MPV. On the leftmost plot, the TEM anomaly at the center of the transmitter loop is plotted at a specified time. On the rightmost plot, the TEM decays registered by all receiver coils for a particular transmitter loop are plotted.\n",
    "\n",
    "### Parameter Descriptions\n",
    "\n",
    "* TxType: Instrument used to predict data. Set as \"EM61\", \"TEMTADS\" or \"MPV\"\n",
    "* $x_{true},y_{true},z_{true}$: Location of the object\n",
    "* $\\psi,\\theta,\\phi$: Angles defining the orientation of the object\n",
    "* $k_i,\\alpha_i,\\beta_i,\\gamma_i$: Parameters which characterize the polarization along axis $i$\n",
    "* Time channel: Adjusts the time in which the TEM anomaly at the center of the transmitter loop is plotted\n",
    "* X location, Y location: The transmitter location at which you would like to see all decays measured by the receiver coils."
   ]
  },
  {
   "cell_type": "code",
   "execution_count": 4,
   "metadata": {},
   "outputs": [
    {
     "data": {
      "application/vnd.jupyter.widget-view+json": {
       "model_id": "d2c6a483e3694464b8f3d666fc93601f"
      }
     },
     "metadata": {},
     "output_type": "display_data"
    },
    {
     "data": {
      "application/vnd.jupyter.widget-view+json": {
       "model_id": "dac727e2882a43f898dd3189382c6077"
      }
     },
     "metadata": {},
     "output_type": "display_data"
    },
    {
     "data": {
      "application/vnd.jupyter.widget-view+json": {
       "model_id": "4c07a77f6e284ab19a270ee4ae7faeb1"
      }
     },
     "metadata": {},
     "output_type": "display_data"
    },
    {
     "data": {
      "application/vnd.jupyter.widget-view+json": {
       "model_id": "e0ef15186b864d38a819bb78dee66018"
      }
     },
     "metadata": {},
     "output_type": "display_data"
    },
    {
     "data": {
      "application/vnd.jupyter.widget-view+json": {
       "model_id": "0ad1a139f85644c58e967ca4ea27e73f"
      }
     },
     "metadata": {},
     "output_type": "display_data"
    },
    {
     "data": {
      "application/vnd.jupyter.widget-view+json": {
       "model_id": "d465ad9bd8e340fa951325f3d25df000"
      }
     },
     "metadata": {},
     "output_type": "display_data"
    },
    {
     "data": {
      "application/vnd.jupyter.widget-view+json": {
       "model_id": "a8c9e695ed4d4f649725bb3e820b79b2"
      }
     },
     "metadata": {},
     "output_type": "display_data"
    }
   ],
   "source": [
    "# NOTE: INITIATE WIDGET BY ADJUSTING ANY PARAMETER!!!\n",
    "\n",
    "TxType = \"EM61\" # Set TxType to \"EM61\", \"TEMTADS\" or \"MPV\"\n",
    "\n",
    "Out2 = UXO.ImageDataWidget(TxType)\n",
    "display(HBox(Out2.children[0:3]))\n",
    "display(HBox(Out2.children[3:6]))\n",
    "display(HBox(Out2.children[6:10]))\n",
    "display(HBox(Out2.children[10:14]))\n",
    "display(HBox(Out2.children[14:18]))\n",
    "display(HBox(Out2.children[18:21]))\n",
    "if TxType is \"MPV\":\n",
    "    display(Out2.children[21])\n",
    "Out2.out"
   ]
  },
  {
   "cell_type": "markdown",
   "metadata": {},
   "source": [
    "# Inversion App\n",
    "\n",
    "### Purpose\n",
    "\n",
    "This app allows the user to invert synthetic data using EM61, TEMTADS or MPV instruments in order to recover the location and primary polarizations for a compact object. The goal of this app is to demonstrate how successful recovery depends on:\n",
    "\n",
    "* Sampling density\n",
    "* Excitation orientation\n",
    "\n",
    "### Parameter Descriptions\n",
    "\n",
    "* TxType: Instrument used for simulation. Set as \"EM61\", \"TEMTADS\" or \"MPV\"\n",
    "* $x_{true},y_{true},z_{true}$: True location of the object\n",
    "* $\\psi,\\theta,\\phi$: True angles defining the orientation of the object\n",
    "* $k_i,\\alpha_i,\\beta_i,\\gamma_i$: True parameters which characterize the polarization of the object along axis $i$\n",
    "* $D_x,D_y$: The x-width and y-width for the cued-interrogation region\n",
    "* $N_x,N_y$: The number of stations in the x and y direction\n",
    "* $x_0,y_0,z_0$: Starting guess for the location of the object"
   ]
  },
  {
   "cell_type": "code",
   "execution_count": 6,
   "metadata": {
    "scrolled": true
   },
   "outputs": [
    {
     "data": {
      "application/vnd.jupyter.widget-view+json": {
       "model_id": "1f1471a9c2fe495b8de48aec3f5ee48b"
      }
     },
     "metadata": {},
     "output_type": "display_data"
    },
    {
     "data": {
      "application/vnd.jupyter.widget-view+json": {
       "model_id": "6e10a79d9e294846b8f09d8aaecb9180"
      }
     },
     "metadata": {},
     "output_type": "display_data"
    },
    {
     "data": {
      "application/vnd.jupyter.widget-view+json": {
       "model_id": "6c3ae2ea776f4f01931578358a53a50c"
      }
     },
     "metadata": {},
     "output_type": "display_data"
    },
    {
     "data": {
      "application/vnd.jupyter.widget-view+json": {
       "model_id": "087b4ffadee34f0e9b3e8f8e1d9c3cef"
      }
     },
     "metadata": {},
     "output_type": "display_data"
    },
    {
     "data": {
      "application/vnd.jupyter.widget-view+json": {
       "model_id": "79e96a6cd16b4db781ed6e5621e0f042"
      }
     },
     "metadata": {},
     "output_type": "display_data"
    },
    {
     "data": {
      "application/vnd.jupyter.widget-view+json": {
       "model_id": "cb2052d0a30a48379f9a876acccce58f"
      }
     },
     "metadata": {},
     "output_type": "display_data"
    },
    {
     "data": {
      "application/vnd.jupyter.widget-view+json": {
       "model_id": "ae9dee3d4ab64882b159ad43e48d3f22"
      }
     },
     "metadata": {},
     "output_type": "display_data"
    },
    {
     "data": {
      "application/vnd.jupyter.widget-view+json": {
       "model_id": "cf9ee4eabd0f4a7cb8f97c77e7705600"
      }
     },
     "metadata": {},
     "output_type": "display_data"
    },
    {
     "data": {
      "application/vnd.jupyter.widget-view+json": {
       "model_id": "daa56ba50ebd47a8ab297f5eaf209017"
      }
     },
     "metadata": {},
     "output_type": "display_data"
    }
   ],
   "source": [
    "# NOTE: INITIATE WIDGET BY ADJUSTING ANY PARAMETER!!!\n",
    "\n",
    "TxType = \"EM61\" # Set TxType to \"EM61\", \"TEMTADS\" or \"MPV\"\n",
    "\n",
    "Out3 = UXO.InversionWidget(TxType)\n",
    "display(HBox(Out3.children[0:3]))\n",
    "display(HBox(Out3.children[3:6]))\n",
    "display(HBox(Out3.children[6:10]))\n",
    "display(HBox(Out3.children[10:14]))\n",
    "display(HBox(Out3.children[14:18]))\n",
    "display(HBox(Out3.children[18:22]))\n",
    "display(HBox(Out3.children[22:25]))\n",
    "if TxType is \"MPV\":\n",
    "    display(HBox(Out3.children[25:27]))\n",
    "else:\n",
    "    display(Out3.children[25])\n",
    "Out3.out"
   ]
  },
  {
   "cell_type": "code",
   "execution_count": null,
   "metadata": {
    "collapsed": true
   },
   "outputs": [],
   "source": []
  }
 ],
 "metadata": {
  "kernelspec": {
   "display_name": "Python [default]",
   "language": "python",
   "name": "python2"
  },
  "language_info": {
   "codemirror_mode": {
    "name": "ipython",
    "version": 2
   },
   "file_extension": ".py",
   "mimetype": "text/x-python",
   "name": "python",
   "nbconvert_exporter": "python",
   "pygments_lexer": "ipython2",
   "version": "2.7.13"
  }
 },
 "nbformat": 4,
 "nbformat_minor": 2
}
