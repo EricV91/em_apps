{
 "cells": [
  {
   "cell_type": "code",
   "execution_count": 1,
   "metadata": {},
   "outputs": [
    {
     "name": "stdout",
     "output_type": "stream",
     "text": [
      "Requirement already up-to-date: pip in c:\\users\\sarah\\anaconda3\\lib\\site-packages\n",
      "Requirement already satisfied: em_examples in c:\\users\\sarah\\documents\\repositories\\em_examples\n",
      "Requirement already satisfied: future in c:\\users\\sarah\\anaconda3\\lib\\site-packages (from em_examples)\n",
      "Requirement already satisfied: numpy>=1.7 in c:\\users\\sarah\\anaconda3\\lib\\site-packages (from em_examples)\n",
      "Requirement already satisfied: scipy>=0.13 in c:\\users\\sarah\\anaconda3\\lib\\site-packages (from em_examples)\n",
      "Requirement already satisfied: matplotlib in c:\\users\\sarah\\anaconda3\\lib\\site-packages (from em_examples)\n",
      "Requirement already satisfied: Pillow in c:\\users\\sarah\\anaconda3\\lib\\site-packages (from em_examples)\n",
      "Requirement already satisfied: requests in c:\\users\\sarah\\anaconda3\\lib\\site-packages (from em_examples)\n",
      "Requirement already satisfied: ipywidgets in c:\\users\\sarah\\anaconda3\\lib\\site-packages (from em_examples)\n",
      "Requirement already satisfied: SimPEG>=0.4.1 in c:\\users\\sarah\\documents\\repositories\\simpeg (from em_examples)\n",
      "Requirement already satisfied: jupyter in c:\\users\\sarah\\anaconda3\\lib\\site-packages (from em_examples)\n",
      "Requirement already satisfied: six>=1.10 in c:\\users\\sarah\\anaconda3\\lib\\site-packages (from matplotlib->em_examples)\n",
      "Requirement already satisfied: python-dateutil>=2.0 in c:\\users\\sarah\\anaconda3\\lib\\site-packages (from matplotlib->em_examples)\n",
      "Requirement already satisfied: pytz in c:\\users\\sarah\\anaconda3\\lib\\site-packages (from matplotlib->em_examples)\n",
      "Requirement already satisfied: cycler>=0.10 in c:\\users\\sarah\\anaconda3\\lib\\site-packages (from matplotlib->em_examples)\n",
      "Requirement already satisfied: pyparsing!=2.0.4,!=2.1.2,!=2.1.6,>=2.0.1 in c:\\users\\sarah\\anaconda3\\lib\\site-packages (from matplotlib->em_examples)\n",
      "Requirement already satisfied: olefile in c:\\users\\sarah\\anaconda3\\lib\\site-packages (from Pillow->em_examples)\n",
      "Requirement already satisfied: chardet<3.1.0,>=3.0.2 in c:\\users\\sarah\\anaconda3\\lib\\site-packages (from requests->em_examples)\n",
      "Requirement already satisfied: idna<2.7,>=2.5 in c:\\users\\sarah\\anaconda3\\lib\\site-packages (from requests->em_examples)\n",
      "Requirement already satisfied: urllib3<1.23,>=1.21.1 in c:\\users\\sarah\\anaconda3\\lib\\site-packages (from requests->em_examples)\n",
      "Requirement already satisfied: certifi>=2017.4.17 in c:\\users\\sarah\\anaconda3\\lib\\site-packages (from requests->em_examples)\n",
      "Requirement already satisfied: ipykernel>=4.5.1 in c:\\users\\sarah\\anaconda3\\lib\\site-packages (from ipywidgets->em_examples)\n",
      "Requirement already satisfied: traitlets>=4.3.1 in c:\\users\\sarah\\anaconda3\\lib\\site-packages (from ipywidgets->em_examples)\n",
      "Requirement already satisfied: nbformat>=4.2.0 in c:\\users\\sarah\\anaconda3\\lib\\site-packages (from ipywidgets->em_examples)\n",
      "Requirement already satisfied: widgetsnbextension~=3.0.0 in c:\\users\\sarah\\anaconda3\\lib\\site-packages (from ipywidgets->em_examples)\n",
      "Requirement already satisfied: ipython>=4.0.0 in c:\\users\\sarah\\anaconda3\\lib\\site-packages (from ipywidgets->em_examples)\n",
      "Requirement already satisfied: cython in c:\\users\\sarah\\anaconda3\\lib\\site-packages (from SimPEG>=0.4.1->em_examples)\n",
      "Requirement already satisfied: pymatsolver>=0.1.1 in c:\\users\\sarah\\anaconda3\\lib\\site-packages (from SimPEG>=0.4.1->em_examples)\n",
      "Requirement already satisfied: properties>=0.3.6b0 in c:\\users\\sarah\\anaconda3\\lib\\site-packages (from SimPEG>=0.4.1->em_examples)\n",
      "Requirement already satisfied: vectormath in c:\\users\\sarah\\anaconda3\\lib\\site-packages (from SimPEG>=0.4.1->em_examples)\n",
      "Requirement already satisfied: discretize in c:\\users\\sarah\\documents\\repositories\\discretize (from SimPEG>=0.4.1->em_examples)\n",
      "Requirement already satisfied: notebook in c:\\users\\sarah\\anaconda3\\lib\\site-packages (from jupyter->em_examples)\n",
      "Requirement already satisfied: nbconvert in c:\\users\\sarah\\anaconda3\\lib\\site-packages (from jupyter->em_examples)\n",
      "Requirement already satisfied: jupyter-console in c:\\users\\sarah\\anaconda3\\lib\\site-packages (from jupyter->em_examples)\n",
      "Requirement already satisfied: qtconsole in c:\\users\\sarah\\anaconda3\\lib\\site-packages (from jupyter->em_examples)\n",
      "Requirement already satisfied: jupyter_client in c:\\users\\sarah\\anaconda3\\lib\\site-packages (from ipykernel>=4.5.1->ipywidgets->em_examples)\n",
      "Requirement already satisfied: tornado>=4.0 in c:\\users\\sarah\\anaconda3\\lib\\site-packages (from ipykernel>=4.5.1->ipywidgets->em_examples)\n",
      "Requirement already satisfied: ipython_genutils in c:\\users\\sarah\\anaconda3\\lib\\site-packages (from traitlets>=4.3.1->ipywidgets->em_examples)\n",
      "Requirement already satisfied: decorator in c:\\users\\sarah\\anaconda3\\lib\\site-packages (from traitlets>=4.3.1->ipywidgets->em_examples)\n",
      "Requirement already satisfied: jsonschema!=2.5.0,>=2.4 in c:\\users\\sarah\\anaconda3\\lib\\site-packages (from nbformat>=4.2.0->ipywidgets->em_examples)\n",
      "Requirement already satisfied: jupyter_core in c:\\users\\sarah\\anaconda3\\lib\\site-packages (from nbformat>=4.2.0->ipywidgets->em_examples)\n",
      "Requirement already satisfied: setuptools>=18.5 in c:\\users\\sarah\\anaconda3\\lib\\site-packages (from ipython>=4.0.0->ipywidgets->em_examples)\n",
      "Requirement already satisfied: jedi>=0.10 in c:\\users\\sarah\\anaconda3\\lib\\site-packages (from ipython>=4.0.0->ipywidgets->em_examples)\n",
      "Requirement already satisfied: pickleshare in c:\\users\\sarah\\anaconda3\\lib\\site-packages (from ipython>=4.0.0->ipywidgets->em_examples)\n",
      "Requirement already satisfied: simplegeneric>0.8 in c:\\users\\sarah\\anaconda3\\lib\\site-packages (from ipython>=4.0.0->ipywidgets->em_examples)\n",
      "Requirement already satisfied: prompt_toolkit<2.0.0,>=1.0.4 in c:\\users\\sarah\\anaconda3\\lib\\site-packages (from ipython>=4.0.0->ipywidgets->em_examples)\n",
      "Requirement already satisfied: pygments in c:\\users\\sarah\\anaconda3\\lib\\site-packages (from ipython>=4.0.0->ipywidgets->em_examples)\n",
      "Requirement already satisfied: colorama in c:\\users\\sarah\\anaconda3\\lib\\site-packages (from ipython>=4.0.0->ipywidgets->em_examples)\n",
      "Requirement already satisfied: pyMKL>=0.0.3 in c:\\users\\sarah\\anaconda3\\lib\\site-packages (from pymatsolver>=0.1.1->SimPEG>=0.4.1->em_examples)\n",
      "Requirement already satisfied: mistune>=0.7.4 in c:\\users\\sarah\\anaconda3\\lib\\site-packages (from nbconvert->jupyter->em_examples)\n",
      "Requirement already satisfied: jinja2 in c:\\users\\sarah\\anaconda3\\lib\\site-packages (from nbconvert->jupyter->em_examples)\n",
      "Requirement already satisfied: entrypoints>=0.2.2 in c:\\users\\sarah\\anaconda3\\lib\\site-packages (from nbconvert->jupyter->em_examples)\n",
      "Requirement already satisfied: bleach in c:\\users\\sarah\\anaconda3\\lib\\site-packages (from nbconvert->jupyter->em_examples)\n",
      "Requirement already satisfied: pandocfilters>=1.4.1 in c:\\users\\sarah\\anaconda3\\lib\\site-packages (from nbconvert->jupyter->em_examples)\n",
      "Requirement already satisfied: testpath in c:\\users\\sarah\\anaconda3\\lib\\site-packages (from nbconvert->jupyter->em_examples)\n",
      "Requirement already satisfied: pyzmq>=13 in c:\\users\\sarah\\anaconda3\\lib\\site-packages (from jupyter_client->ipykernel>=4.5.1->ipywidgets->em_examples)\n",
      "Requirement already satisfied: wcwidth in c:\\users\\sarah\\anaconda3\\lib\\site-packages (from prompt_toolkit<2.0.0,>=1.0.4->ipython>=4.0.0->ipywidgets->em_examples)\n",
      "Requirement already satisfied: MarkupSafe>=0.23 in c:\\users\\sarah\\anaconda3\\lib\\site-packages (from jinja2->nbconvert->jupyter->em_examples)\n",
      "Requirement already satisfied: html5lib>=0.99999999 in c:\\users\\sarah\\anaconda3\\lib\\site-packages (from bleach->nbconvert->jupyter->em_examples)\n",
      "Requirement already satisfied: webencodings in c:\\users\\sarah\\anaconda3\\lib\\site-packages (from html5lib>=0.99999999->bleach->nbconvert->jupyter->em_examples)\n"
     ]
    }
   ],
   "source": [
    "!pip install --upgrade pip\n",
    "!pip install em_examples"
   ]
  },
  {
   "cell_type": "code",
   "execution_count": 2,
   "metadata": {},
   "outputs": [
    {
     "name": "stderr",
     "output_type": "stream",
     "text": [
      "C:\\Users\\Sarah\\Documents\\Repositories\\simpeg\\SimPEG\\EM\\Static\\DC\\IODC.py:13: UserWarning: code under construction - API might change in the future\n",
      "  warnings.warn(\"code under construction - API might change in the future\")\n"
     ]
    }
   ],
   "source": [
    "from em_examples.Base import widgetify\n",
    "import em_examples.InductionSphereFEM as IND\n",
    "from ipywidgets import interact, FloatSlider, FloatText, ToggleButtons"
   ]
  },
  {
   "cell_type": "markdown",
   "metadata": {
    "collapsed": true
   },
   "source": [
    "## Sphere FEM Response for EM-31\n",
    "\n",
    "Here, we simulate the response observed over a conductive and magnetically permeable sphere by an EM-31. In the leftmost plot, the regional primary or secondary field is plotted in 2D along with the survey geometry. In the rightmost plot, the response at the receiver coil is plotted as a function of frequency. The parameters for the app are summarized below:\n",
    "\n",
    "* $x_{Tx}$: Horizontal location of the EM-31 (halfway between Tx and Rx coils)\n",
    "* $z_{Tx}$: Vertical location of the EM-31\n",
    "* $L$: Horizontal transmitter-receiver separation\n",
    "* $m$: Transmitter dipole moment\n",
    "* $Orientation$: The EM-31 configuration may be set to vertical coaxial or horizontal coplaner\n",
    "* $x_s$: Horizontal location of the sphere\n",
    "* $z_s$: Vertical location of the sphere\n",
    "* $R$: Radius of the sphere\n",
    "* $log_{10}(\\sigma)$: Conductivity of the sphere\n",
    "* $\\mu_r$: Relative permeability of the sphere\n",
    "* $log_{10}(f)$: Set to visualize the response for a specific frequency\n",
    "* $Field \\; Type$: View the 2D regional primary field, real component of the secondary field or imaginary component of the secondary field."
   ]
  },
  {
   "cell_type": "code",
   "execution_count": 3,
   "metadata": {},
   "outputs": [
    {
     "data": {
      "application/vnd.jupyter.widget-view+json": {
       "model_id": "a9f73eaba78b4bc4b98eb65b6f4b9273",
       "version_major": 2,
       "version_minor": 0
      },
      "text/plain": [
       "A Jupyter Widget"
      ]
     },
     "metadata": {},
     "output_type": "display_data"
    }
   ],
   "source": [
    "widgetify(IND.fcn_FDEM_InductionSphereProfileEM31Widget,xtx=FloatSlider(min=-20, max=20., value=0., step=2., continuous_update=False, description = \"$x_{Tx}$\"),\\\n",
    "                        ztx=FloatSlider(min=0., max=10., value=2., step=1., continuous_update=False, description = \"$z_{Tx}$\"),\\\n",
    "                        L=FloatSlider(min=0., max=25., value=20., step=5., continuous_update=False, description = \"$L$\"),\\\n",
    "                        m=FloatSlider(min=1., max=5.,value=1.,step=1.,continuous_update=False,description = \"$m$\"),\\\n",
    "                        orient=ToggleButtons(options=['Vert. Coaxial','Horiz. Coplanar'],value='Horiz. Coplanar',description = \"$Configuration$\"),\\\n",
    "                        x0=FloatSlider(min=-20., max=20., value=0., step=1., continuous_update=False, description = \"$x_s$\"),\\\n",
    "                        z0=FloatSlider(min=-20., max=0., value=-8., step=1., continuous_update=False, description = \"$z_s$\"),\\\n",
    "                        a=FloatSlider(min=0.5, max=5., value=3., step=0.5, continuous_update=False, description = \"$R$\"),\\\n",
    "                        sig=FloatSlider(min=0., max=6., value=2., step=0.5, continuous_update=False, description = \"$log_{10}(\\sigma)$\"),\\\n",
    "                        mur=FloatSlider(min=1., max=5., value=1., step=0.25, continuous_update=False, description = \"$\\mu_r$\"),\\\n",
    "                        logf=FloatSlider(min=0., max=8., value=5., step=1., continuous_update=False, description = \"$log_{10}(f)$\"),\\\n",
    "                        Flag=ToggleButtons(options=['Hp','Hs_real','Hs_imag'],value='Hp',description = \"$Field \\; Type$\"))\n",
    "    "
   ]
  },
  {
   "cell_type": "code",
   "execution_count": null,
   "metadata": {
    "collapsed": true
   },
   "outputs": [],
   "source": []
  },
  {
   "cell_type": "markdown",
   "metadata": {
    "collapsed": true
   },
   "source": [
    "## Sphere FEM Response for Arbitrary Configuration\n",
    "\n",
    "Here, we simulate the response observed over a conductive and magnetically permeable sphere. The parameters are relaxed so that the transmitter-receiver separation is no longer fixed. In the leftmost plot, the regional primary or secondary field is plotted in 2D along with the survey geometry. In the rightmost plot, the response at the receiver coil is plotted as a function of frequency. The parameters for the app are summarized below:\n",
    "\n",
    "* $x_{Tx}$: Horizontal location of the transmitter coil\n",
    "* $z_{Tx}$: Vertical location of the transmitter coil\n",
    "* $m$: Transmitter dipole moment\n",
    "* $Orientation$: The transmitter-receiver configuration may be set to vertical coaxial or horizontal coplaner\n",
    "* $x_s$: Horizontal location of the sphere\n",
    "* $z_s$: Vertical location of the sphere\n",
    "* $R$: Radius of the sphere\n",
    "* $log_{10}(\\sigma)$: Conductivity of the sphere\n",
    "* $\\mu_r$: Relative permeability of the sphere\n",
    "* $x_{Rx}$: Horizontal location of the receiver coil\n",
    "* $z_{Rx}$: Vertical location of the receiver coil\n",
    "* $log_{10}(f)$: Set to visualize the response for a specific frequency\n",
    "* $Field \\; Type$: View the 2D regional primary field, real component of the secondary field or imaginary component of the secondary field."
   ]
  },
  {
   "cell_type": "code",
   "execution_count": 4,
   "metadata": {},
   "outputs": [
    {
     "data": {
      "application/vnd.jupyter.widget-view+json": {
       "model_id": "6bdc2e61be4f42c992114addeebb2ebe",
       "version_major": 2,
       "version_minor": 0
      },
      "text/plain": [
       "A Jupyter Widget"
      ]
     },
     "metadata": {},
     "output_type": "display_data"
    }
   ],
   "source": [
    "widgetify(IND.fcn_FDEM_InductionSphereProfileWidget,xtx=FloatSlider(min=-20, max=20., value=-10., step=2., continuous_update=False, description = \"$x_{Tx}$\"),\\\n",
    "                        ztx=FloatSlider(min=0., max=10., value=2., step=1., continuous_update=False, description = \"$z_{Tx}$\"),\\\n",
    "                        m=FloatSlider(min=1., max=5.,value=1.,step=1.,continuous_update=False,description = \"$m$\"),\\\n",
    "                        orient=ToggleButtons(options=['Vert. Coaxial','Horiz. Coplanar'],value='Horiz. Coplanar',description = \"$Configuration$\"),\\\n",
    "                        x0=FloatSlider(min=-20., max=20., value=0., step=1., continuous_update=False, description = \"$x_s$\"),\\\n",
    "                        z0=FloatSlider(min=-20., max=0., value=-10., step=1., continuous_update=False, description = \"$z_s$\"),\\\n",
    "                        a=FloatSlider(min=0.5, max=5., value=3., step=0.5, continuous_update=False, description = \"$R$\"),\\\n",
    "                        sig=FloatSlider(min=0., max=6., value=2., step=0.5, continuous_update=False, description = \"$log_{10}(\\sigma)$\"),\\\n",
    "                        mur=FloatSlider(min=1., max=5., value=1., step=0.25, continuous_update=False, description = \"$\\mu_r$\"),\\\n",
    "                        xrx=FloatSlider(min=-20., max=20., value=10., step=1., continuous_update=False, description = \"$x_{Rx}$\"),\\\n",
    "                        zrx=FloatSlider(min=0., max=10., value=2., step=1., continuous_update=False, description = \"$z_{Rx}$\"),\\\n",
    "                        logf=FloatSlider(min=0., max=8., value=5., step=1., continuous_update=False, description = \"$log_{10}(f)$\"),\\\n",
    "                        Flag=ToggleButtons(options=['Hp','Hs_real','Hs_imag'],value='Hp',description = \"$Field \\; Type$\"))\n",
    "    "
   ]
  },
  {
   "cell_type": "markdown",
   "metadata": {
    "collapsed": true
   },
   "source": [
    "## Sphere FEM Anomaly for Arbitrary Configuration\n",
    "\n",
    "Here, we simulate the response observed over a conductive and magnetically permeable sphere. The transmitter, receiver and sphere locations can be set anywhere in 3D space. The orientation of the transmitter can also be changed. In the leftmost plot, FEM anomaly is plotted on the XY-plane at the same height as the receiver coil. In the rightmost plot, the response at the receiver coil is plotted as a function of frequency. The parameters for the app are summarized below:\n",
    "\n",
    "* $x_{Tx}$: X-location of the transmitter coil\n",
    "* $y_{Tx}$: Y-location of the transmitter coil\n",
    "* $z_{Tx}$: Z-location of the transmitter coil\n",
    "* $m$: Transmitter dipole moment\n",
    "* $Orientation$: The orientation of the transmitter's dipole moment can be set along 'x', 'y' or 'z'\n",
    "* $x_s$: X-location of the sphere\n",
    "* $y_s$: Y-location of the sphere\n",
    "* $z_s$: Z-location of the sphere\n",
    "* $R$: Radius of the sphere\n",
    "* $log_{10}(\\sigma)$: Conductivity of the sphere\n",
    "* $\\mu_r$: Relative permeability of the sphere\n",
    "* $x_{Rx}$: X-location of the receiver coil\n",
    "* $y_{Rx}$: Y-location of the receiver coil\n",
    "* $z_{Rx}$: Z-location of the receiver coil\n",
    "* $log_{10}(f)$: Set to visualize the response for a specific frequency\n",
    "* $Component$: Examine the 'x', 'y' or 'z' component of the response at the receiver coil\n",
    "* $Field \\; Type$: Examine the real or imaginary component of the FEM anomaly specified by '$Component$'"
   ]
  },
  {
   "cell_type": "code",
   "execution_count": 5,
   "metadata": {},
   "outputs": [
    {
     "data": {
      "application/vnd.jupyter.widget-view+json": {
       "model_id": "16673f09e9944df483f8427dd45041bf",
       "version_major": 2,
       "version_minor": 0
      },
      "text/plain": [
       "A Jupyter Widget"
      ]
     },
     "metadata": {},
     "output_type": "display_data"
    }
   ],
   "source": [
    "widgetify(IND.fcn_FDEM_InductionSpherePlaneWidget,xtx=FloatSlider(min=-20, max=20., value=0., step=1., continuous_update=False, description = \"$x_{Tx}$\"),\\\n",
    "                        ytx=FloatSlider(min=-20, max=20., value=0., step=1., continuous_update=False, description = \"$y_{Tx}$\"),\\\n",
    "                        ztx=FloatSlider(min=0., max=10., value=2., step=1., continuous_update=False, description = \"$z_{Tx}$\"),\\\n",
    "                        m=FloatSlider(min=1., max=5.,value=2.,step=1.,continuous_update=False,description = \"$m$\"),\\\n",
    "                        orient=ToggleButtons(options=['x','y','z'],value='z'),\\\n",
    "                        x0=FloatSlider(min=-20., max=20., value=0., step=1., continuous_update=False, description = \"$x_s$\"),\\\n",
    "                        y0=FloatSlider(min=-20., max=20., value=0., step=1., continuous_update=False, description = \"$y_s$\"),\\\n",
    "                        z0=FloatSlider(min=-20., max=-2., value=-5., step=1., continuous_update=False, description = \"$z_s$\"),\\\n",
    "                        a=FloatSlider(min=0.5, max=5., value=2., step=0.5, continuous_update=False, description = \"$R$\"),\\\n",
    "                        sig=FloatSlider(min=0., max=6., value=2., step=0.5, continuous_update=False, description = \"$log_{10}(\\sigma)$\"),\\\n",
    "                        mur=FloatSlider(min=1., max=5., value=1., step=0.25, continuous_update=False, description = \"$\\mu_r$\"),\\\n",
    "                        xrx=FloatSlider(min=-20., max=20., value=10., step=1., continuous_update=False, description = \"$x_{Rx}$\"),\\\n",
    "                        yrx=FloatSlider(min=-20., max=20., value=10., step=1., continuous_update=False, description = \"$y_{Rx}$\"),\\\n",
    "                        zrx=FloatSlider(min=0., max=10., value=2., step=1., continuous_update=False, description = \"$z_{Rx}$\"),\\\n",
    "                        logf=FloatSlider(min=0., max=8., value=5., step=1., continuous_update=False, description = \"$log_{10}(f)$\"),\\\n",
    "                        Comp=ToggleButtons(options=['x','y','z'],value='z',description = \"$Component$\"),\\\n",
    "                        Phase=ToggleButtons(options=['Real','Imag'],value='Real',description = \"$Field \\; Type$\"))"
   ]
  },
  {
   "cell_type": "code",
   "execution_count": null,
   "metadata": {
    "collapsed": true
   },
   "outputs": [],
   "source": []
  }
 ],
 "metadata": {
  "anaconda-cloud": {},
  "kernelspec": {
   "display_name": "Python 3",
   "language": "python",
   "name": "python3"
  },
  "language_info": {
   "codemirror_mode": {
    "name": "ipython",
    "version": 3
   },
   "file_extension": ".py",
   "mimetype": "text/x-python",
   "name": "python",
   "nbconvert_exporter": "python",
   "pygments_lexer": "ipython3",
   "version": "3.6.3"
  }
 },
 "nbformat": 4,
 "nbformat_minor": 1
}
