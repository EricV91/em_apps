{
 "cells": [
  {
   "cell_type": "code",
   "execution_count": null,
   "metadata": {
    "collapsed": false
   },
   "outputs": [],
   "source": [
    "%pylab inline\n",
    "from scipy import signal"
   ]
  },
  {
   "cell_type": "code",
   "execution_count": null,
   "metadata": {
    "collapsed": true
   },
   "outputs": [],
   "source": [
    "def ColeColePelton(f, sigmaInf, eta, tau, c, option):\n",
    "    \"\"\"\n",
    "    \n",
    "        .. math::\n",
    "            \\sigma(\\omega) = \\sigma_{\\infty}\\Big(1-\\frac{\\eta}{1+(1-\\eta)(\\imath\\omega\\tau)^c} \\Big)\n",
    "            \n",
    "    \"\"\"\n",
    "    w = 2*np.pi*f\n",
    "    sigma = sigmaInf*(1 - eta/(1 + (1-eta)*(1j*w*tau)**c))\n",
    "    if option==\"sigma\":\n",
    "        return sigma\n",
    "    elif option==\"resis\":\n",
    "        return 1./(sigma)\n",
    "    else:\n",
    "        raise Exception(\"Put only sigma or resis\")"
   ]
  },
  {
   "cell_type": "code",
   "execution_count": null,
   "metadata": {
    "collapsed": true
   },
   "outputs": [],
   "source": [
    "def halfcutycurrents(npow, nrepeat):\n",
    "    ntime = 2**npow\n",
    "    tlength = 2**(npow-2)\n",
    "    currents = np.zeros(ntime/2)\n",
    "    currents[:tlength] = 1.\n",
    "    currents[tlength:] = 0.  \n",
    "    currents = np.r_[currents, -currents]\n",
    "    ntime = 2**npow*nrepeat\n",
    "    t = np.arange(ntime, dtype=float)/(ntime-1) \n",
    "    out = np.repeat(currents.reshape([1,-1]), nrepeat, axis=0).flatten()\n",
    "    return t, out"
   ]
  },
  {
   "cell_type": "code",
   "execution_count": null,
   "metadata": {
    "collapsed": false
   },
   "outputs": [],
   "source": [
    "def vizcurrents(t, currents, tag=\"AC currents\"):    \n",
    "    figsize(6,3)\n",
    "    vmin, vmax = -1.5, 1.5\n",
    "    tmin, tmax = -0.1, 1.    \n",
    "    plt.plot(t, currents, 'r', lw=2)\n",
    "    plt.plot(np.r_[tmin, tmax], np.r_[0., 0.], 'k-', lw=1)\n",
    "    plt.plot(np.r_[0., 0.], np.r_[vmin, vmax], 'k-', lw=1)\n",
    "    plt.ylim(vmin, vmax)\n",
    "    plt.xlim(tmin, tmax)\n",
    "    plt.xlabel(\"Time\")\n",
    "    plt.ylabel(\"I (A)\")\n",
    "    plt.text(0.5, 1.15, tag)\n",
    "    plt.text(-0.05, -0.25, \"0\")\n",
    "    plt.xticks([])\n",
    "    plt.yticks([])    \n",
    "    plt.show()"
   ]
  },
  {
   "cell_type": "code",
   "execution_count": null,
   "metadata": {
    "collapsed": false
   },
   "outputs": [],
   "source": [
    "t, currents = halfcutycurrents(8, 3)\n",
    "vizcurrents(t, currents)"
   ]
  },
  {
   "cell_type": "code",
   "execution_count": null,
   "metadata": {
    "collapsed": false
   },
   "outputs": [],
   "source": [
    "currents = np.sin(2*np.pi/(1./3)*t)\n",
    "vizcurrents(t, currents)"
   ]
  },
  {
   "cell_type": "code",
   "execution_count": null,
   "metadata": {
    "collapsed": false
   },
   "outputs": [],
   "source": [
    "from scipy import signal\n"
   ]
  },
  {
   "cell_type": "code",
   "execution_count": null,
   "metadata": {
    "collapsed": false
   },
   "outputs": [],
   "source": [
    "a = np.ones(5)"
   ]
  },
  {
   "cell_type": "code",
   "execution_count": null,
   "metadata": {
    "collapsed": false
   },
   "outputs": [],
   "source": [
    "a.repeat(2)"
   ]
  },
  {
   "cell_type": "code",
   "execution_count": null,
   "metadata": {
    "collapsed": false
   },
   "outputs": [],
   "source": [
    "plt.plot(currents)"
   ]
  },
  {
   "cell_type": "code",
   "execution_count": null,
   "metadata": {
    "collapsed": true
   },
   "outputs": [],
   "source": []
  }
 ],
 "metadata": {
  "kernelspec": {
   "display_name": "Python 2",
   "language": "python",
   "name": "python2"
  },
  "language_info": {
   "codemirror_mode": {
    "name": "ipython",
    "version": 2
   },
   "file_extension": ".py",
   "mimetype": "text/x-python",
   "name": "python",
   "nbconvert_exporter": "python",
   "pygments_lexer": "ipython2",
   "version": "2.7.11"
  }
 },
 "nbformat": 4,
 "nbformat_minor": 0
}
