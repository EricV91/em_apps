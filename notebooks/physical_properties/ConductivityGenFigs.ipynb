{
 "cells": [
  {
   "cell_type": "code",
   "execution_count": 3,
   "metadata": {
    "collapsed": false
   },
   "outputs": [
    {
     "name": "stderr",
     "output_type": "stream",
     "text": [
      "/Users/sgkang/anaconda2/lib/python2.7/site-packages/matplotlib/font_manager.py:273: UserWarning: Matplotlib is building the font cache using fc-list. This may take a moment.\n",
      "  warnings.warn('Matplotlib is building the font cache using fc-list. This may take a moment.')\n"
     ]
    },
    {
     "name": "stdout",
     "output_type": "stream",
     "text": [
      "Populating the interactive namespace from numpy and matplotlib\n"
     ]
    }
   ],
   "source": [
    "import numpy as np\n",
    "import os\n",
    "%pylab inline"
   ]
  },
  {
   "cell_type": "code",
   "execution_count": 4,
   "metadata": {
    "collapsed": false
   },
   "outputs": [],
   "source": [
    "import matplotlib\n",
    "matplotlib.rcParams['font.size'] = 16\n",
    "matplotlib.rcParams['text.usetex'] = True"
   ]
  },
  {
   "cell_type": "code",
   "execution_count": 5,
   "metadata": {
    "collapsed": true
   },
   "outputs": [],
   "source": [
    "materials = [\"COPPER\", \"GRAPHITE\",\"SEA WATER\",\"GERMANIUM\",\"SILICON\", \"ROCK SALT\", \"DISTILLED \\n WATER\", \"MARBLE\", \"MICA\", \"PARAFIN\", \"FUSED QUARTZ\"]"
   ]
  },
  {
   "cell_type": "code",
   "execution_count": 6,
   "metadata": {
    "collapsed": false
   },
   "outputs": [],
   "source": [
    "# fig, ax = plt.subplots(1,1, figsize = (8,4.5))\n",
    "# ax.set_yticklabels([])\n",
    "# ax.spines[u'top']\n",
    "# ax.set_yticks([])\n",
    "# ax.xaxis.set_ticks_position('bottom')\n",
    "# ax.set_xticks(np.arange(13))\n",
    "# ax.set_xticklabels(['', '6', ' ', '2', ' ', '-2', ' ', '-6', ' ', '-10', ' ', '-14', ' '])\n",
    "# ax.spines['top'].set_visible(False)\n",
    "# ax.spines['right'].set_visible(False)\n",
    "# ax.spines['left'].set_visible(False)\n",
    "\n",
    "# ax.text(0.5-0.1,0.15, materials[0], rotation = 90,  verticalalignment='bottom')\n",
    "# ax.text(1.5-0.2,0.15, materials[1], rotation = 90, verticalalignment='bottom')\n",
    "# ax.text(3.5-0.1,0.15, materials[2], rotation = 90,  verticalalignment='bottom')\n",
    "# ax.text(4-0.1,0.15, materials[3], rotation = 90, verticalalignment='bottom')\n",
    "# for i in range (4,8,1):\n",
    "#     ax.text(i+1-0.1,0.15, materials[i], rotation = 90, verticalalignment='bottom')\n",
    "    \n",
    "# for i in range (8,11,1):\n",
    "#     ax.text(i+1-0.1,0.15, materials[i], rotation = 90, verticalalignment='bottom')\n",
    "    \n",
    "# ax.set_xlabel(\"Log Conductivity (S/m)\")\n",
    "# for line in ax.xaxis.get_ticklines():\n",
    "#     line.set_markersize(10)\n",
    "#     line.set_markeredgewidth(2)\n",
    "# # fig.savefig(\"./LogCond.png\", dpi = 300)"
   ]
  },
  {
   "cell_type": "code",
   "execution_count": 7,
   "metadata": {
    "collapsed": false
   },
   "outputs": [],
   "source": [
    "# numx = np.random.random_integers(2, high=8, size=10)/10.*0.5 +0.25\n",
    "# numy = np.random.random_integers(2, high=8, size=10)/10.*0.5 +0.25\n",
    "# numxm = np.random.random_integers(2, high=8, size=10)/10.*0.5 +0.25\n",
    "# numym = np.random.random_integers(2, high=8, size=10)/10.*0.5 +0.25\n",
    "# fig, ax = plt.subplots(1,1, figsize = (8,4.5))\n",
    "# import matplotlib.patches as patches\n",
    "# ax.set_yticks([])\n",
    "# ax.set_xticks([])\n",
    "# ax.add_patch(\n",
    "#     patches.Rectangle(\n",
    "#         (0.25, 0.25),   # (x,y)\n",
    "#         0.5,          # width\n",
    "#         0.5,          # height\n",
    "#         facecolor=\"black\",\n",
    "#         alpha = 0.2\n",
    "#     )\n",
    "# )\n",
    "# for i in range (numx.size):\n",
    "# #     plt.plot(numx[i], numy[i],\"k+\", markersize = 5)\n",
    "#     plt.scatter(numx[i], numy[i], s = 100, marker =\"+\", lw = 2, color=\"k\")\n",
    "#     plt.scatter(numx[i], numy[i], s = 120, marker =\"o\", facecolor=\"None\")\n",
    "#     ax.arrow(numx[i], numy[i], 0.02, 0., head_width=0.02, head_length=0.01, fc='k', ec='k')\n",
    "# for i in range (11):\n",
    "#     plt.plot(np.r_[0.2, 0.22]+0.58, np.ones(2)*(i)*0.05+0.25, 'r-', lw=2)\n",
    "#     plt.scatter(np.r_[0.22], np.ones(1)*(i)*0.05+0.25, s=120, marker=\"+\", lw = 2)    \n",
    "# ax.arrow(0.1, 0.85, 0.85, 0., head_width=0.02, head_length=0.01, fc='k', ec='k')\n",
    "# ax.text(0.34, 0.9, \"Applied electric field\")\n",
    "# # ax.text(0.65, 0.65, \"Rock\")\n",
    "# plt.scatter(0.35, 0.12, s = 100, marker =\"+\", lw = 2, color=\"k\")\n",
    "# plt.scatter(0.35, 0.12, s = 120, marker =\"o\", facecolor=\"None\")\n",
    "\n",
    "# plt.plot(np.r_[0.35-0.01, 0.35+0.01], np.ones(2)*0.05, 'k-', lw=2)\n",
    "# plt.scatter(0.35, 0.05, s = 120, marker =\"o\", facecolor=\"None\")\n",
    "\n",
    "# ax.text(0.37, 0.1, \": Positive charge (+)\")\n",
    "# ax.text(0.37, 0.03, \": Negative charge (-)\")\n",
    "# ax.set_xlim(0,1)\n",
    "# ax.set_ylim(0,1)\n",
    "# # fig.savefig(\"./Chargeflow.png\", dpi = 300)\n",
    "# # os.system(\"open \" + \"./Chargeflow.png\")"
   ]
  },
  {
   "cell_type": "code",
   "execution_count": 8,
   "metadata": {
    "collapsed": false
   },
   "outputs": [],
   "source": [
    "# fig, ax = plt.subplots(1,1, figsize = (8,4.5))\n",
    "# import matplotlib.patches as patches\n",
    "# ax.set_yticks([])\n",
    "# ax.set_xticks([])\n",
    "# ax.add_patch(\n",
    "#     patches.Rectangle(\n",
    "#         (0.25, 0.25),   # (x,y)\n",
    "#         0.5,          # width\n",
    "#         0.1,          # height\n",
    "#         facecolor=\"black\",\n",
    "#         alpha = 0.2\n",
    "#     )\n",
    "# )\n",
    "\n",
    "# for i in range (10):\n",
    "#     plt.plot(np.r_[(i)*0.05+0.265, (i)*0.05+0.265+0.02], np.r_[0.33, 0.33], 'k-', lw=2)\n",
    "    \n",
    "# for i in range (5):\n",
    "#     plt.scatter(np.r_[(i)*0.1+0.3], np.r_[0.38], s = 100, marker =\"+\", lw = 2, color=\"k\")\n",
    "#     plt.scatter(np.r_[(i)*0.1+0.3], np.r_[0.38], s = 120, marker =\"o\", facecolor=\"None\")\n",
    "\n",
    "# for i in range (9):\n",
    "#     pert = np.r_[0.45]*np.random.randn(1)*0.05\n",
    "#     plt.scatter(np.r_[(i)*0.08+0.05], np.r_[0.5]+pert, s = 100, marker =\"+\", lw = 2, color=\"k\")\n",
    "#     plt.scatter(np.r_[(i)*0.08+0.05], np.r_[0.5]+pert, s = 120, marker =\"o\", facecolor=\"None\")    \n",
    "\n",
    "# for i in range (5):\n",
    "#     pert = np.r_[0.45]*np.random.randn(1)*0.05\n",
    "#     plt.scatter(np.r_[(i)*0.15+0.1], np.r_[0.65]+pert, s = 100, marker =\"+\", lw = 2, color=\"k\")\n",
    "#     plt.scatter(np.r_[(i)*0.15+0.1], np.r_[0.65]+pert, s = 120, marker =\"o\", facecolor=\"None\")    \n",
    "\n",
    "# for i in range (3):\n",
    "#     pert = np.r_[0.45]*np.random.randn(1)*0.05\n",
    "#     plt.scatter(np.r_[(i)*0.3+0.1], np.r_[0.8]+pert, s = 100, marker =\"+\", lw = 2, color=\"k\")\n",
    "#     plt.scatter(np.r_[(i)*0.3+0.1], np.r_[0.8]+pert, s = 120, marker =\"o\", facecolor=\"None\") \n",
    "    \n",
    "# ax.plot(np.r_[0.2,1.02], np.ones(2)*0.4, 'k:')\n",
    "\n",
    "# ax.plot(np.ones(2)*0.75, np.r_[0, 1.02], 'k:')\n",
    "# ax.text(0.8, 0.45, \"Diffuse layer\")\n",
    "# ax.text(0.8, 0.25, \"Fixed layer\")\n",
    "# ax.text(0.39, 0.08, \"CLAY PARTICLE\")\n",
    "\n",
    "# plt.scatter(0.8, 0.8, s = 100, marker =\"+\", lw = 2, color=\"k\")\n",
    "# plt.scatter(0.8, 0.8, s = 120, marker =\"o\", facecolor=\"None\")\n",
    "# ax.text(0.82, 0.8-0.01, \"ABSORBED CATIONS\", fontsize = 10)\n",
    "\n",
    "\n",
    "# ax.set_xlim(0.2,1.02)\n",
    "# ax.set_ylim(0,0.9)\n",
    "# # fig.savefig(\"./DoubleLayer.png\", dpi = 300)\n",
    "# # os.system(\"open \" + \"./DoubleLayer.png\")"
   ]
  },
  {
   "cell_type": "code",
   "execution_count": null,
   "metadata": {
    "collapsed": true
   },
   "outputs": [],
   "source": []
  }
 ],
 "metadata": {
  "anaconda-cloud": {},
  "kernelspec": {
   "display_name": "Python [default]",
   "language": "python",
   "name": "python2"
  },
  "language_info": {
   "codemirror_mode": {
    "name": "ipython",
    "version": 2
   },
   "file_extension": ".py",
   "mimetype": "text/x-python",
   "name": "python",
   "nbconvert_exporter": "python",
   "pygments_lexer": "ipython2",
   "version": "2.7.12"
  }
 },
 "nbformat": 4,
 "nbformat_minor": 0
}
